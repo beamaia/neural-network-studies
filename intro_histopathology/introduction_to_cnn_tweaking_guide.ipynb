{
 "cells": [
  {
   "cell_type": "code",
   "execution_count": 17,
   "metadata": {},
   "outputs": [],
   "source": [
    "from sklearn.feature_extraction import image"
   ]
  },
  {
   "cell_type": "code",
   "execution_count": 2,
   "metadata": {},
   "outputs": [],
   "source": [
    "from glob import glob\n",
    "import fnmatch\n",
    "import cv2"
   ]
  },
  {
   "cell_type": "code",
   "execution_count": 3,
   "metadata": {
    "collapsed": true
   },
   "outputs": [
    {
     "data": {
      "text/plain": [
       "['/home/bea/ic-redes-neurais/neural-network-studies/intro_histopathology',\n",
       " '/usr/lib/python38.zip',\n",
       " '/usr/lib/python3.8',\n",
       " '/usr/lib/python3.8/lib-dynload',\n",
       " '',\n",
       " '/home/bea/.local/lib/python3.8/site-packages',\n",
       " '/usr/local/lib/python3.8/dist-packages',\n",
       " '/usr/lib/python3/dist-packages',\n",
       " '/usr/lib/python3.8/dist-packages',\n",
       " '/home/bea/.local/lib/python3.8/site-packages/IPython/extensions',\n",
       " '/home/bea/.ipython']"
      ]
     },
     "execution_count": 3,
     "metadata": {},
     "output_type": "execute_result"
    }
   ],
   "source": [
    "import sys\n",
    "sys.path"
   ]
  },
  {
   "cell_type": "code",
   "execution_count": 19,
   "metadata": {
    "scrolled": true
   },
   "outputs": [],
   "source": [
    "test_image = cv2.imread(\"SOB_B_A-14-22549AB-400-001.png\")"
   ]
  },
  {
   "cell_type": "code",
   "execution_count": 6,
   "metadata": {},
   "outputs": [
    {
     "data": {
      "text/plain": [
       "(460, 700, 3)"
      ]
     },
     "execution_count": 6,
     "metadata": {},
     "output_type": "execute_result"
    }
   ],
   "source": [
    "test_image.shape"
   ]
  },
  {
   "cell_type": "code",
   "execution_count": 27,
   "metadata": {},
   "outputs": [],
   "source": [
    "patches = image.extract_patches_2d(test_image, (4,4), \n",
    "                                   max_patches = 115, \n",
    "                                   random_state = 0)"
   ]
  },
  {
   "cell_type": "code",
   "execution_count": 28,
   "metadata": {},
   "outputs": [
    {
     "data": {
      "text/plain": [
       "(115, 4, 4, 3)"
      ]
     },
     "execution_count": 28,
     "metadata": {},
     "output_type": "execute_result"
    }
   ],
   "source": [
    "patches.shape"
   ]
  },
  {
   "cell_type": "code",
   "execution_count": 29,
   "metadata": {
    "collapsed": true
   },
   "outputs": [
    {
     "data": {
      "text/plain": [
       "array([[[[205, 215, 202],\n",
       "         [203, 213, 200],\n",
       "         [203, 212, 199],\n",
       "         [204, 213, 200]],\n",
       "\n",
       "        [[204, 210, 199],\n",
       "         [205, 211, 200],\n",
       "         [205, 209, 198],\n",
       "         [207, 210, 201]],\n",
       "\n",
       "        [[200, 203, 194],\n",
       "         [203, 204, 195],\n",
       "         [205, 202, 197],\n",
       "         [208, 205, 200]],\n",
       "\n",
       "        [[193, 190, 186],\n",
       "         [197, 194, 189],\n",
       "         [199, 194, 193],\n",
       "         [198, 190, 190]]],\n",
       "\n",
       "\n",
       "       [[[194, 188, 193],\n",
       "         [191, 185, 190],\n",
       "         [192, 181, 189],\n",
       "         [190, 179, 187]],\n",
       "\n",
       "        [[194, 187, 194],\n",
       "         [191, 184, 191],\n",
       "         [192, 181, 189],\n",
       "         [187, 176, 184]],\n",
       "\n",
       "        [[195, 189, 194],\n",
       "         [194, 186, 193],\n",
       "         [189, 181, 188],\n",
       "         [190, 179, 187]],\n",
       "\n",
       "        [[196, 191, 193],\n",
       "         [195, 188, 193],\n",
       "         [191, 183, 190],\n",
       "         [188, 180, 187]]],\n",
       "\n",
       "\n",
       "       [[[201, 221, 202],\n",
       "         [196, 218, 199],\n",
       "         [198, 221, 199],\n",
       "         [197, 221, 197]],\n",
       "\n",
       "        [[198, 220, 201],\n",
       "         [198, 220, 201],\n",
       "         [198, 221, 199],\n",
       "         [195, 221, 198]],\n",
       "\n",
       "        [[198, 220, 201],\n",
       "         [198, 220, 201],\n",
       "         [197, 223, 200],\n",
       "         [195, 221, 198]],\n",
       "\n",
       "        [[198, 220, 201],\n",
       "         [198, 220, 201],\n",
       "         [198, 220, 201],\n",
       "         [198, 220, 201]]],\n",
       "\n",
       "\n",
       "       ...,\n",
       "\n",
       "\n",
       "       [[[184, 182, 188],\n",
       "         [188, 184, 190],\n",
       "         [191, 187, 193],\n",
       "         [191, 187, 193]],\n",
       "\n",
       "        [[186, 182, 188],\n",
       "         [187, 182, 191],\n",
       "         [190, 182, 192],\n",
       "         [190, 182, 192]],\n",
       "\n",
       "        [[185, 181, 187],\n",
       "         [188, 180, 190],\n",
       "         [189, 181, 191],\n",
       "         [189, 181, 191]],\n",
       "\n",
       "        [[188, 181, 188],\n",
       "         [187, 183, 189],\n",
       "         [187, 183, 189],\n",
       "         [190, 183, 190]]],\n",
       "\n",
       "\n",
       "       [[[194, 219, 199],\n",
       "         [196, 218, 199],\n",
       "         [198, 218, 199],\n",
       "         [198, 218, 199]],\n",
       "\n",
       "        [[196, 221, 201],\n",
       "         [197, 219, 200],\n",
       "         [196, 218, 199],\n",
       "         [196, 216, 197]],\n",
       "\n",
       "        [[196, 221, 201],\n",
       "         [197, 219, 200],\n",
       "         [197, 219, 200],\n",
       "         [196, 218, 199]],\n",
       "\n",
       "        [[196, 221, 201],\n",
       "         [197, 219, 200],\n",
       "         [197, 219, 200],\n",
       "         [197, 219, 200]]],\n",
       "\n",
       "\n",
       "       [[[191, 187, 186],\n",
       "         [193, 189, 188],\n",
       "         [195, 190, 191],\n",
       "         [195, 188, 191]],\n",
       "\n",
       "        [[191, 189, 188],\n",
       "         [191, 189, 188],\n",
       "         [196, 191, 192],\n",
       "         [195, 190, 191]],\n",
       "\n",
       "        [[190, 191, 189],\n",
       "         [190, 191, 189],\n",
       "         [192, 190, 190],\n",
       "         [196, 191, 192]],\n",
       "\n",
       "        [[190, 192, 192],\n",
       "         [190, 190, 190],\n",
       "         [193, 191, 191],\n",
       "         [197, 192, 193]]]], dtype=uint8)"
      ]
     },
     "execution_count": 29,
     "metadata": {},
     "output_type": "execute_result"
    }
   ],
   "source": [
    "patches"
   ]
  },
  {
   "cell_type": "code",
   "execution_count": 30,
   "metadata": {},
   "outputs": [],
   "source": [
    "reconstructed = image.reconstruct_from_patches_2d(patches,\n",
    "                                                          (test_image.shape))"
   ]
  },
  {
   "cell_type": "code",
   "execution_count": 33,
   "metadata": {},
   "outputs": [
    {
     "data": {
      "text/plain": [
       "(460, 700, 3)"
      ]
     },
     "execution_count": 33,
     "metadata": {},
     "output_type": "execute_result"
    }
   ],
   "source": [
    "reconstructed.shape"
   ]
  },
  {
   "cell_type": "code",
   "execution_count": 31,
   "metadata": {},
   "outputs": [],
   "source": [
    "import numpy as np"
   ]
  },
  {
   "cell_type": "code",
   "execution_count": 32,
   "metadata": {
    "scrolled": true
   },
   "outputs": [
    {
     "ename": "AssertionError",
     "evalue": "\nArrays are not equal\n\nMismatched elements: 965999 / 966000 (100%)\nMax absolute difference: 232.\nMax relative difference: 15.08290155\n x: array([[[182, 169, 193],\n        [184, 171, 197],\n        [184, 168, 199],...\n y: array([[[205.      , 215.      , 202.      ],\n        [198.5     , 200.5     , 196.5     ],\n        [198.333333, 206.      , 197.      ],...",
     "output_type": "error",
     "traceback": [
      "\u001b[0;31m---------------------------------------------------------------------------\u001b[0m",
      "\u001b[0;31mAssertionError\u001b[0m                            Traceback (most recent call last)",
      "\u001b[0;32m<ipython-input-32-97b4ea66b735>\u001b[0m in \u001b[0;36m<module>\u001b[0;34m\u001b[0m\n\u001b[0;32m----> 1\u001b[0;31m \u001b[0mnp\u001b[0m\u001b[0;34m.\u001b[0m\u001b[0mtesting\u001b[0m\u001b[0;34m.\u001b[0m\u001b[0massert_array_equal\u001b[0m\u001b[0;34m(\u001b[0m\u001b[0mone_image\u001b[0m\u001b[0;34m,\u001b[0m \u001b[0mreconstructed\u001b[0m\u001b[0;34m)\u001b[0m\u001b[0;34m\u001b[0m\u001b[0;34m\u001b[0m\u001b[0m\n\u001b[0m",
      "    \u001b[0;31m[... skipping hidden 2 frame]\u001b[0m\n",
      "\u001b[0;31mAssertionError\u001b[0m: \nArrays are not equal\n\nMismatched elements: 965999 / 966000 (100%)\nMax absolute difference: 232.\nMax relative difference: 15.08290155\n x: array([[[182, 169, 193],\n        [184, 171, 197],\n        [184, 168, 199],...\n y: array([[[205.      , 215.      , 202.      ],\n        [198.5     , 200.5     , 196.5     ],\n        [198.333333, 206.      , 197.      ],..."
     ]
    }
   ],
   "source": [
    "np.testing.assert_array_equal(one_image, reconstructed)"
   ]
  },
  {
   "cell_type": "code",
   "execution_count": 11,
   "metadata": {},
   "outputs": [],
   "source": [
    "from keras.preprocessing.image import ImageDataGenerator\n"
   ]
  },
  {
   "cell_type": "code",
   "execution_count": 13,
   "metadata": {},
   "outputs": [],
   "source": [
    "test_patch = ImageDataGenerator(\n",
    "    rotation_range=.06,\n",
    "    width_shift_range=0.02,\n",
    "    height_shift_range=0.02,\n",
    "    shear_range=0.0002,\n",
    "    zoom_range=0.0002,\n",
    "    horizontal_flip=True,\n",
    "    fill_mode='nearest',\n",
    "    rescale = 1/255.\n",
    "    )"
   ]
  },
  {
   "cell_type": "code",
   "execution_count": null,
   "metadata": {},
   "outputs": [],
   "source": []
  }
 ],
 "metadata": {
  "kernelspec": {
   "display_name": "Python 3",
   "language": "python",
   "name": "python3"
  },
  "language_info": {
   "codemirror_mode": {
    "name": "ipython",
    "version": 3
   },
   "file_extension": ".py",
   "mimetype": "text/x-python",
   "name": "python",
   "nbconvert_exporter": "python",
   "pygments_lexer": "ipython3",
   "version": "3.8.2"
  }
 },
 "nbformat": 4,
 "nbformat_minor": 4
}
