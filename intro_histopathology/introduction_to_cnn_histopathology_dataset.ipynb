{
 "cells": [
  {
   "cell_type": "markdown",
   "metadata": {
    "colab_type": "text",
    "id": "WVdd4DvCJwh-"
   },
   "source": [
    "This notebook is being used for studying purposes. I am following medium post\n",
    "[Predicting Invasive Ductal Carcinoma using Convolutional Neural Network (CNN) in Keras](https://towardsdatascience.com/predicting-invasive-ductal-carcinoma-using-convolutional-neural-network-cnn-in-keras-debb429de9a6) and the medium post's [github repository](https://github.com/bikramb98/invasive-ductal-carcinoma-cnn/blob/master/Predicting%20Invasive%20Ductal%20Carcinoma%20using%20CNN%20in%20Keras.ipynb) by Bikram Baruah. The dataset used can be found [here](http://www.andrewjanowczyk.com/use-case-6-invasive-ductal-carcinoma-idc-segmentation/)."
   ]
  },
  {
   "cell_type": "markdown",
   "metadata": {
    "colab_type": "text",
    "id": "FJPj39vEMexm"
   },
   "source": [
    "### Loading the dataset:\n",
    "\n",
    "---\n",
    "\n"
   ]
  },
  {
   "cell_type": "code",
   "execution_count": 1,
   "metadata": {
    "colab": {},
    "colab_type": "code",
    "executionInfo": {
     "elapsed": 590,
     "status": "ok",
     "timestamp": 1593805229425,
     "user": {
      "displayName": "Beatriz Maia",
      "photoUrl": "https://lh3.googleusercontent.com/a-/AOh14GhxQNP9ny3BXy8PZNnCblM_eSA_f0jjtPXxNo31LQ=s64",
      "userId": "05098118571026162549"
     },
     "user_tz": 180
    },
    "id": "1wAPPhLjKjOM"
   },
   "outputs": [],
   "source": [
    "from glob import glob\n",
    "import fnmatch\n",
    "import cv2"
   ]
  },
  {
   "cell_type": "markdown",
   "metadata": {},
   "source": [
    "<span style='color:blue'>\n",
    "    <b>Study Notes:</b></span>\n",
    "    \n",
    "glob module: [doc]( https://docs.python.org/3/library/glob.html)\n",
    "and [source](https://github.com/python/cpython/blob/3.8/Lib/glob.py)<br>\n",
    "fnmatch module: [doc](https://docs.python.org/3/library/fnmatch.html#fnmatch.fnmatch) and [source](https://github.com/python/cpython/blob/3.8/Lib/fnmatch.py)\n"
   ]
  },
  {
   "cell_type": "code",
   "execution_count": 2,
   "metadata": {
    "colab": {},
    "colab_type": "code",
    "id": "1dO0fLeEMWn3"
   },
   "outputs": [],
   "source": [
    "# Saves pathnames\n",
    "image_patches = glob('../idc_regular_ps50_idx5/IDC_regular_ps50_idx5/*/*/*.png')\n",
    "\n",
    "pattern_zero = '*class0.png'\n",
    "pattern_one = '*class1.png'"
   ]
  },
  {
   "cell_type": "markdown",
   "metadata": {},
   "source": [
    "<span style='color:blue'>\n",
    "    <b>Study Notes:</b></span>\n",
    "    \n",
    "The function glob is retrieving the files' pathnames according to a specific pattern. The variables pattern_[blank] are string variables that, as the name indicates, are going to be used to find files of a certain pattern. In this case, ending with either 'class0.png' or 'class1.png'."
   ]
  },
  {
   "cell_type": "code",
   "execution_count": 3,
   "metadata": {
    "scrolled": true
   },
   "outputs": [
    {
     "name": "stdout",
     "output_type": "stream",
     "text": [
      "Lenght: 277524 and exemple of path: ../idc_regular_ps50_idx5/IDC_regular_ps50_idx5/10276/1/10276_idx5_x651_y751_class1.png\n"
     ]
    }
   ],
   "source": [
    "print(f'Lenght: {len(image_patches)} and exemple of path: {image_patches[1]}')"
   ]
  },
  {
   "cell_type": "code",
   "execution_count": 4,
   "metadata": {
    "colab": {},
    "colab_type": "code",
    "id": "8ZOd7dwjM_rH"
   },
   "outputs": [],
   "source": [
    "# Saves the image file location of all images according to its class (0 or 1)\n",
    "class_zero = fnmatch.filter(image_patches, pattern_zero)\n",
    "class_one = fnmatch.filter(image_patches, pattern_one)"
   ]
  },
  {
   "cell_type": "markdown",
   "metadata": {},
   "source": [
    "<span style='color:blue'>\n",
    "    <b>Study Notes:</b></span>\n",
    "\n",
    "Here we're filtering the list of pathnames by its class.\n"
   ]
  },
  {
   "cell_type": "code",
   "execution_count": 5,
   "metadata": {},
   "outputs": [],
   "source": [
    "def process_images(lower_index, upper_index):\n",
    "    height, width, channels = 50, 50, 3\n",
    "    \n",
    "    x = [] #list to store image data\n",
    "    y = [] #list to store labels\n",
    "    \n",
    "    for img in image_patches[lower_index:upper_index]:\n",
    "        full_size_image = cv2.imread(img)\n",
    "        image = (cv2.resize(full_size_image, (width, height), interpolation = cv2.INTER_CUBIC))\n",
    "        \n",
    "        x.append(image)\n",
    "    \n",
    "        if img in class_zero:\n",
    "            y.append(0)\n",
    "        elif img in class_one:\n",
    "            y.append(1)\n",
    "        else:\n",
    "            return\n",
    "\n",
    "    return x, y"
   ]
  },
  {
   "cell_type": "markdown",
   "metadata": {},
   "source": [
    "<span style='color:blue'>\n",
    "    <b>Study Notes:</b></span>\n",
    "    \n",
    "Will have to look more into cv2 and OpenCV later. From what I've gathered, imread loads an image, as the name somewhat indicates. Now INTER_CUBIC seems to be a type of interpolation, I have found a little about it [here](https://chadrick-kwag.net/cv2-resize-interpolation-methods/), but will have to read and research it a little bit better. \n",
    "\n",
    "<span style='color:red'>Must come back later to this note.</span>"
   ]
  },
  {
   "cell_type": "code",
   "execution_count": 6,
   "metadata": {},
   "outputs": [],
   "source": [
    "X, Y = process_images(0, 60000)"
   ]
  },
  {
   "cell_type": "markdown",
   "metadata": {},
   "source": [
    "### Data preprocessing\n",
    "***"
   ]
  },
  {
   "cell_type": "code",
   "execution_count": 7,
   "metadata": {},
   "outputs": [],
   "source": [
    "import numpy as np\n",
    "from sklearn.model_selection import train_test_split"
   ]
  },
  {
   "cell_type": "markdown",
   "metadata": {},
   "source": [
    "<span style='color:blue'>\n",
    "    <b>Study Notes:</b></span>\n",
    "    \n",
    "More about train_test_split [here](https://scikit-learn.org/stable/modules/generated/sklearn.model_selection.train_test_split.html). But it's very self explanatory, it splits the arrays into random train and test subsets. Using the parameter test_size you can indicate the proportion of the dateset that will be included in the test subset. There is a train_size as well that works the same way, except for the train subset. There are other interesting parameters to try and test it out later. \n",
    "\n",
    "<span style='color:red'>Must come back later to this note.</span>\n",
    "\n"
   ]
  },
  {
   "cell_type": "code",
   "execution_count": 8,
   "metadata": {},
   "outputs": [],
   "source": [
    "X = np.array(X)\n",
    "X = X.astype(np.float32)\n",
    "X /= 255. # Ensures values between 0 and 1"
   ]
  },
  {
   "cell_type": "code",
   "execution_count": 10,
   "metadata": {},
   "outputs": [],
   "source": [
    "# Splits training and test set, reserves 15% of the dataset for testing\n",
    "x_train, x_test, y_train, y_test = train_test_split(X, Y, test_size = 0.15) "
   ]
  },
  {
   "cell_type": "code",
   "execution_count": 11,
   "metadata": {
    "scrolled": true
   },
   "outputs": [
    {
     "name": "stdout",
     "output_type": "stream",
     "text": [
      "There are 15240 1s and 35760 0s.\n",
      "Lenght: 51000\n"
     ]
    }
   ],
   "source": [
    "print(f'There are {y_train.count(1)} 1s and {y_train.count(0)} 0s.\\nLenght: {len(y_train)}')"
   ]
  },
  {
   "cell_type": "code",
   "execution_count": 9,
   "metadata": {},
   "outputs": [],
   "source": [
    "import keras\n",
    "from keras.utils import to_categorical"
   ]
  },
  {
   "cell_type": "markdown",
   "metadata": {},
   "source": [
    "<span style='color:blue'>\n",
    "    <b>Study Notes:</b></span>\n",
    "\n",
    "Here we are one-hot-enconding the output. For future reference, read [this](https://machinelearningmastery.com/why-one-hot-encode-data-in-machine-learning/)."
   ]
  },
  {
   "cell_type": "code",
   "execution_count": 10,
   "metadata": {},
   "outputs": [
    {
     "ename": "NameError",
     "evalue": "name 'y_train' is not defined",
     "output_type": "error",
     "traceback": [
      "\u001b[0;31m---------------------------------------------------------------------------\u001b[0m",
      "\u001b[0;31mNameError\u001b[0m                                 Traceback (most recent call last)",
      "\u001b[0;32m<ipython-input-10-54ac574217cd>\u001b[0m in \u001b[0;36m<module>\u001b[0;34m\u001b[0m\n\u001b[0;32m----> 1\u001b[0;31m \u001b[0my_train\u001b[0m \u001b[0;34m=\u001b[0m \u001b[0mto_categorical\u001b[0m\u001b[0;34m(\u001b[0m\u001b[0my_train\u001b[0m\u001b[0;34m)\u001b[0m\u001b[0;34m\u001b[0m\u001b[0;34m\u001b[0m\u001b[0m\n\u001b[0m\u001b[1;32m      2\u001b[0m \u001b[0my_test\u001b[0m \u001b[0;34m=\u001b[0m \u001b[0mto_categorical\u001b[0m\u001b[0;34m(\u001b[0m\u001b[0my_test\u001b[0m\u001b[0;34m)\u001b[0m\u001b[0;34m\u001b[0m\u001b[0;34m\u001b[0m\u001b[0m\n",
      "\u001b[0;31mNameError\u001b[0m: name 'y_train' is not defined"
     ]
    }
   ],
   "source": [
    "y_train = to_categorical(y_train)\n",
    "y_test = to_categorical(y_test)"
   ]
  },
  {
   "cell_type": "code",
   "execution_count": 13,
   "metadata": {},
   "outputs": [
    {
     "name": "stdout",
     "output_type": "stream",
     "text": [
      "x_train shape:(51000, 50, 50, 3)\n",
      "x_test shape:(9000, 50, 50, 3)\n"
     ]
    }
   ],
   "source": [
    "print(f'x_train shape:{x_train.shape}\\nx_test shape:{x_test.shape}')"
   ]
  },
  {
   "cell_type": "code",
   "execution_count": null,
   "metadata": {},
   "outputs": [],
   "source": [
    "x_train_flat = x_train.reshape(x_train.shape[0], -1)\n",
    "x_test_flat = x_test.reshape(x_test.shape[0], -1)"
   ]
  },
  {
   "cell_type": "code",
   "execution_count": 13,
   "metadata": {},
   "outputs": [
    {
     "data": {
      "text/plain": [
       "(9000, 7500)"
      ]
     },
     "execution_count": 13,
     "metadata": {},
     "output_type": "execute_result"
    }
   ],
   "source": [
    "x_test_flat.shape"
   ]
  },
  {
   "cell_type": "markdown",
   "metadata": {},
   "source": [
    "### Undersampling the data"
   ]
  },
  {
   "cell_type": "code",
   "execution_count": null,
   "metadata": {},
   "outputs": [],
   "source": [
    "from imblearn.under_sampling import RandomUnderSampler"
   ]
  },
  {
   "cell_type": "markdown",
   "metadata": {},
   "source": [
    "<span style='color:blue'>\n",
    "    <b>Study Notes</b></span>\n",
    "\n",
    "RandomUnderSampler [doc](https://imbalanced-learn.readthedocs.io/en/stable/generated/imblearn.under_sampling.RandomUnderSampler.html). A little bit about under-sampling [here](https://imbalanced-learn.readthedocs.io/en/stable/under_sampling.html) and imbalanced classification [here](https://machinelearningmastery.com/random-oversampling-and-undersampling-for-imbalanced-classification/) and [here](https://www.kaggle.com/residentmario/undersampling-and-oversampling-imbalanced-data).\n",
    "\n",
    "In under-sampling we have the removal ou some of the enxemples from the majority class and in over-sampling we have the duplication of some of the examples of the minority class. For imbalanced classification problems, one might transform the dataset randomly by either oversampling or undersampling.\n",
    "\n",
    "For more about the subject, maybe check out [Learning from Imbalanced Data Sets](https://towardsdatascience.com/learning-from-imbalanced-datasets-b601a1f1e154) more carefully later (check the resources as well).\n",
    "\n",
    "<span style='color:red'>Must come back later to this note.</span>"
   ]
  },
  {
   "cell_type": "code",
   "execution_count": null,
   "metadata": {},
   "outputs": [],
   "source": [
    "random_under_sampler = RandomUnderSampler(sampling_strategy='majority')\n"
   ]
  },
  {
   "cell_type": "markdown",
   "metadata": {},
   "source": [
    "<span style='color:red'>\n",
    "    <b>Obs Notes</b></span>\n",
    "    \n",
    "Ratio has been deprecate since version 0.4. Use the parameter sampling strategy instead."
   ]
  },
  {
   "cell_type": "code",
   "execution_count": null,
   "metadata": {
    "scrolled": true
   },
   "outputs": [],
   "source": [
    "x_trainRus, y_trainRus = random_under_sampler.fit_sample(x_train_flat, y_train)\n",
    "x_testRus, y_testRus = random_under_sampler.fit_sample(x_test_flat, y_test)"
   ]
  },
  {
   "cell_type": "code",
   "execution_count": null,
   "metadata": {
    "scrolled": true
   },
   "outputs": [],
   "source": [
    "print(f'Shapes:\\nx_trainRus: {x_trainRus.shape}')\n",
    "print(f'y_trainRus: {y_trainRus.shape}')\n",
    "print(f'x_testRus: {x_testRus.shape}')\n",
    "print(f'y_testRus: {y_testRus.shape}')\n",
    "print(f'x_train: {x_train.shape}')\n",
    "print(f'x_test: {x_test.shape}')"
   ]
  },
  {
   "cell_type": "code",
   "execution_count": null,
   "metadata": {},
   "outputs": [],
   "source": [
    "y_trainRus_hot = to_categorical(y_trainRus, num_classes=2)\n",
    "y_testRus_hot = to_categorical(y_testRus, num_classes = 2)"
   ]
  },
  {
   "cell_type": "code",
   "execution_count": 21,
   "metadata": {},
   "outputs": [
    {
     "data": {
      "text/plain": [
       "(array([0., 1.], dtype=float32), array([30490, 30490]))"
      ]
     },
     "execution_count": 21,
     "metadata": {},
     "output_type": "execute_result"
    }
   ],
   "source": [
    "np.unique(y_trainRus_hot, return_counts=True)"
   ]
  },
  {
   "cell_type": "code",
   "execution_count": 22,
   "metadata": {},
   "outputs": [
    {
     "data": {
      "text/plain": [
       "(array([0., 1.], dtype=float32), array([5300, 5300]))"
      ]
     },
     "execution_count": 22,
     "metadata": {},
     "output_type": "execute_result"
    }
   ],
   "source": [
    "np.unique(y_testRus_hot, return_counts=True)"
   ]
  },
  {
   "cell_type": "code",
   "execution_count": null,
   "metadata": {},
   "outputs": [],
   "source": [
    "height, width, channels = 50,50,3\n",
    "for i in range(len(x_trainRus)):\n",
    "    x_trainRus_reshaped = x_trainRus.reshape(len(x_trainRus), height, width, channels)\n",
    "\n",
    "for i in range(len(x_testRus)):\n",
    "    x_testRus_reshaped = x_testRus.reshape(len(x_testRus), height, width, channels)"
   ]
  },
  {
   "cell_type": "code",
   "execution_count": 24,
   "metadata": {},
   "outputs": [
    {
     "data": {
      "text/plain": [
       "(5300, 50, 50, 3)"
      ]
     },
     "execution_count": 24,
     "metadata": {},
     "output_type": "execute_result"
    }
   ],
   "source": [
    "x_testRus_reshaped.shape"
   ]
  },
  {
   "cell_type": "markdown",
   "metadata": {},
   "source": [
    "### Model Architecture\n",
    "***"
   ]
  },
  {
   "cell_type": "code",
   "execution_count": null,
   "metadata": {},
   "outputs": [],
   "source": [
    "batch_size = 256\n",
    "num_classes = 2\n",
    "epochs = 50"
   ]
  },
  {
   "cell_type": "code",
   "execution_count": null,
   "metadata": {},
   "outputs": [],
   "source": [
    "from keras.models import Sequential\n"
   ]
  },
  {
   "cell_type": "markdown",
   "metadata": {},
   "source": [
    "<span style='color:blue'>\n",
    "    <b>Study Notes</b></span>\n",
    "\n",
    "More about Sequential: [doc](https://keras.io/api/models/sequential/) and [guide](https://keras.io/guides/sequential_model/)."
   ]
  },
  {
   "cell_type": "code",
   "execution_count": 33,
   "metadata": {},
   "outputs": [],
   "source": [
    "model = Sequential()"
   ]
  },
  {
   "cell_type": "code",
   "execution_count": 29,
   "metadata": {},
   "outputs": [
    {
     "data": {
      "text/plain": [
       "[]"
      ]
     },
     "execution_count": 29,
     "metadata": {},
     "output_type": "execute_result"
    }
   ],
   "source": [
    "model.layers"
   ]
  },
  {
   "cell_type": "code",
   "execution_count": null,
   "metadata": {},
   "outputs": [],
   "source": [
    "from keras.layers import Conv2D, MaxPooling2D"
   ]
  },
  {
   "cell_type": "markdown",
   "metadata": {},
   "source": [
    "<span style='color:blue'>\n",
    "    <b>Study Notes</b></span>\n",
    "    \n",
    "Need to look more into Conv2D and MaxPooling2D. "
   ]
  },
  {
   "cell_type": "code",
   "execution_count": null,
   "metadata": {},
   "outputs": [],
   "source": [
    "model.add(Conv2D(32, kernel_size=(3,3),\n",
    "                 activation='relu',\n",
    "                 input_shape=(50,50,3)))"
   ]
  },
  {
   "cell_type": "code",
   "execution_count": 32,
   "metadata": {
    "scrolled": false
   },
   "outputs": [
    {
     "data": {
      "text/plain": [
       "[<tensorflow.python.keras.layers.convolutional.Conv2D at 0x7ff4faf043a0>]"
      ]
     },
     "execution_count": 32,
     "metadata": {},
     "output_type": "execute_result"
    }
   ],
   "source": [
    "model.layers"
   ]
  },
  {
   "cell_type": "code",
   "execution_count": 33,
   "metadata": {},
   "outputs": [
    {
     "data": {
      "text/plain": [
       "list"
      ]
     },
     "execution_count": 33,
     "metadata": {},
     "output_type": "execute_result"
    }
   ],
   "source": [
    "type(model.layers)"
   ]
  },
  {
   "cell_type": "code",
   "execution_count": null,
   "metadata": {},
   "outputs": [],
   "source": [
    "from keras.layers import Dense, Dropout, Flatten\n",
    "from keras.preprocessing.image import ImageDataGenerator"
   ]
  },
  {
   "cell_type": "code",
   "execution_count": 35,
   "metadata": {},
   "outputs": [],
   "source": [
    "model.add(MaxPooling2D(pool_size=(2, 2)))\n",
    "model.add(Conv2D(64, (3,3), activation='relu'))\n",
    "model.add(MaxPooling2D(pool_size=(2,2)))\n",
    "model.add(Conv2D(128, (3, 3), activation='relu'))\n",
    "model.add(Conv2D(256, (3, 3), activation='relu'))\n",
    "model.add(Flatten()) #this converts our 3D feature maps to 1D feature vectors for the dense layer below\n",
    "model.add(Dropout(0.5))\n",
    "model.add(Dense(128, activation='relu'))\n",
    "model.add(Dropout(0.5))\n",
    "model.add(Dense(128, activation='relu'))\n",
    "model.add(Dense(num_classes, activation='sigmoid'))"
   ]
  },
  {
   "cell_type": "markdown",
   "metadata": {},
   "source": [
    "<span style='color:blue'>\n",
    "<b>Study notes</b></span>\n",
    "\n",
    "Must look into the order the layers were added later on. [Here](https://keras.io/api/layers/convolution_layers/) you can see different convolution layers classes with Conv2D [here](https://keras.io/api/layers/convolution_layers/convolution2d/). [Here](https://keras.io/api/layers/pooling_layers/) pooling layers and [here](https://keras.io/api/layers/pooling_layers/max_pooling2d/) the MaxPooling2d layer class."
   ]
  },
  {
   "cell_type": "code",
   "execution_count": 36,
   "metadata": {},
   "outputs": [],
   "source": [
    "model.compile(loss=keras.losses.binary_crossentropy,\n",
    "              optimizer=keras.optimizers.Adam(lr=0.00001),\n",
    "              metrics=['accuracy'])"
   ]
  },
  {
   "cell_type": "code",
   "execution_count": 37,
   "metadata": {},
   "outputs": [],
   "source": [
    "datagen = ImageDataGenerator(\n",
    "    featurewise_center=True,\n",
    "    featurewise_std_normalization=True,\n",
    "    rotation_range=180,\n",
    "    horizontal_flip=True,vertical_flip = True)"
   ]
  },
  {
   "cell_type": "markdown",
   "metadata": {},
   "source": [
    "<span style='color:blue'>\n",
    "<b>Study notes</b></span>\n",
    "\n",
    "[Here](https://keras.io/api/metrics/) you can find a bit more about metrics in general and the compile() method. And [here](https://www.tensorflow.org/api_docs/python/tf/keras/preprocessing/image/ImageDataGenerator) and [here](https://machinelearningmastery.com/how-to-configure-image-data-augmentation-when-training-deep-learning-neural-networks/) about image data augmentation in keras."
   ]
  },
  {
   "cell_type": "code",
   "execution_count": 38,
   "metadata": {},
   "outputs": [],
   "source": [
    "from keras.callbacks import EarlyStopping, ModelCheckpoint\n",
    "\n",
    "early_stopping_monitor = EarlyStopping(monitor='val_loss', patience=3, mode='min')\n",
    "model_checkpoint = ModelCheckpoint('best_model2.h5', monitor='val_loss', mode='min', verbose=1, save_best_only=True)"
   ]
  },
  {
   "cell_type": "markdown",
   "metadata": {},
   "source": [
    "With `callbacks=[early_stopping_monitor, model_checkpoint]`"
   ]
  },
  {
   "cell_type": "code",
   "execution_count": 39,
   "metadata": {
    "scrolled": true
   },
   "outputs": [
    {
     "name": "stdout",
     "output_type": "stream",
     "text": [
      "WARNING:tensorflow:From <ipython-input-39-b094774774c5>:1: Model.fit_generator (from tensorflow.python.keras.engine.training) is deprecated and will be removed in a future version.\n",
      "Instructions for updating:\n",
      "Please use Model.fit, which supports generators.\n"
     ]
    },
    {
     "name": "stderr",
     "output_type": "stream",
     "text": [
      "/home/bea/.local/lib/python3.8/site-packages/keras_preprocessing/image/image_data_generator.py:720: UserWarning: This ImageDataGenerator specifies `featurewise_center`, but it hasn't been fit on any training data. Fit it first by calling `.fit(numpy_data)`.\n",
      "  warnings.warn('This ImageDataGenerator specifies '\n",
      "/home/bea/.local/lib/python3.8/site-packages/keras_preprocessing/image/image_data_generator.py:728: UserWarning: This ImageDataGenerator specifies `featurewise_std_normalization`, but it hasn't been fit on any training data. Fit it first by calling `.fit(numpy_data)`.\n",
      "  warnings.warn('This ImageDataGenerator specifies '\n"
     ]
    },
    {
     "name": "stdout",
     "output_type": "stream",
     "text": [
      "Epoch 1/50\n",
      "120/119 [==============================] - 110s 914ms/step - loss: 0.6911 - accuracy: 0.5095 - val_loss: 0.6848 - val_accuracy: 0.5002\n",
      "Epoch 2/50\n",
      "120/119 [==============================] - 108s 899ms/step - loss: 0.6717 - accuracy: 0.6134 - val_loss: 0.6228 - val_accuracy: 0.7220\n",
      "Epoch 3/50\n",
      "120/119 [==============================] - 107s 890ms/step - loss: 0.5899 - accuracy: 0.7235 - val_loss: 0.5184 - val_accuracy: 0.7548\n",
      "Epoch 4/50\n",
      "120/119 [==============================] - 106s 882ms/step - loss: 0.5249 - accuracy: 0.7564 - val_loss: 0.4842 - val_accuracy: 0.7746\n",
      "Epoch 5/50\n",
      "120/119 [==============================] - 107s 892ms/step - loss: 0.5048 - accuracy: 0.7688 - val_loss: 0.4754 - val_accuracy: 0.7793\n",
      "Epoch 6/50\n",
      "120/119 [==============================] - 103s 857ms/step - loss: 0.4939 - accuracy: 0.7766 - val_loss: 0.4891 - val_accuracy: 0.7716\n",
      "Epoch 7/50\n",
      "120/119 [==============================] - 103s 858ms/step - loss: 0.4873 - accuracy: 0.7775 - val_loss: 0.4746 - val_accuracy: 0.7766\n",
      "Epoch 8/50\n",
      "120/119 [==============================] - 103s 861ms/step - loss: 0.4826 - accuracy: 0.7824 - val_loss: 0.4728 - val_accuracy: 0.7774\n",
      "Epoch 9/50\n",
      "120/119 [==============================] - 109s 912ms/step - loss: 0.4807 - accuracy: 0.7837 - val_loss: 0.5417 - val_accuracy: 0.7305\n",
      "Epoch 10/50\n",
      "120/119 [==============================] - 102s 850ms/step - loss: 0.4792 - accuracy: 0.7835 - val_loss: 0.4768 - val_accuracy: 0.7742\n",
      "Epoch 11/50\n",
      "120/119 [==============================] - 111s 925ms/step - loss: 0.4773 - accuracy: 0.7865 - val_loss: 0.4750 - val_accuracy: 0.7770\n",
      "Epoch 12/50\n",
      "120/119 [==============================] - 109s 908ms/step - loss: 0.4757 - accuracy: 0.7866 - val_loss: 0.4631 - val_accuracy: 0.7814\n",
      "Epoch 13/50\n",
      "120/119 [==============================] - 103s 861ms/step - loss: 0.4746 - accuracy: 0.7886 - val_loss: 0.4628 - val_accuracy: 0.7808\n",
      "Epoch 14/50\n",
      "120/119 [==============================] - 104s 864ms/step - loss: 0.4719 - accuracy: 0.7890 - val_loss: 0.4854 - val_accuracy: 0.7727\n",
      "Epoch 15/50\n",
      "120/119 [==============================] - 103s 857ms/step - loss: 0.4715 - accuracy: 0.7892 - val_loss: 0.4674 - val_accuracy: 0.7787\n",
      "Epoch 16/50\n",
      "120/119 [==============================] - 103s 860ms/step - loss: 0.4699 - accuracy: 0.7886 - val_loss: 0.4605 - val_accuracy: 0.7861\n",
      "Epoch 17/50\n",
      "120/119 [==============================] - 103s 861ms/step - loss: 0.4694 - accuracy: 0.7899 - val_loss: 0.4620 - val_accuracy: 0.7812\n",
      "Epoch 18/50\n",
      "120/119 [==============================] - 103s 860ms/step - loss: 0.4674 - accuracy: 0.7914 - val_loss: 0.4696 - val_accuracy: 0.7768\n",
      "Epoch 19/50\n",
      "120/119 [==============================] - 103s 861ms/step - loss: 0.4682 - accuracy: 0.7919 - val_loss: 0.4584 - val_accuracy: 0.7817\n",
      "Epoch 20/50\n",
      "120/119 [==============================] - 103s 861ms/step - loss: 0.4636 - accuracy: 0.7923 - val_loss: 0.4605 - val_accuracy: 0.7825\n",
      "Epoch 21/50\n",
      "120/119 [==============================] - 105s 872ms/step - loss: 0.4647 - accuracy: 0.7918 - val_loss: 0.4788 - val_accuracy: 0.7734\n",
      "Epoch 22/50\n",
      "120/119 [==============================] - 105s 874ms/step - loss: 0.4631 - accuracy: 0.7927 - val_loss: 0.4600 - val_accuracy: 0.7812\n",
      "Epoch 23/50\n",
      "120/119 [==============================] - 105s 873ms/step - loss: 0.4624 - accuracy: 0.7918 - val_loss: 0.4591 - val_accuracy: 0.7819\n",
      "Epoch 24/50\n",
      "120/119 [==============================] - 105s 873ms/step - loss: 0.4622 - accuracy: 0.7924 - val_loss: 0.4643 - val_accuracy: 0.7787\n",
      "Epoch 25/50\n",
      "120/119 [==============================] - 105s 879ms/step - loss: 0.4602 - accuracy: 0.7932 - val_loss: 0.4710 - val_accuracy: 0.7753\n",
      "Epoch 26/50\n",
      "120/119 [==============================] - 106s 881ms/step - loss: 0.4582 - accuracy: 0.7950 - val_loss: 0.4971 - val_accuracy: 0.7550\n",
      "Epoch 27/50\n",
      "120/119 [==============================] - 106s 883ms/step - loss: 0.4586 - accuracy: 0.7944 - val_loss: 0.4528 - val_accuracy: 0.7881\n",
      "Epoch 28/50\n",
      "120/119 [==============================] - 105s 877ms/step - loss: 0.4579 - accuracy: 0.7944 - val_loss: 0.4564 - val_accuracy: 0.7825\n",
      "Epoch 29/50\n",
      "120/119 [==============================] - 105s 873ms/step - loss: 0.4549 - accuracy: 0.7949 - val_loss: 0.4586 - val_accuracy: 0.7812\n",
      "Epoch 30/50\n",
      "120/119 [==============================] - 105s 877ms/step - loss: 0.4551 - accuracy: 0.7962 - val_loss: 0.4705 - val_accuracy: 0.7729\n",
      "Epoch 31/50\n",
      "120/119 [==============================] - 103s 855ms/step - loss: 0.4538 - accuracy: 0.7956 - val_loss: 0.4585 - val_accuracy: 0.7831\n",
      "Epoch 32/50\n",
      "120/119 [==============================] - 103s 855ms/step - loss: 0.4526 - accuracy: 0.7954 - val_loss: 0.4550 - val_accuracy: 0.7847\n",
      "Epoch 33/50\n",
      "120/119 [==============================] - 104s 866ms/step - loss: 0.4528 - accuracy: 0.7965 - val_loss: 0.4606 - val_accuracy: 0.7789\n",
      "Epoch 34/50\n",
      "120/119 [==============================] - 103s 862ms/step - loss: 0.4497 - accuracy: 0.7984 - val_loss: 0.4517 - val_accuracy: 0.7851\n",
      "Epoch 35/50\n",
      "120/119 [==============================] - 107s 891ms/step - loss: 0.4490 - accuracy: 0.7976 - val_loss: 0.4547 - val_accuracy: 0.7847\n",
      "Epoch 36/50\n",
      "120/119 [==============================] - 103s 858ms/step - loss: 0.4476 - accuracy: 0.7983 - val_loss: 0.4565 - val_accuracy: 0.7798\n",
      "Epoch 37/50\n",
      "120/119 [==============================] - 103s 856ms/step - loss: 0.4478 - accuracy: 0.8007 - val_loss: 0.4534 - val_accuracy: 0.7838\n",
      "Epoch 38/50\n",
      "120/119 [==============================] - 113s 944ms/step - loss: 0.4467 - accuracy: 0.7989 - val_loss: 0.4455 - val_accuracy: 0.7891\n",
      "Epoch 39/50\n",
      "120/119 [==============================] - 121s 1s/step - loss: 0.4456 - accuracy: 0.7990 - val_loss: 0.4892 - val_accuracy: 0.7667\n",
      "Epoch 40/50\n",
      "120/119 [==============================] - 108s 896ms/step - loss: 0.4447 - accuracy: 0.8001 - val_loss: 0.4434 - val_accuracy: 0.7902\n",
      "Epoch 41/50\n",
      "120/119 [==============================] - 110s 920ms/step - loss: 0.4448 - accuracy: 0.7987 - val_loss: 0.4494 - val_accuracy: 0.7851\n",
      "Epoch 42/50\n",
      "120/119 [==============================] - 115s 961ms/step - loss: 0.4451 - accuracy: 0.8002 - val_loss: 0.4581 - val_accuracy: 0.7802\n",
      "Epoch 43/50\n",
      "120/119 [==============================] - 116s 969ms/step - loss: 0.4415 - accuracy: 0.8016 - val_loss: 0.4710 - val_accuracy: 0.7744\n",
      "Epoch 44/50\n",
      "120/119 [==============================] - 118s 982ms/step - loss: 0.4404 - accuracy: 0.8034 - val_loss: 0.4529 - val_accuracy: 0.7851\n",
      "Epoch 45/50\n",
      "120/119 [==============================] - 116s 968ms/step - loss: 0.4398 - accuracy: 0.8034 - val_loss: 0.4439 - val_accuracy: 0.7878\n",
      "Epoch 46/50\n",
      "120/119 [==============================] - 113s 938ms/step - loss: 0.4392 - accuracy: 0.8024 - val_loss: 0.4370 - val_accuracy: 0.7927\n",
      "Epoch 47/50\n",
      "120/119 [==============================] - 110s 915ms/step - loss: 0.4371 - accuracy: 0.8043 - val_loss: 0.4512 - val_accuracy: 0.7878\n",
      "Epoch 48/50\n",
      "120/119 [==============================] - 111s 923ms/step - loss: 0.4358 - accuracy: 0.8047 - val_loss: 0.4463 - val_accuracy: 0.7921\n",
      "Epoch 49/50\n",
      "120/119 [==============================] - 103s 856ms/step - loss: 0.4349 - accuracy: 0.8084 - val_loss: 0.4521 - val_accuracy: 0.7887\n",
      "Epoch 50/50\n",
      "120/119 [==============================] - 102s 847ms/step - loss: 0.4327 - accuracy: 0.8073 - val_loss: 0.4601 - val_accuracy: 0.7863\n"
     ]
    }
   ],
   "source": [
    "training = model.fit_generator(datagen.flow(x_trainRus_reshaped,y_trainRus_hot,batch_size=batch_size),\n",
    "                    steps_per_epoch=len(x_trainRus_reshaped) / batch_size, epochs=epochs,validation_data=(x_testRus_reshaped, y_testRus_hot), verbose=1)"
   ]
  },
  {
   "cell_type": "markdown",
   "metadata": {},
   "source": [
    "<span style='color:blue'>\n",
    "<b>Study notes</b></span>\n",
    "\n",
    "Have to change and use `fit` instead of `fit_generator` and look more into the method [here](https://keras.rstudio.com/reference/fit.html). fit_generator doc [here](https://keras.rstudio.com/reference/fit_generator.html).\n",
    "[this](https://keras.io/guides/training_with_built_in_methods/)"
   ]
  },
  {
   "cell_type": "code",
   "execution_count": 41,
   "metadata": {},
   "outputs": [],
   "source": [
    "import matplotlib.pyplot as plt"
   ]
  },
  {
   "cell_type": "code",
   "execution_count": 45,
   "metadata": {
    "scrolled": true
   },
   "outputs": [
    {
     "data": {
      "image/png": "[encoded data removed]",
      "text/plain": [
       "<Figure size 432x288 with 1 Axes>"
      ]
     },
     "metadata": {
      "needs_background": "light"
     },
     "output_type": "display_data"
    }
   ],
   "source": [
    "# plt.plot(training.history['loss'])\n",
    "# plt.plot(training.history['val_loss'])\n",
    "# plt.title('Model loss')\n",
    "# plt.ylabel('loss')\n",
    "# plt.xlabel('epoch')\n",
    "# plt.legend(['train','test'], loc='upper left')\n",
    "# plt.show()"
   ]
  },
  {
   "cell_type": "markdown",
   "metadata": {},
   "source": [
    "<span style='color:blue'>\n",
    "<b>Study notes</b></span>\n",
    "\n",
    "Third attempt at the model, with `callbacks=[early_stopping_monitor, model_checkpoint]` in training model. The kernel crashed quite a few times. Need to read more about EarlyStopping and ModelCheckpoint in order to properly understand the graph and why there were so few epochs."
   ]
  },
  {
   "cell_type": "code",
   "execution_count": 33,
   "metadata": {
    "scrolled": false
   },
   "outputs": [
    {
     "data": {
      "image/png": "[encoded data removed]",
      "text/plain": [
       "<Figure size 432x288 with 1 Axes>"
      ]
     },
     "metadata": {
      "needs_background": "light"
     },
     "output_type": "display_data"
    }
   ],
   "source": [
    "plt.plot(training.history['loss'])\n",
    "plt.plot(training.history['val_loss'])\n",
    "plt.title('Model loss (4th Attempt)')\n",
    "plt.ylabel('loss')\n",
    "plt.xlabel('epoch')\n",
    "plt.legend(['train','test'], loc='upper left')\n",
    "plt.show()"
   ]
  },
  {
   "cell_type": "markdown",
   "metadata": {},
   "source": [
    "<span style='color:blue'>\n",
    "<b>Study notes</b></span>\n",
    "\n",
    "Forth attempt at the model, with `callbacks=[early_stopping_monitor, model_checkpoint]` in training model in a different distro (mint instead of ubuntu), there were 13 epochs. "
   ]
  },
  {
   "cell_type": "code",
   "execution_count": 42,
   "metadata": {},
   "outputs": [
    {
     "data": {
      "image/png": "[encoded data removed]",
      "text/plain": [
       "<Figure size 432x288 with 1 Axes>"
      ]
     },
     "metadata": {
      "needs_background": "light"
     },
     "output_type": "display_data"
    }
   ],
   "source": [
    "plt.plot(training.history['loss'])\n",
    "plt.plot(training.history['val_loss'])\n",
    "plt.title('Model loss (5th Attempt)')\n",
    "plt.ylabel('loss')\n",
    "plt.xlabel('epoch')\n",
    "plt.legend(['train','test'], loc='upper left')\n",
    "plt.show()\n",
    "\n",
    "## Have to try again tomorrow\n"
   ]
  },
  {
   "cell_type": "markdown",
   "metadata": {},
   "source": [
    "<span style='color:blue'>\n",
    "<b>Study notes</b></span>\n",
    "\n",
    "Fifth attempt at the model, but without early_stopping_monitor and model_checkpoint. I wanted to see how it would influence and if there would be any major difference."
   ]
  },
  {
   "cell_type": "code",
   "execution_count": 44,
   "metadata": {
    "scrolled": true
   },
   "outputs": [
    {
     "name": "stdout",
     "output_type": "stream",
     "text": [
      "Model: \"sequential_1\"\n",
      "_________________________________________________________________\n",
      "Layer (type)                 Output Shape              Param #   \n",
      "=================================================================\n",
      "conv2d_6 (Conv2D)            (None, 48, 48, 32)        896       \n",
      "_________________________________________________________________\n",
      "max_pooling2d_4 (MaxPooling2 (None, 24, 24, 32)        0         \n",
      "_________________________________________________________________\n",
      "conv2d_7 (Conv2D)            (None, 22, 22, 64)        18496     \n",
      "_________________________________________________________________\n",
      "max_pooling2d_5 (MaxPooling2 (None, 11, 11, 64)        0         \n",
      "_________________________________________________________________\n",
      "conv2d_8 (Conv2D)            (None, 9, 9, 128)         73856     \n",
      "_________________________________________________________________\n",
      "conv2d_9 (Conv2D)            (None, 7, 7, 256)         295168    \n",
      "_________________________________________________________________\n",
      "flatten (Flatten)            (None, 12544)             0         \n",
      "_________________________________________________________________\n",
      "dropout (Dropout)            (None, 12544)             0         \n",
      "_________________________________________________________________\n",
      "dense (Dense)                (None, 128)               1605760   \n",
      "_________________________________________________________________\n",
      "dropout_1 (Dropout)          (None, 128)               0         \n",
      "_________________________________________________________________\n",
      "dense_1 (Dense)              (None, 128)               16512     \n",
      "_________________________________________________________________\n",
      "dense_2 (Dense)              (None, 2)                 258       \n",
      "=================================================================\n",
      "Total params: 2,010,946\n",
      "Trainable params: 2,010,946\n",
      "Non-trainable params: 0\n",
      "_________________________________________________________________\n"
     ]
    }
   ],
   "source": [
    "model.summary()"
   ]
  },
  {
   "cell_type": "code",
   "execution_count": 47,
   "metadata": {},
   "outputs": [],
   "source": [
    "from keras.models import load_model\n",
    "from sklearn import metrics\n",
    "model = load_model('best_model.h5')\n",
    "y_pred_one_hot = model.predict(x_testRus_reshaped)\n",
    "y_pred_labels = np.argmax(y_pred_one_hot, axis = 1)\n",
    "y_true_labels = np.argmax(y_testRus_hot,axis=1)"
   ]
  },
  {
   "cell_type": "code",
   "execution_count": 48,
   "metadata": {},
   "outputs": [],
   "source": [
    "confusion_matrix = metrics.confusion_matrix(y_true=y_true_labels, y_pred=y_pred_labels)"
   ]
  },
  {
   "cell_type": "code",
   "execution_count": 49,
   "metadata": {
    "scrolled": true
   },
   "outputs": [
    {
     "data": {
      "text/plain": [
       "array([[2075,  580],\n",
       "       [ 546, 2109]])"
      ]
     },
     "execution_count": 49,
     "metadata": {},
     "output_type": "execute_result"
    }
   ],
   "source": [
    "confusion_matrix"
   ]
  },
  {
   "cell_type": "code",
   "execution_count": 56,
   "metadata": {},
   "outputs": [
    {
     "name": "stdout",
     "output_type": "stream",
     "text": [
      "Predicted malignant and actually malignant (True Positive): 2075\n",
      "Predicted malignant but actually benign (False Postive): 580\n",
      "Predicted benign but actually malignant (False Negative): 546\n",
      "Predicted begnign and actually benign (True Negative): 2109\n"
     ]
    }
   ],
   "source": [
    "print(f'Predicted malignant and actually malignant (True Positive): {confusion_matrix[0,0]}')\n",
    "print(f'Predicted malignant but actually benign (False Postive): {confusion_matrix[0,1]}')\n",
    "print(f'Predicted benign but actually malignant (False Negative): {confusion_matrix[1,0]}')\n",
    "print(f'Predicted begnign and actually benign (True Negative): {confusion_matrix[1,1]}')"
   ]
  },
  {
   "cell_type": "markdown",
   "metadata": {},
   "source": [
    "<span style='color:blue'>\n",
    "<b>Study notes</b></span>\n",
    "\n",
    "Article note: In this case a false negative is better than a false positive, since it influences how the pacient will be treated. So it's good that there are less false negatives than false positives."
   ]
  },
  {
   "cell_type": "markdown",
   "metadata": {},
   "source": [
    "<span style='color:blue'>\n",
    "    <b>Study session notes</b></span>\n",
    "\n",
    "<sub>(Other days hidden)</sub>\n",
    "<!-- 03/07:<br>\n",
    "Search more about Google Colab and how to work with a big database. The kernel crashed a few times and it was a bit annoying. It happened almost always while using the train_test_split function. \n",
    "\n",
    "While not necessarily adjacent to the notebook, look into the possibility of using the notebook outside of the conda environment. Had a few problems downloading certain modules through `conda`.  -->\n",
    "<!-- \n",
    "04/07:<br>\n",
    "\n",
    "Difficulties with class RandomUnderSampler, must look more into it, didn't recognize keyword ratio. Should look into [A Deep Learning Architecture for Classifying\n",
    "Medical Images of Anatomy Object](http://www.apsipa.org/proceedings/2017/CONTENTS/papers2017/15DecFriday/FP-02/FP-02.3.pdf) to understand a bit more about the model used. Need to read more overall.\n",
    "\n",
    "I was able to follow up until \"Model Architecture\". In order to continue, read the paper linked and google a bit more about it. Also reread tensorflow guide about sequential model.\n",
    "\n",
    "Must convert data back to its original shape of 50 x 50 x 3. -->"
   ]
  }
 ],
 "metadata": {
  "colab": {
   "authorship_tag": "ABX9TyPpbY+zKT2NrxBbjMRXNa8u",
   "name": "introduction_to_cnn:histopathology_dataset.ipynb",
   "provenance": []
  },
  "kernelspec": {
   "display_name": "Python 3",
   "language": "python",
   "name": "python3"
  },
  "language_info": {
   "codemirror_mode": {
    "name": "ipython",
    "version": 3
   },
   "file_extension": ".py",
   "mimetype": "text/x-python",
   "name": "python",
   "nbconvert_exporter": "python",
   "pygments_lexer": "ipython3",
   "version": "3.8.2"
  }
 },
 "nbformat": 4,
 "nbformat_minor": 1
}
