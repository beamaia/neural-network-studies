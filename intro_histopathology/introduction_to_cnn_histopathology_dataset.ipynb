{
 "cells": [
  {
   "cell_type": "markdown",
   "metadata": {
    "colab_type": "text",
    "id": "WVdd4DvCJwh-"
   },
   "source": [
    "This notebook is being used for studying purposes. I am following medium post\n",
    "[Predicting Invasive Ductal Carcinoma using Convolutional Neural Network (CNN) in Keras](https://towardsdatascience.com/predicting-invasive-ductal-carcinoma-using-convolutional-neural-network-cnn-in-keras-debb429de9a6) and the medium post's [github repository](https://github.com/bikramb98/invasive-ductal-carcinoma-cnn/blob/master/Predicting%20Invasive%20Ductal%20Carcinoma%20using%20CNN%20in%20Keras.ipynb) by Bikram Baruah. The dataset used can be found [here](http://www.andrewjanowczyk.com/use-case-6-invasive-ductal-carcinoma-idc-segmentation/)."
   ]
  },
  {
   "cell_type": "markdown",
   "metadata": {
    "colab_type": "text",
    "id": "FJPj39vEMexm"
   },
   "source": [
    "### Loading the dataset:\n",
    "\n",
    "---\n",
    "\n"
   ]
  },
  {
   "cell_type": "code",
   "execution_count": 1,
   "metadata": {
    "colab": {},
    "colab_type": "code",
    "executionInfo": {
     "elapsed": 590,
     "status": "ok",
     "timestamp": 1593805229425,
     "user": {
      "displayName": "Beatriz Maia",
      "photoUrl": "https://lh3.googleusercontent.com/a-/AOh14GhxQNP9ny3BXy8PZNnCblM_eSA_f0jjtPXxNo31LQ=s64",
      "userId": "05098118571026162549"
     },
     "user_tz": 180
    },
    "id": "1wAPPhLjKjOM"
   },
   "outputs": [],
   "source": [
    "from glob import glob\n",
    "import fnmatch\n",
    "import cv2"
   ]
  },
  {
   "cell_type": "markdown",
   "metadata": {},
   "source": [
    "<span style='color:blue'>\n",
    "    <b>Study Notes:</b></span>\n",
    "    \n",
    "glob module: [doc]( https://docs.python.org/3/library/glob.html)\n",
    "and [source](https://github.com/python/cpython/blob/3.8/Lib/glob.py)<br>\n",
    "fnmatch module: [doc](https://docs.python.org/3/library/fnmatch.html#fnmatch.fnmatch) and [source](https://github.com/python/cpython/blob/3.8/Lib/fnmatch.py)\n"
   ]
  },
  {
   "cell_type": "code",
   "execution_count": 2,
   "metadata": {
    "colab": {},
    "colab_type": "code",
    "id": "1dO0fLeEMWn3"
   },
   "outputs": [],
   "source": [
    "# Saves pathnames\n",
    "image_patches = glob('../idc_regular_ps50_idx5/IDC_regular_ps50_idx5/*/*/*.png')\n",
    "\n",
    "pattern_zero = '*class0.png'\n",
    "pattern_one = '*class1.png'"
   ]
  },
  {
   "cell_type": "markdown",
   "metadata": {},
   "source": [
    "<span style='color:blue'>\n",
    "    <b>Study Notes:</b></span>\n",
    "    \n",
    "The function glob is retrieving the files' pathnames according to a specific pattern. The variables pattern_[blank] are string variables that, as the name indicates, are going to be used to find files of a certain pattern. In this case, ending with either 'class0.png' or 'class1.png'."
   ]
  },
  {
   "cell_type": "code",
   "execution_count": 3,
   "metadata": {
    "scrolled": true
   },
   "outputs": [
    {
     "name": "stdout",
     "output_type": "stream",
     "text": [
      "Lenght: 277524 and exemple of path: ../idc_regular_ps50_idx5/IDC_regular_ps50_idx5/12823/0/12823_idx5_x1501_y2351_class0.png\n"
     ]
    }
   ],
   "source": [
    "print(f'Lenght: {len(image_patches)} and exemple of path: {image_patches[1]}')"
   ]
  },
  {
   "cell_type": "code",
   "execution_count": 4,
   "metadata": {
    "colab": {},
    "colab_type": "code",
    "id": "8ZOd7dwjM_rH"
   },
   "outputs": [],
   "source": [
    "# Saves the image file location of all images according to its class (0 or 1)\n",
    "class_zero = fnmatch.filter(image_patches, pattern_zero)\n",
    "class_one = fnmatch.filter(image_patches, pattern_one)"
   ]
  },
  {
   "cell_type": "markdown",
   "metadata": {},
   "source": [
    "<span style='color:blue'>\n",
    "    <b>Study Notes:</b></span>\n",
    "\n",
    "Here we're filtering the list of pathnames by its class.\n"
   ]
  },
  {
   "cell_type": "code",
   "execution_count": 5,
   "metadata": {},
   "outputs": [],
   "source": [
    "def process_images(lower_index, upper_index):\n",
    "    height, width, channels = 50, 50, 3\n",
    "    \n",
    "    x = [] #list to store image data\n",
    "    y = [] #list to store labels\n",
    "    \n",
    "    for img in image_patches[lower_index:upper_index]:\n",
    "        full_size_image = cv2.imread(img)\n",
    "        image = (cv2.resize(full_size_image, (width, height), interpolation = cv2.INTER_CUBIC))\n",
    "        \n",
    "        x.append(image)\n",
    "    \n",
    "        if img in class_zero:\n",
    "            y.append(0)\n",
    "        elif img in class_one:\n",
    "            y.append(1)\n",
    "        else:\n",
    "            return\n",
    "\n",
    "    return x, y"
   ]
  },
  {
   "cell_type": "markdown",
   "metadata": {},
   "source": [
    "<span style='color:blue'>\n",
    "    <b>Study Notes:</b></span>\n",
    "    \n",
    "Will have to look more into cv2 and OpenCV later. From what I've gathered, imread loads an image, as the name somewhat indicates. Now INTER_CUBIC seems to be a type of interpolation, I have found a little about it [here](https://chadrick-kwag.net/cv2-resize-interpolation-methods/), but will have to read and research it a little bit better. \n",
    "\n",
    "<span style='color:red'>Must come back later to this note.</span>"
   ]
  },
  {
   "cell_type": "code",
   "execution_count": 6,
   "metadata": {},
   "outputs": [],
   "source": [
    "X, Y = process_images(0, 60000)"
   ]
  },
  {
   "cell_type": "markdown",
   "metadata": {},
   "source": [
    "### Data preprocessing\n",
    "***"
   ]
  },
  {
   "cell_type": "code",
   "execution_count": 7,
   "metadata": {},
   "outputs": [],
   "source": [
    "import numpy as np\n",
    "from sklearn.model_selection import train_test_split"
   ]
  },
  {
   "cell_type": "markdown",
   "metadata": {},
   "source": [
    "<span style='color:blue'>\n",
    "    <b>Study Notes:</b></span>\n",
    "    \n",
    "More about train_test_split [here](https://scikit-learn.org/stable/modules/generated/sklearn.model_selection.train_test_split.html). But it's very self explanatory, it splits the arrays into random train and test subsets. Using the parameter test_size you can indicate the proportion of the dateset that will be included in the test subset. There is a train_size as well that works the same way, except for the train subset. There are other interesting parameters to try and test it out later. \n",
    "\n",
    "<span style='color:red'>Must come back later to this note.</span>\n",
    "\n"
   ]
  },
  {
   "cell_type": "code",
   "execution_count": 8,
   "metadata": {},
   "outputs": [],
   "source": [
    "X = np.array(X)\n",
    "X = X.astype(np.float32)\n",
    "X /= 255. # Ensures values between 0 and 1"
   ]
  },
  {
   "cell_type": "code",
   "execution_count": 9,
   "metadata": {},
   "outputs": [],
   "source": [
    "# Splits training and test set, reserves 15% of the dataset for testing\n",
    "x_train, x_test, y_train, y_test = train_test_split(X, Y, test_size = 0.15) "
   ]
  },
  {
   "cell_type": "code",
   "execution_count": 10,
   "metadata": {
    "scrolled": true
   },
   "outputs": [
    {
     "name": "stdout",
     "output_type": "stream",
     "text": [
      "There are 15078 1s and 35922 0s.\n",
      "Lenght: 51000\n"
     ]
    }
   ],
   "source": [
    "print(f'There are {y_train.count(1)} 1s and {y_train.count(0)} 0s.\\nLenght: {len(y_train)}')"
   ]
  },
  {
   "cell_type": "code",
   "execution_count": 11,
   "metadata": {},
   "outputs": [],
   "source": [
    "import keras\n",
    "from keras.utils import to_categorical"
   ]
  },
  {
   "cell_type": "markdown",
   "metadata": {},
   "source": [
    "<span style='color:blue'>\n",
    "    <b>Study Notes:</b></span>\n",
    "\n",
    "Here we are one-hot-enconding the output. For future reference, read [this](https://machinelearningmastery.com/why-one-hot-encode-data-in-machine-learning/)."
   ]
  },
  {
   "cell_type": "code",
   "execution_count": 12,
   "metadata": {},
   "outputs": [],
   "source": [
    "y_train = to_categorical(y_train)\n",
    "y_test = to_categorical(y_test)"
   ]
  },
  {
   "cell_type": "code",
   "execution_count": 13,
   "metadata": {},
   "outputs": [
    {
     "name": "stdout",
     "output_type": "stream",
     "text": [
      "x_train shape:(51000, 50, 50, 3)\n",
      "x_test shape:(9000, 50, 50, 3)\n"
     ]
    }
   ],
   "source": [
    "print(f'x_train shape:{x_train.shape}\\nx_test shape:{x_test.shape}')"
   ]
  },
  {
   "cell_type": "code",
   "execution_count": 14,
   "metadata": {},
   "outputs": [],
   "source": [
    "x_train_flat = x_train.reshape(x_train.shape[0], -1)\n",
    "x_test_flat = x_test.reshape(x_test.shape[0], -1)"
   ]
  },
  {
   "cell_type": "code",
   "execution_count": 15,
   "metadata": {},
   "outputs": [
    {
     "data": {
      "text/plain": [
       "(9000, 7500)"
      ]
     },
     "execution_count": 15,
     "metadata": {},
     "output_type": "execute_result"
    }
   ],
   "source": [
    "x_test_flat.shape"
   ]
  },
  {
   "cell_type": "code",
   "execution_count": 16,
   "metadata": {},
   "outputs": [],
   "source": [
    "from imblearn.under_sampling import RandomUnderSampler"
   ]
  },
  {
   "cell_type": "markdown",
   "metadata": {},
   "source": [
    "<span style='color:blue'>\n",
    "    <b>Study Notes</b></span>\n",
    "\n",
    "RandomUnderSampler [doc](https://imbalanced-learn.readthedocs.io/en/stable/generated/imblearn.under_sampling.RandomUnderSampler.html). A little bit about under-sampling [here](https://imbalanced-learn.readthedocs.io/en/stable/under_sampling.html) and imbalanced classification [here](https://machinelearningmastery.com/random-oversampling-and-undersampling-for-imbalanced-classification/) and [here](https://www.kaggle.com/residentmario/undersampling-and-oversampling-imbalanced-data).\n",
    "\n",
    "In under-sampling we have the removal ou some of the enxemples from the majority class and in over-sampling we have the duplication of some of the examples of the minority class. For imbalanced classification problems, one might transform the dataset randomly by either oversampling or undersampling.\n",
    "\n",
    "For more about the subject, maybe check out [Learning from Imbalanced Data Sets](https://towardsdatascience.com/learning-from-imbalanced-datasets-b601a1f1e154) more carefully later (check the resources as well).\n",
    "\n",
    "<span style='color:red'>Must come back later to this note.</span>"
   ]
  },
  {
   "cell_type": "code",
   "execution_count": 20,
   "metadata": {},
   "outputs": [],
   "source": [
    "random_under_sampler = RandomUnderSampler('majority')\n"
   ]
  },
  {
   "cell_type": "markdown",
   "metadata": {},
   "source": [
    "<span style='color:red'>\n",
    "    <b>Obs Notes</b></span>\n",
    "    \n",
    "Having problemas with RandomUnderSampler when using keyword `ratio`. Have to fix that."
   ]
  },
  {
   "cell_type": "code",
   "execution_count": 25,
   "metadata": {},
   "outputs": [
    {
     "name": "stderr",
     "output_type": "stream",
     "text": [
      "/home/bea/.local/lib/python3.8/site-packages/sklearn/utils/validation.py:68: FutureWarning: Pass classes=[0 1] as keyword args. From version 0.25 passing these as positional arguments will result in an error\n",
      "  warnings.warn(\"Pass {} as keyword args. From version 0.25 \"\n",
      "/home/bea/.local/lib/python3.8/site-packages/sklearn/utils/validation.py:68: FutureWarning: Pass classes=[0 1] as keyword args. From version 0.25 passing these as positional arguments will result in an error\n",
      "  warnings.warn(\"Pass {} as keyword args. From version 0.25 \"\n"
     ]
    }
   ],
   "source": [
    "x_trainRos, y_trainRos = random_under_sampler.fit_sample(x_train_flat, y_train)\n",
    "x_testRus, y_testRus = random_under_sampler.fit_sample(x_test_flat, y_test)"
   ]
  },
  {
   "cell_type": "code",
   "execution_count": 30,
   "metadata": {
    "scrolled": true
   },
   "outputs": [
    {
     "name": "stdout",
     "output_type": "stream",
     "text": [
      "Shapes:\n",
      "x_trainRos: (30156, 7500)\n",
      "y_trainRos: (30156, 1)\n",
      "x_testRus: (5322, 7500)\n",
      "y_testRus: (5322, 1)\n",
      "x_train: (51000, 50, 50, 3)\n",
      "x_test: (9000, 50, 50, 3)\n"
     ]
    }
   ],
   "source": [
    "print(f'Shapes:\\nx_trainRos: {x_trainRos.shape}')\n",
    "print(f'y_trainRos: {y_trainRos.shape}')\n",
    "print(f'x_testRus: {x_testRus.shape}')\n",
    "print(f'y_testRus: {y_testRus.shape}')\n",
    "print(f'x_train: {x_train.shape}')\n",
    "print(f'x_test: {x_test.shape}')"
   ]
  },
  {
   "cell_type": "code",
   "execution_count": 32,
   "metadata": {},
   "outputs": [],
   "source": [
    "y_trainRus_hot = to_categorical(y_trainRos, num_classes=2)\n",
    "y_testRus_hot = to_categorical(y_testRus, num_classes = 2)"
   ]
  },
  {
   "cell_type": "code",
   "execution_count": 59,
   "metadata": {},
   "outputs": [
    {
     "data": {
      "text/plain": [
       "(array([0., 1.], dtype=float32), array([30156, 30156]))"
      ]
     },
     "execution_count": 59,
     "metadata": {},
     "output_type": "execute_result"
    }
   ],
   "source": [
    "np.unique(y_trainRus_hot, return_counts=True)"
   ]
  },
  {
   "cell_type": "code",
   "execution_count": 60,
   "metadata": {},
   "outputs": [
    {
     "data": {
      "text/plain": [
       "(array([0., 1.], dtype=float32), array([5322, 5322]))"
      ]
     },
     "execution_count": 60,
     "metadata": {},
     "output_type": "execute_result"
    }
   ],
   "source": [
    "np.unique(y_testRus_hot, return_counts=True)"
   ]
  },
  {
   "cell_type": "code",
   "execution_count": 36,
   "metadata": {},
   "outputs": [],
   "source": [
    "for i in range(len(x_trainRos)):\n",
    "    height, width, channels = 50,50,3\n",
    "    x_trainRus_reshaped = x_trainRos.reshape(len(x_trainRos), height, width, channels)"
   ]
  },
  {
   "cell_type": "code",
   "execution_count": 37,
   "metadata": {},
   "outputs": [
    {
     "data": {
      "text/plain": [
       "array([[[[0.90588236, 0.88235295, 0.93333334],\n",
       "         [0.8509804 , 0.7882353 , 0.9137255 ],\n",
       "         [0.8666667 , 0.83137256, 0.9254902 ],\n",
       "         ...,\n",
       "         [0.5568628 , 0.4       , 0.7529412 ],\n",
       "         [0.827451  , 0.76862746, 0.9098039 ],\n",
       "         [0.8627451 , 0.8117647 , 0.9372549 ]],\n",
       "\n",
       "        [[0.9098039 , 0.8980392 , 0.94509804],\n",
       "         [0.87058824, 0.84313726, 0.92941177],\n",
       "         [0.80784315, 0.7647059 , 0.9019608 ],\n",
       "         ...,\n",
       "         [0.7254902 , 0.61960787, 0.8627451 ],\n",
       "         [0.8509804 , 0.7882353 , 0.92941177],\n",
       "         [0.8509804 , 0.8156863 , 0.93333334]],\n",
       "\n",
       "        [[0.9411765 , 0.92941177, 0.9490196 ],\n",
       "         [0.93333334, 0.93333334, 0.94509804],\n",
       "         [0.827451  , 0.7607843 , 0.8980392 ],\n",
       "         ...,\n",
       "         [0.77254903, 0.70980394, 0.91764706],\n",
       "         [0.7882353 , 0.70980394, 0.9019608 ],\n",
       "         [0.87058824, 0.81960785, 0.92941177]],\n",
       "\n",
       "        ...,\n",
       "\n",
       "        [[0.7764706 , 0.7019608 , 0.9254902 ],\n",
       "         [0.827451  , 0.7647059 , 0.92156863],\n",
       "         [0.84313726, 0.78039217, 0.9254902 ],\n",
       "         ...,\n",
       "         [0.8039216 , 0.7137255 , 0.9137255 ],\n",
       "         [0.8156863 , 0.74509805, 0.92156863],\n",
       "         [0.7921569 , 0.69803923, 0.90588236]],\n",
       "\n",
       "        [[0.7137255 , 0.627451  , 0.89411765],\n",
       "         [0.78431374, 0.69803923, 0.90588236],\n",
       "         [0.79607844, 0.7490196 , 0.9098039 ],\n",
       "         ...,\n",
       "         [0.827451  , 0.76862746, 0.92941177],\n",
       "         [0.8       , 0.7294118 , 0.93333334],\n",
       "         [0.77254903, 0.6901961 , 0.91764706]],\n",
       "\n",
       "        [[0.73333335, 0.6392157 , 0.91764706],\n",
       "         [0.7490196 , 0.67058825, 0.8784314 ],\n",
       "         [0.8156863 , 0.7529412 , 0.9098039 ],\n",
       "         ...,\n",
       "         [0.76862746, 0.6862745 , 0.90588236],\n",
       "         [0.77254903, 0.6627451 , 0.9254902 ],\n",
       "         [0.72156864, 0.6156863 , 0.89411765]]],\n",
       "\n",
       "\n",
       "       [[[0.80784315, 0.73333335, 0.90588236],\n",
       "         [0.8392157 , 0.75686276, 0.90588236],\n",
       "         [0.64705884, 0.5058824 , 0.7294118 ],\n",
       "         ...,\n",
       "         [0.7019608 , 0.5803922 , 0.8901961 ],\n",
       "         [0.69411767, 0.5882353 , 0.8980392 ],\n",
       "         [0.69803923, 0.5647059 , 0.8156863 ]],\n",
       "\n",
       "        [[0.79607844, 0.7019608 , 0.88235295],\n",
       "         [0.60784316, 0.46666667, 0.65882355],\n",
       "         [0.84705883, 0.8       , 0.9098039 ],\n",
       "         ...,\n",
       "         [0.73333335, 0.6156863 , 0.89411765],\n",
       "         [0.63529414, 0.5058824 , 0.88235295],\n",
       "         [0.6862745 , 0.56078434, 0.85882354]],\n",
       "\n",
       "        [[0.59607846, 0.45490196, 0.7764706 ],\n",
       "         [0.8509804 , 0.8117647 , 0.9098039 ],\n",
       "         [0.9529412 , 0.9411765 , 0.94509804],\n",
       "         ...,\n",
       "         [0.69803923, 0.57254905, 0.89411765],\n",
       "         [0.6313726 , 0.5058824 , 0.8862745 ],\n",
       "         [0.6745098 , 0.5529412 , 0.8666667 ]],\n",
       "\n",
       "        ...,\n",
       "\n",
       "        [[0.8862745 , 0.83137256, 0.89411765],\n",
       "         [0.6509804 , 0.5137255 , 0.76862746],\n",
       "         [0.69411767, 0.5568628 , 0.83137256],\n",
       "         ...,\n",
       "         [0.69803923, 0.5686275 , 0.85882354],\n",
       "         [0.7176471 , 0.6156863 , 0.8627451 ],\n",
       "         [0.68235296, 0.57254905, 0.8862745 ]],\n",
       "\n",
       "        [[0.93333334, 0.9372549 , 0.9490196 ],\n",
       "         [0.74509805, 0.59607846, 0.77254903],\n",
       "         [0.65882355, 0.5176471 , 0.7764706 ],\n",
       "         ...,\n",
       "         [0.69803923, 0.5921569 , 0.8745098 ],\n",
       "         [0.7058824 , 0.59607846, 0.8901961 ],\n",
       "         [0.7137255 , 0.5803922 , 0.8901961 ]],\n",
       "\n",
       "        [[0.9490196 , 0.9372549 , 0.9607843 ],\n",
       "         [0.80784315, 0.7176471 , 0.8235294 ],\n",
       "         [0.7019608 , 0.5647059 , 0.83137256],\n",
       "         ...,\n",
       "         [0.7529412 , 0.654902  , 0.8745098 ],\n",
       "         [0.69411767, 0.57254905, 0.8862745 ],\n",
       "         [0.7176471 , 0.6156863 , 0.8901961 ]]],\n",
       "\n",
       "\n",
       "       [[[0.5686275 , 0.46666667, 0.7647059 ],\n",
       "         [0.4117647 , 0.3019608 , 0.5882353 ],\n",
       "         [0.39215687, 0.31764707, 0.63529414],\n",
       "         ...,\n",
       "         [0.9490196 , 0.92941177, 0.94509804],\n",
       "         [0.95686275, 0.9490196 , 0.9529412 ],\n",
       "         [0.9411765 , 0.9372549 , 0.94509804]],\n",
       "\n",
       "        [[0.45490196, 0.36078432, 0.6862745 ],\n",
       "         [0.44313726, 0.36078432, 0.7137255 ],\n",
       "         [0.54901963, 0.41568628, 0.73333335],\n",
       "         ...,\n",
       "         [0.9490196 , 0.95686275, 0.9529412 ],\n",
       "         [0.9411765 , 0.9372549 , 0.9607843 ],\n",
       "         [0.9607843 , 0.9607843 , 0.95686275]],\n",
       "\n",
       "        [[0.42352942, 0.37254903, 0.58431375],\n",
       "         [0.654902  , 0.5803922 , 0.7764706 ],\n",
       "         [0.827451  , 0.827451  , 0.8862745 ],\n",
       "         ...,\n",
       "         [0.93333334, 0.92941177, 0.9490196 ],\n",
       "         [0.9490196 , 0.94509804, 0.9411765 ],\n",
       "         [0.9411765 , 0.9411765 , 0.9529412 ]],\n",
       "\n",
       "        ...,\n",
       "\n",
       "        [[0.9372549 , 0.9411765 , 0.9372549 ],\n",
       "         [0.94509804, 0.93333334, 0.94509804],\n",
       "         [0.84705883, 0.8235294 , 0.85882354],\n",
       "         ...,\n",
       "         [0.94509804, 0.95686275, 0.9490196 ],\n",
       "         [0.9490196 , 0.93333334, 0.95686275],\n",
       "         [0.9490196 , 0.9529412 , 0.9490196 ]],\n",
       "\n",
       "        [[0.8392157 , 0.8117647 , 0.8862745 ],\n",
       "         [0.9098039 , 0.92941177, 0.92941177],\n",
       "         [0.83137256, 0.8156863 , 0.84313726],\n",
       "         ...,\n",
       "         [0.9490196 , 0.9411765 , 0.9529412 ],\n",
       "         [0.9529412 , 0.9490196 , 0.94509804],\n",
       "         [0.9490196 , 0.9411765 , 0.95686275]],\n",
       "\n",
       "        [[0.81960785, 0.8235294 , 0.85882354],\n",
       "         [0.93333334, 0.9411765 , 0.94509804],\n",
       "         [0.69803923, 0.6901961 , 0.7176471 ],\n",
       "         ...,\n",
       "         [0.94509804, 0.9372549 , 0.9529412 ],\n",
       "         [0.9529412 , 0.9529412 , 0.9529412 ],\n",
       "         [0.9372549 , 0.9411765 , 0.9490196 ]]],\n",
       "\n",
       "\n",
       "       ...,\n",
       "\n",
       "\n",
       "       [[[0.5921569 , 0.42745098, 0.67058825],\n",
       "         [0.5058824 , 0.29411766, 0.5058824 ],\n",
       "         [0.5921569 , 0.38431373, 0.65882355],\n",
       "         ...,\n",
       "         [0.60784316, 0.43137255, 0.6117647 ],\n",
       "         [0.62352943, 0.42352942, 0.6627451 ],\n",
       "         [0.6392157 , 0.41960785, 0.7019608 ]],\n",
       "\n",
       "        [[0.46666667, 0.23921569, 0.45490196],\n",
       "         [0.47058824, 0.23921569, 0.43137255],\n",
       "         [0.5294118 , 0.32941177, 0.5176471 ],\n",
       "         ...,\n",
       "         [0.67058825, 0.5294118 , 0.7058824 ],\n",
       "         [0.654902  , 0.46666667, 0.7058824 ],\n",
       "         [0.6156863 , 0.39215687, 0.70980394]],\n",
       "\n",
       "        [[0.63529414, 0.44705883, 0.6784314 ],\n",
       "         [0.64705884, 0.48235294, 0.7411765 ],\n",
       "         [0.6117647 , 0.43137255, 0.69803923],\n",
       "         ...,\n",
       "         [0.63529414, 0.41960785, 0.63529414],\n",
       "         [0.6       , 0.4       , 0.69803923],\n",
       "         [0.6392157 , 0.46666667, 0.7607843 ]],\n",
       "\n",
       "        ...,\n",
       "\n",
       "        [[0.53333336, 0.29803923, 0.5176471 ],\n",
       "         [0.5647059 , 0.32941177, 0.6       ],\n",
       "         [0.58431375, 0.3372549 , 0.58431375],\n",
       "         ...,\n",
       "         [0.6431373 , 0.4509804 , 0.68235296],\n",
       "         [0.7294118 , 0.5686275 , 0.7294118 ],\n",
       "         [0.44313726, 0.22745098, 0.54509807]],\n",
       "\n",
       "        [[0.48235294, 0.27058825, 0.4509804 ],\n",
       "         [0.5529412 , 0.3019608 , 0.5294118 ],\n",
       "         [0.5568628 , 0.32941177, 0.5647059 ],\n",
       "         ...,\n",
       "         [0.65882355, 0.44313726, 0.70980394],\n",
       "         [0.5647059 , 0.3529412 , 0.5882353 ],\n",
       "         [0.627451  , 0.45490196, 0.654902  ]],\n",
       "\n",
       "        [[0.5254902 , 0.28627452, 0.4627451 ],\n",
       "         [0.5372549 , 0.3137255 , 0.5529412 ],\n",
       "         [0.56078434, 0.37254903, 0.5294118 ],\n",
       "         ...,\n",
       "         [0.6627451 , 0.45882353, 0.7176471 ],\n",
       "         [0.67058825, 0.45882353, 0.7137255 ],\n",
       "         [0.61960787, 0.40784314, 0.60784316]]],\n",
       "\n",
       "\n",
       "       [[[0.5803922 , 0.41568628, 0.654902  ],\n",
       "         [0.49803922, 0.32941177, 0.6509804 ],\n",
       "         [0.52156866, 0.36862746, 0.69803923],\n",
       "         ...,\n",
       "         [0.87058824, 0.8156863 , 0.8745098 ],\n",
       "         [0.9254902 , 0.90588236, 0.9411765 ],\n",
       "         [0.9372549 , 0.92941177, 0.9647059 ]],\n",
       "\n",
       "        [[0.5137255 , 0.3764706 , 0.6156863 ],\n",
       "         [0.50980395, 0.3647059 , 0.6431373 ],\n",
       "         [0.49803922, 0.30980393, 0.58431375],\n",
       "         ...,\n",
       "         [0.6431373 , 0.5294118 , 0.6784314 ],\n",
       "         [0.8980392 , 0.8627451 , 0.8901961 ],\n",
       "         [0.9254902 , 0.9254902 , 0.9529412 ]],\n",
       "\n",
       "        [[0.49411765, 0.34901962, 0.5647059 ],\n",
       "         [0.5568628 , 0.39607844, 0.7019608 ],\n",
       "         [0.5058824 , 0.37254903, 0.6039216 ],\n",
       "         ...,\n",
       "         [0.7058824 , 0.58431375, 0.70980394],\n",
       "         [0.4627451 , 0.3137255 , 0.4392157 ],\n",
       "         [0.6313726 , 0.47843137, 0.68235296]],\n",
       "\n",
       "        ...,\n",
       "\n",
       "        [[0.47843137, 0.3254902 , 0.53333336],\n",
       "         [0.5176471 , 0.38039216, 0.5647059 ],\n",
       "         [0.63529414, 0.49803922, 0.65882355],\n",
       "         ...,\n",
       "         [0.5882353 , 0.42352942, 0.7058824 ],\n",
       "         [0.58431375, 0.45490196, 0.5882353 ],\n",
       "         [0.6156863 , 0.48235294, 0.70980394]],\n",
       "\n",
       "        [[0.54509807, 0.40784314, 0.54509807],\n",
       "         [0.5803922 , 0.44313726, 0.6156863 ],\n",
       "         [0.5764706 , 0.4509804 , 0.63529414],\n",
       "         ...,\n",
       "         [0.56078434, 0.4117647 , 0.70980394],\n",
       "         [0.48235294, 0.32156864, 0.5647059 ],\n",
       "         [0.5647059 , 0.40784314, 0.654902  ]],\n",
       "\n",
       "        [[0.65882355, 0.5568628 , 0.74509805],\n",
       "         [0.56078434, 0.44705883, 0.69803923],\n",
       "         [0.627451  , 0.46666667, 0.73333335],\n",
       "         ...,\n",
       "         [0.52156866, 0.34509805, 0.5921569 ],\n",
       "         [0.57254905, 0.40392157, 0.654902  ],\n",
       "         [0.43529412, 0.27450982, 0.40784314]]],\n",
       "\n",
       "\n",
       "       [[[0.6156863 , 0.4509804 , 0.6431373 ],\n",
       "         [0.6862745 , 0.5764706 , 0.7647059 ],\n",
       "         [0.46666667, 0.29411766, 0.5058824 ],\n",
       "         ...,\n",
       "         [0.6313726 , 0.50980395, 0.85882354],\n",
       "         [0.63529414, 0.5137255 , 0.8666667 ],\n",
       "         [0.6745098 , 0.54509807, 0.8745098 ]],\n",
       "\n",
       "        [[0.8156863 , 0.74509805, 0.8745098 ],\n",
       "         [0.5764706 , 0.43137255, 0.6431373 ],\n",
       "         [0.6039216 , 0.44313726, 0.69803923],\n",
       "         ...,\n",
       "         [0.62352943, 0.47843137, 0.827451  ],\n",
       "         [0.6431373 , 0.5058824 , 0.84313726],\n",
       "         [0.64705884, 0.5176471 , 0.85490197]],\n",
       "\n",
       "        [[0.5764706 , 0.39607844, 0.6901961 ],\n",
       "         [0.6627451 , 0.5137255 , 0.75686276],\n",
       "         [0.7647059 , 0.654902  , 0.81960785],\n",
       "         ...,\n",
       "         [0.6784314 , 0.5803922 , 0.87058824],\n",
       "         [0.6901961 , 0.5686275 , 0.8666667 ],\n",
       "         [0.64705884, 0.5294118 , 0.87058824]],\n",
       "\n",
       "        ...,\n",
       "\n",
       "        [[0.65882355, 0.56078434, 0.80784315],\n",
       "         [0.69411767, 0.58431375, 0.8509804 ],\n",
       "         [0.6784314 , 0.5568628 , 0.84705883],\n",
       "         ...,\n",
       "         [0.8039216 , 0.7490196 , 0.8509804 ],\n",
       "         [0.9254902 , 0.9137255 , 0.9490196 ],\n",
       "         [0.92941177, 0.9254902 , 0.9490196 ]],\n",
       "\n",
       "        [[0.6392157 , 0.5176471 , 0.83137256],\n",
       "         [0.6745098 , 0.5411765 , 0.85490197],\n",
       "         [0.6392157 , 0.5058824 , 0.8235294 ],\n",
       "         ...,\n",
       "         [0.69411767, 0.5568628 , 0.78431374],\n",
       "         [0.92156863, 0.91764706, 0.9372549 ],\n",
       "         [0.92156863, 0.90588236, 0.9372549 ]],\n",
       "\n",
       "        [[0.60784316, 0.47058824, 0.8117647 ],\n",
       "         [0.64705884, 0.53333336, 0.8117647 ],\n",
       "         [0.7137255 , 0.5921569 , 0.8509804 ],\n",
       "         ...,\n",
       "         [0.61960787, 0.45882353, 0.7058824 ],\n",
       "         [0.7176471 , 0.6117647 , 0.7882353 ],\n",
       "         [0.9098039 , 0.89411765, 0.92941177]]]], dtype=float32)"
      ]
     },
     "execution_count": 37,
     "metadata": {},
     "output_type": "execute_result"
    }
   ],
   "source": [
    "x_trainRus_reshaped"
   ]
  },
  {
   "cell_type": "code",
   "execution_count": null,
   "metadata": {},
   "outputs": [],
   "source": []
  },
  {
   "cell_type": "markdown",
   "metadata": {},
   "source": [
    "### Model Architecture\n",
    "***"
   ]
  },
  {
   "cell_type": "code",
   "execution_count": 33,
   "metadata": {},
   "outputs": [],
   "source": [
    "batch_size = 256\n",
    "num_classes = 2\n",
    "epochs = 50"
   ]
  },
  {
   "cell_type": "code",
   "execution_count": 38,
   "metadata": {},
   "outputs": [],
   "source": [
    "from keras.models import Sequential\n"
   ]
  },
  {
   "cell_type": "markdown",
   "metadata": {},
   "source": [
    "<span style='color:blue'>\n",
    "    <b>Study Notes</b></span>\n",
    "\n",
    "More about Sequential: [doc](https://keras.io/api/models/sequential/) and [guide](https://keras.io/guides/sequential_model/)."
   ]
  },
  {
   "cell_type": "code",
   "execution_count": 39,
   "metadata": {},
   "outputs": [],
   "source": [
    "model = Sequential()"
   ]
  },
  {
   "cell_type": "code",
   "execution_count": 43,
   "metadata": {},
   "outputs": [
    {
     "data": {
      "text/plain": [
       "'sequential'"
      ]
     },
     "execution_count": 43,
     "metadata": {},
     "output_type": "execute_result"
    }
   ],
   "source": [
    "model.name"
   ]
  },
  {
   "cell_type": "code",
   "execution_count": 44,
   "metadata": {},
   "outputs": [
    {
     "data": {
      "text/plain": [
       "[]"
      ]
     },
     "execution_count": 44,
     "metadata": {},
     "output_type": "execute_result"
    }
   ],
   "source": [
    "model.layers"
   ]
  },
  {
   "cell_type": "code",
   "execution_count": 45,
   "metadata": {},
   "outputs": [],
   "source": [
    "from keras.layers import Conv2D, MaxPooling2D"
   ]
  },
  {
   "cell_type": "markdown",
   "metadata": {},
   "source": [
    "<span style='color:blue'>\n",
    "    <b>Study Notes</b></span>\n",
    "    \n",
    "Need to look more into Conv2D and MaxPooling2D. "
   ]
  },
  {
   "cell_type": "code",
   "execution_count": 46,
   "metadata": {},
   "outputs": [],
   "source": [
    "model.add(Conv2D(32, kernel_size=(3,3),\n",
    "                 activation='relu',\n",
    "                 input_shape=(50,50,3)))"
   ]
  },
  {
   "cell_type": "code",
   "execution_count": 47,
   "metadata": {
    "scrolled": false
   },
   "outputs": [
    {
     "data": {
      "text/plain": [
       "[<tensorflow.python.keras.layers.convolutional.Conv2D at 0x7f6e1cb6ee50>]"
      ]
     },
     "execution_count": 47,
     "metadata": {},
     "output_type": "execute_result"
    }
   ],
   "source": [
    "model.layers"
   ]
  },
  {
   "cell_type": "code",
   "execution_count": 50,
   "metadata": {},
   "outputs": [
    {
     "data": {
      "text/plain": [
       "list"
      ]
     },
     "execution_count": 50,
     "metadata": {},
     "output_type": "execute_result"
    }
   ],
   "source": [
    "type(model.layers)"
   ]
  },
  {
   "cell_type": "markdown",
   "metadata": {},
   "source": [
    "<span style='color:blue'>\n",
    "    <b>Study session notes</b></span>\n",
    "\n",
    "<sub>(Other days hidden)</sub>\n",
    "<!-- 03/07:<br>\n",
    "Search more about Google Colab and how to work with a big database. The kernel crashed a few times and it was a bit annoying. It happened almost always while using the train_test_split function. \n",
    "\n",
    "While not necessarily adjacent to the notebook, look into the possibility of using the notebook outside of the conda environment. Had a few problems downloading certain modules through `conda`.  -->\n",
    "\n",
    "04/07:<br>\n",
    "\n",
    "Difficulties with class RandomUnderSampler, must look more into it, didn't recognize keyword ratio. Should look into [A Deep Learning Architecture for Classifying\n",
    "Medical Images of Anatomy Object](http://www.apsipa.org/proceedings/2017/CONTENTS/papers2017/15DecFriday/FP-02/FP-02.3.pdf) to understand a bit more about the model used. Need to read more overall.\n",
    "\n",
    "I was able to follow up until \"Model Architecture\". In order to continue, read the paper linked and google a bit more about it. Also reread tensorflow guide about sequential model.\n",
    "\n",
    "Must convert data back to its original shape of 50 x 50 x 3."
   ]
  }
 ],
 "metadata": {
  "colab": {
   "authorship_tag": "ABX9TyPpbY+zKT2NrxBbjMRXNa8u",
   "name": "introduction_to_cnn:histopathology_dataset.ipynb",
   "provenance": []
  },
  "kernelspec": {
   "display_name": "Python 3",
   "language": "python",
   "name": "python3"
  },
  "language_info": {
   "codemirror_mode": {
    "name": "ipython",
    "version": 3
   },
   "file_extension": ".py",
   "mimetype": "text/x-python",
   "name": "python",
   "nbconvert_exporter": "python",
   "pygments_lexer": "ipython3",
   "version": "3.8.2"
  }
 },
 "nbformat": 4,
 "nbformat_minor": 1
}
