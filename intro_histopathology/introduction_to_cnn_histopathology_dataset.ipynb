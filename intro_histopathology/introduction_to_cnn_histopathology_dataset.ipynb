{
 "cells": [
  {
   "cell_type": "markdown",
   "metadata": {
    "colab_type": "text",
    "id": "WVdd4DvCJwh-"
   },
   "source": [
    "This notebook is being used for studying purposes. I am following medium post\n",
    "[Predicting Invasive Ductal Carcinoma using Convolutional Neural Network (CNN) in Keras](https://towardsdatascience.com/predicting-invasive-ductal-carcinoma-using-convolutional-neural-network-cnn-in-keras-debb429de9a6) and the medium post's [github repository](https://github.com/bikramb98/invasive-ductal-carcinoma-cnn/blob/master/Predicting%20Invasive%20Ductal%20Carcinoma%20using%20CNN%20in%20Keras.ipynb) by Bikram Baruah. The dataset used can be found [here](http://www.andrewjanowczyk.com/use-case-6-invasive-ductal-carcinoma-idc-segmentation/)."
   ]
  },
  {
   "cell_type": "markdown",
   "metadata": {
    "colab_type": "text",
    "id": "FJPj39vEMexm"
   },
   "source": [
    "### Loading the dataset:\n",
    "\n",
    "---\n",
    "\n"
   ]
  },
  {
   "cell_type": "code",
   "execution_count": 1,
   "metadata": {
    "colab": {},
    "colab_type": "code",
    "executionInfo": {
     "elapsed": 590,
     "status": "ok",
     "timestamp": 1593805229425,
     "user": {
      "displayName": "Beatriz Maia",
      "photoUrl": "https://lh3.googleusercontent.com/a-/AOh14GhxQNP9ny3BXy8PZNnCblM_eSA_f0jjtPXxNo31LQ=s64",
      "userId": "05098118571026162549"
     },
     "user_tz": 180
    },
    "id": "1wAPPhLjKjOM"
   },
   "outputs": [],
   "source": [
    "from glob import glob\n",
    "import fnmatch\n",
    "import cv2"
   ]
  },
  {
   "cell_type": "markdown",
   "metadata": {},
   "source": [
    "<span style='color:blue'>\n",
    "    <b>Study Notes:</b></span>\n",
    "    \n",
    "glob module: [doc]( https://docs.python.org/3/library/glob.html)\n",
    "and [source](https://github.com/python/cpython/blob/3.8/Lib/glob.py)<br>\n",
    "fnmatch module: [doc](https://docs.python.org/3/library/fnmatch.html#fnmatch.fnmatch) and [source](https://github.com/python/cpython/blob/3.8/Lib/fnmatch.py)\n"
   ]
  },
  {
   "cell_type": "code",
   "execution_count": 2,
   "metadata": {
    "colab": {},
    "colab_type": "code",
    "id": "1dO0fLeEMWn3"
   },
   "outputs": [],
   "source": [
    "# Saves pathnames\n",
    "image_patches = glob('../idc_regular_ps50_idx5/IDC_regular_ps50_idx5/*/*/*.png')\n",
    "\n",
    "pattern_zero = '*class0.png'\n",
    "pattern_one = '*class1.png'"
   ]
  },
  {
   "cell_type": "markdown",
   "metadata": {},
   "source": [
    "<span style='color:blue'>\n",
    "    <b>Study Notes:</b></span>\n",
    "    \n",
    "The function glob is retrieving the files' pathnames according to a specific pattern. The variables pattern_[blank] are string variables that, as the name indicates, are going to be used to find files of a certain pattern. In this case, ending with either 'class0.png' or 'class1.png'."
   ]
  },
  {
   "cell_type": "code",
   "execution_count": 3,
   "metadata": {
    "scrolled": true
   },
   "outputs": [
    {
     "name": "stdout",
     "output_type": "stream",
     "text": [
      "Lenght: 277524 and exemple of path: ../idc_regular_ps50_idx5/IDC_regular_ps50_idx5/12823/0/12823_idx5_x1501_y2351_class0.png\n"
     ]
    }
   ],
   "source": [
    "print(f'Lenght: {len(image_patches)} and exemple of path: {image_patches[1]}')"
   ]
  },
  {
   "cell_type": "code",
   "execution_count": 4,
   "metadata": {
    "colab": {},
    "colab_type": "code",
    "id": "8ZOd7dwjM_rH"
   },
   "outputs": [],
   "source": [
    "# Saves the image file location of all images according to its class (0 or 1)\n",
    "class_zero = fnmatch.filter(image_patches, pattern_zero)\n",
    "class_one = fnmatch.filter(image_patches, pattern_one)"
   ]
  },
  {
   "cell_type": "markdown",
   "metadata": {},
   "source": [
    "<span style='color:blue'>\n",
    "    <b>Study Notes:</b></span>\n",
    "\n",
    "Here we're filtering the list of pathnames by its class.\n"
   ]
  },
  {
   "cell_type": "code",
   "execution_count": 5,
   "metadata": {},
   "outputs": [],
   "source": [
    "def process_images(lower_index, upper_index):\n",
    "    height, width, channels = 50, 50, 3\n",
    "    \n",
    "    x = [] #list to store image data\n",
    "    y = [] #list to store labels\n",
    "    \n",
    "    for img in image_patches[lower_index:upper_index]:\n",
    "        full_size_image = cv2.imread(img)\n",
    "        image = (cv2.resize(full_size_image, (width, height), interpolation = cv2.INTER_CUBIC))\n",
    "        \n",
    "        x.append(image)\n",
    "    \n",
    "        if img in class_zero:\n",
    "            y.append(0)\n",
    "        elif img in class_one:\n",
    "            y.append(1)\n",
    "        else:\n",
    "            return\n",
    "\n",
    "    return x, y"
   ]
  },
  {
   "cell_type": "markdown",
   "metadata": {},
   "source": [
    "<span style='color:blue'>\n",
    "    <b>Study Notes:</b></span>\n",
    "    \n",
    "Will have to look more into cv2 and OpenCV later. From what I've gathered, imread loads an image, as the name somewhat indicates. Now INTER_CUBIC seems to be a type of interpolation, I have found a little about it [here](https://chadrick-kwag.net/cv2-resize-interpolation-methods/), but will have to read and research it a little bit better. \n",
    "\n",
    "<span style='color:red'>Must come back later to this note.</span>"
   ]
  },
  {
   "cell_type": "code",
   "execution_count": 6,
   "metadata": {},
   "outputs": [],
   "source": [
    "X, Y = process_images(0, 60000)"
   ]
  },
  {
   "cell_type": "markdown",
   "metadata": {},
   "source": [
    "### Data preprocessing\n",
    "***"
   ]
  },
  {
   "cell_type": "code",
   "execution_count": 7,
   "metadata": {},
   "outputs": [],
   "source": [
    "import numpy as np\n",
    "from sklearn.model_selection import train_test_split"
   ]
  },
  {
   "cell_type": "markdown",
   "metadata": {},
   "source": [
    "<span style='color:blue'>\n",
    "    <b>Study Notes:</b></span>\n",
    "    \n",
    "More about train_test_split [here](https://scikit-learn.org/stable/modules/generated/sklearn.model_selection.train_test_split.html). But it's very self explanatory, it splits the arrays into random train and test subsets. Using the parameter test_size you can indicate the proportion of the dateset that will be included in the test subset. There is a train_size as well that works the same way, except for the train subset. There are other interesting parameters to try and test it out later. \n",
    "\n",
    "<span style='color:red'>Must come back later to this note.</span>\n",
    "\n"
   ]
  },
  {
   "cell_type": "code",
   "execution_count": 8,
   "metadata": {},
   "outputs": [],
   "source": [
    "X = np.array(X)\n",
    "X = X.astype(np.float32)\n",
    "X /= 255. # Ensures values between 0 and 1"
   ]
  },
  {
   "cell_type": "code",
   "execution_count": 9,
   "metadata": {},
   "outputs": [],
   "source": [
    "# Splits training and test set, reserves 15% of the dataset for testing\n",
    "x_train, x_test, y_train, y_test = train_test_split(X, Y, test_size = 0.15) "
   ]
  },
  {
   "cell_type": "code",
   "execution_count": 10,
   "metadata": {
    "scrolled": true
   },
   "outputs": [
    {
     "name": "stdout",
     "output_type": "stream",
     "text": [
      "There are 15034 1s and 35966 0s.\n",
      "Lenght: 51000\n"
     ]
    }
   ],
   "source": [
    "print(f'There are {y_train.count(1)} 1s and {y_train.count(0)} 0s.\\nLenght: {len(y_train)}')"
   ]
  },
  {
   "cell_type": "code",
   "execution_count": 10,
   "metadata": {},
   "outputs": [],
   "source": [
    "import keras\n",
    "from keras.utils import to_categorical"
   ]
  },
  {
   "cell_type": "markdown",
   "metadata": {},
   "source": [
    "<span style='color:blue'>\n",
    "    <b>Study Notes:</b></span>\n",
    "\n",
    "Here we are one-hot-enconding the output. For future reference, read [this](https://machinelearningmastery.com/why-one-hot-encode-data-in-machine-learning/)."
   ]
  },
  {
   "cell_type": "code",
   "execution_count": 11,
   "metadata": {},
   "outputs": [],
   "source": [
    "y_train = to_categorical(y_train)\n",
    "y_test = to_categorical(y_test)"
   ]
  },
  {
   "cell_type": "code",
   "execution_count": 13,
   "metadata": {},
   "outputs": [
    {
     "name": "stdout",
     "output_type": "stream",
     "text": [
      "x_train shape:(51000, 50, 50, 3)\n",
      "x_test shape:(9000, 50, 50, 3)\n"
     ]
    }
   ],
   "source": [
    "print(f'x_train shape:{x_train.shape}\\nx_test shape:{x_test.shape}')"
   ]
  },
  {
   "cell_type": "code",
   "execution_count": 12,
   "metadata": {},
   "outputs": [],
   "source": [
    "x_train_flat = x_train.reshape(x_train.shape[0], -1)\n",
    "x_test_flat = x_test.reshape(x_test.shape[0], -1)"
   ]
  },
  {
   "cell_type": "code",
   "execution_count": 15,
   "metadata": {},
   "outputs": [
    {
     "data": {
      "text/plain": [
       "(9000, 7500)"
      ]
     },
     "execution_count": 15,
     "metadata": {},
     "output_type": "execute_result"
    }
   ],
   "source": [
    "x_test_flat.shape"
   ]
  },
  {
   "cell_type": "markdown",
   "metadata": {},
   "source": [
    "### Undersampling the data"
   ]
  },
  {
   "cell_type": "code",
   "execution_count": 13,
   "metadata": {},
   "outputs": [],
   "source": [
    "from imblearn.under_sampling import RandomUnderSampler"
   ]
  },
  {
   "cell_type": "markdown",
   "metadata": {},
   "source": [
    "<span style='color:blue'>\n",
    "    <b>Study Notes</b></span>\n",
    "\n",
    "RandomUnderSampler [doc](https://imbalanced-learn.readthedocs.io/en/stable/generated/imblearn.under_sampling.RandomUnderSampler.html). A little bit about under-sampling [here](https://imbalanced-learn.readthedocs.io/en/stable/under_sampling.html) and imbalanced classification [here](https://machinelearningmastery.com/random-oversampling-and-undersampling-for-imbalanced-classification/) and [here](https://www.kaggle.com/residentmario/undersampling-and-oversampling-imbalanced-data).\n",
    "\n",
    "In under-sampling we have the removal ou some of the enxemples from the majority class and in over-sampling we have the duplication of some of the examples of the minority class. For imbalanced classification problems, one might transform the dataset randomly by either oversampling or undersampling.\n",
    "\n",
    "For more about the subject, maybe check out [Learning from Imbalanced Data Sets](https://towardsdatascience.com/learning-from-imbalanced-datasets-b601a1f1e154) more carefully later (check the resources as well).\n",
    "\n",
    "<span style='color:red'>Must come back later to this note.</span>"
   ]
  },
  {
   "cell_type": "code",
   "execution_count": 14,
   "metadata": {},
   "outputs": [],
   "source": [
    "random_under_sampler = RandomUnderSampler(sampling_strategy='majority')\n"
   ]
  },
  {
   "cell_type": "markdown",
   "metadata": {},
   "source": [
    "<span style='color:red'>\n",
    "    <b>Obs Notes</b></span>\n",
    "    \n",
    "Ratio has been deprecate since version 0.4. Use the parameter sampling strategy instead."
   ]
  },
  {
   "cell_type": "code",
   "execution_count": 15,
   "metadata": {
    "scrolled": true
   },
   "outputs": [
    {
     "name": "stderr",
     "output_type": "stream",
     "text": [
      "/home/bea/.local/lib/python3.8/site-packages/sklearn/utils/validation.py:68: FutureWarning: Pass classes=[0 1] as keyword args. From version 0.25 passing these as positional arguments will result in an error\n",
      "  warnings.warn(\"Pass {} as keyword args. From version 0.25 \"\n",
      "/home/bea/.local/lib/python3.8/site-packages/sklearn/utils/validation.py:68: FutureWarning: Pass classes=[0 1] as keyword args. From version 0.25 passing these as positional arguments will result in an error\n",
      "  warnings.warn(\"Pass {} as keyword args. From version 0.25 \"\n"
     ]
    }
   ],
   "source": [
    "x_trainRus, y_trainRus = random_under_sampler.fit_sample(x_train_flat, y_train)\n",
    "x_testRus, y_testRus = random_under_sampler.fit_sample(x_test_flat, y_test)"
   ]
  },
  {
   "cell_type": "code",
   "execution_count": 19,
   "metadata": {
    "scrolled": true
   },
   "outputs": [
    {
     "name": "stdout",
     "output_type": "stream",
     "text": [
      "Shapes:\n",
      "x_trainRus: (30068, 7500)\n",
      "y_trainRus: (30068, 1)\n",
      "x_testRus: (5410, 7500)\n",
      "y_testRus: (5410, 1)\n",
      "x_train: (51000, 50, 50, 3)\n",
      "x_test: (9000, 50, 50, 3)\n"
     ]
    }
   ],
   "source": [
    "print(f'Shapes:\\nx_trainRus: {x_trainRus.shape}')\n",
    "print(f'y_trainRus: {y_trainRus.shape}')\n",
    "print(f'x_testRus: {x_testRus.shape}')\n",
    "print(f'y_testRus: {y_testRus.shape}')\n",
    "print(f'x_train: {x_train.shape}')\n",
    "print(f'x_test: {x_test.shape}')"
   ]
  },
  {
   "cell_type": "code",
   "execution_count": 16,
   "metadata": {},
   "outputs": [],
   "source": [
    "y_trainRus_hot = to_categorical(y_trainRus, num_classes=2)\n",
    "y_testRus_hot = to_categorical(y_testRus, num_classes = 2)"
   ]
  },
  {
   "cell_type": "code",
   "execution_count": 17,
   "metadata": {},
   "outputs": [
    {
     "data": {
      "text/plain": [
       "(array([0., 1.], dtype=float32), array([30210, 30210]))"
      ]
     },
     "execution_count": 17,
     "metadata": {},
     "output_type": "execute_result"
    }
   ],
   "source": [
    "np.unique(y_trainRus_hot, return_counts=True)"
   ]
  },
  {
   "cell_type": "code",
   "execution_count": 22,
   "metadata": {},
   "outputs": [
    {
     "data": {
      "text/plain": [
       "(array([0., 1.], dtype=float32), array([5410, 5410]))"
      ]
     },
     "execution_count": 22,
     "metadata": {},
     "output_type": "execute_result"
    }
   ],
   "source": [
    "np.unique(y_testRus_hot, return_counts=True)"
   ]
  },
  {
   "cell_type": "code",
   "execution_count": 18,
   "metadata": {},
   "outputs": [],
   "source": [
    "height, width, channels = 50,50,3\n",
    "for i in range(len(x_trainRus)):\n",
    "    x_trainRus_reshaped = x_trainRus.reshape(len(x_trainRus), height, width, channels)\n",
    "\n",
    "for i in range(len(x_testRus)):\n",
    "    x_testRus_reshaped = x_testRus.reshape(len(x_testRus), height, width, channels)"
   ]
  },
  {
   "cell_type": "code",
   "execution_count": 19,
   "metadata": {},
   "outputs": [
    {
     "data": {
      "text/plain": [
       "(5268, 50, 50, 3)"
      ]
     },
     "execution_count": 19,
     "metadata": {},
     "output_type": "execute_result"
    }
   ],
   "source": [
    "x_testRus_reshaped.shape"
   ]
  },
  {
   "cell_type": "markdown",
   "metadata": {},
   "source": [
    "### Model Architecture\n",
    "***"
   ]
  },
  {
   "cell_type": "code",
   "execution_count": 20,
   "metadata": {},
   "outputs": [],
   "source": [
    "batch_size = 256\n",
    "num_classes = 2\n",
    "epochs = 50"
   ]
  },
  {
   "cell_type": "code",
   "execution_count": 21,
   "metadata": {},
   "outputs": [],
   "source": [
    "from keras.models import Sequential\n"
   ]
  },
  {
   "cell_type": "markdown",
   "metadata": {},
   "source": [
    "<span style='color:blue'>\n",
    "    <b>Study Notes</b></span>\n",
    "\n",
    "More about Sequential: [doc](https://keras.io/api/models/sequential/) and [guide](https://keras.io/guides/sequential_model/)."
   ]
  },
  {
   "cell_type": "code",
   "execution_count": 22,
   "metadata": {},
   "outputs": [],
   "source": [
    "model = Sequential()"
   ]
  },
  {
   "cell_type": "code",
   "execution_count": 23,
   "metadata": {},
   "outputs": [
    {
     "data": {
      "text/plain": [
       "'sequential'"
      ]
     },
     "execution_count": 23,
     "metadata": {},
     "output_type": "execute_result"
    }
   ],
   "source": [
    "model.name"
   ]
  },
  {
   "cell_type": "code",
   "execution_count": 29,
   "metadata": {},
   "outputs": [
    {
     "data": {
      "text/plain": [
       "[]"
      ]
     },
     "execution_count": 29,
     "metadata": {},
     "output_type": "execute_result"
    }
   ],
   "source": [
    "model.layers"
   ]
  },
  {
   "cell_type": "code",
   "execution_count": 24,
   "metadata": {},
   "outputs": [],
   "source": [
    "from keras.layers import Conv2D, MaxPooling2D"
   ]
  },
  {
   "cell_type": "markdown",
   "metadata": {},
   "source": [
    "<span style='color:blue'>\n",
    "    <b>Study Notes</b></span>\n",
    "    \n",
    "Need to look more into Conv2D and MaxPooling2D. "
   ]
  },
  {
   "cell_type": "code",
   "execution_count": 25,
   "metadata": {},
   "outputs": [],
   "source": [
    "model.add(Conv2D(32, kernel_size=(3,3),\n",
    "                 activation='relu',\n",
    "                 input_shape=(50,50,3)))"
   ]
  },
  {
   "cell_type": "code",
   "execution_count": 32,
   "metadata": {
    "scrolled": false
   },
   "outputs": [
    {
     "data": {
      "text/plain": [
       "[<tensorflow.python.keras.layers.convolutional.Conv2D at 0x7f8df1a7db20>]"
      ]
     },
     "execution_count": 32,
     "metadata": {},
     "output_type": "execute_result"
    }
   ],
   "source": [
    "model.layers"
   ]
  },
  {
   "cell_type": "code",
   "execution_count": 33,
   "metadata": {},
   "outputs": [
    {
     "data": {
      "text/plain": [
       "list"
      ]
     },
     "execution_count": 33,
     "metadata": {},
     "output_type": "execute_result"
    }
   ],
   "source": [
    "type(model.layers)"
   ]
  },
  {
   "cell_type": "code",
   "execution_count": 27,
   "metadata": {},
   "outputs": [],
   "source": [
    "from keras.layers import Dense, Dropout, Flatten\n",
    "from keras.preprocessing.image import ImageDataGenerator"
   ]
  },
  {
   "cell_type": "code",
   "execution_count": 28,
   "metadata": {},
   "outputs": [],
   "source": [
    "model.add(MaxPooling2D(pool_size=(2, 2)))\n",
    "model.add(Conv2D(64, (3,3), activation='relu'))\n",
    "model.add(MaxPooling2D(pool_size=(2,2)))\n",
    "model.add(Conv2D(128, (3, 3), activation='relu'))\n",
    "model.add(Conv2D(256, (3, 3), activation='relu'))\n",
    "model.add(Flatten()) #this converts our 3D feature maps to 1D feature vectors for the dense layer below\n",
    "model.add(Dropout(0.5))\n",
    "model.add(Dense(128, activation='relu'))\n",
    "model.add(Dropout(0.5))\n",
    "model.add(Dense(128, activation='relu'))\n",
    "model.add(Dense(num_classes, activation='sigmoid'))"
   ]
  },
  {
   "cell_type": "code",
   "execution_count": 29,
   "metadata": {},
   "outputs": [],
   "source": [
    "model.compile(loss=keras.losses.binary_crossentropy,\n",
    "              optimizer=keras.optimizers.Adam(lr=0.00001),\n",
    "              metrics=['accuracy'])"
   ]
  },
  {
   "cell_type": "code",
   "execution_count": 30,
   "metadata": {},
   "outputs": [],
   "source": [
    "datagen = ImageDataGenerator(\n",
    "    featurewise_center=True,\n",
    "    featurewise_std_normalization=True,\n",
    "    rotation_range=180,\n",
    "    horizontal_flip=True,vertical_flip = True)"
   ]
  },
  {
   "cell_type": "code",
   "execution_count": 31,
   "metadata": {},
   "outputs": [],
   "source": [
    "from keras.callbacks import EarlyStopping, ModelCheckpoint\n",
    "\n",
    "early_stopping_monitor = EarlyStopping(monitor='val_loss', patience=3, mode='min')\n",
    "model_checkpoint = ModelCheckpoint('best_model.h5', monitor='val_loss', mode='min', verbose=1, save_best_only=True)"
   ]
  },
  {
   "cell_type": "code",
   "execution_count": 40,
   "metadata": {},
   "outputs": [
    {
     "name": "stdout",
     "output_type": "stream",
     "text": [
      "Epoch 1/50\n",
      "119/118 [==============================] - ETA: 0s - loss: 0.4203 - accuracy: 0.8205\n",
      "Epoch 00001: val_loss did not improve from 0.43057\n",
      "119/118 [==============================] - 102s 856ms/step - loss: 0.4203 - accuracy: 0.8205 - val_loss: 0.4414 - val_accuracy: 0.8050\n",
      "Epoch 2/50\n",
      "119/118 [==============================] - ETA: 0s - loss: 0.4263 - accuracy: 0.8182\n",
      "Epoch 00002: val_loss did not improve from 0.43057\n",
      "119/118 [==============================] - 102s 857ms/step - loss: 0.4263 - accuracy: 0.8182 - val_loss: 0.4349 - val_accuracy: 0.8092\n",
      "Epoch 3/50\n",
      "119/118 [==============================] - ETA: 0s - loss: 0.4181 - accuracy: 0.8215\n",
      "Epoch 00003: val_loss did not improve from 0.43057\n",
      "119/118 [==============================] - 102s 856ms/step - loss: 0.4181 - accuracy: 0.8215 - val_loss: 0.4325 - val_accuracy: 0.8087\n",
      "Epoch 4/50\n",
      "119/118 [==============================] - ETA: 0s - loss: 0.4197 - accuracy: 0.8214\n",
      "Epoch 00004: val_loss improved from 0.43057 to 0.42853, saving model to best_model.h5\n",
      "119/118 [==============================] - 103s 867ms/step - loss: 0.4197 - accuracy: 0.8214 - val_loss: 0.4285 - val_accuracy: 0.8102\n",
      "Epoch 5/50\n",
      "119/118 [==============================] - ETA: 0s - loss: 0.4169 - accuracy: 0.8219\n",
      "Epoch 00005: val_loss improved from 0.42853 to 0.42687, saving model to best_model.h5\n",
      "119/118 [==============================] - 102s 854ms/step - loss: 0.4169 - accuracy: 0.8219 - val_loss: 0.4269 - val_accuracy: 0.8107\n",
      "Epoch 6/50\n",
      "119/118 [==============================] - ETA: 0s - loss: 0.4178 - accuracy: 0.8212\n",
      "Epoch 00006: val_loss did not improve from 0.42687\n",
      "119/118 [==============================] - 102s 853ms/step - loss: 0.4178 - accuracy: 0.8212 - val_loss: 0.4283 - val_accuracy: 0.8111\n",
      "Epoch 7/50\n",
      "119/118 [==============================] - ETA: 0s - loss: 0.4153 - accuracy: 0.8232\n",
      "Epoch 00007: val_loss did not improve from 0.42687\n",
      "119/118 [==============================] - 106s 892ms/step - loss: 0.4153 - accuracy: 0.8232 - val_loss: 0.4321 - val_accuracy: 0.8079\n",
      "Epoch 8/50\n",
      "119/118 [==============================] - ETA: 0s - loss: 0.4164 - accuracy: 0.8221\n",
      "Epoch 00008: val_loss did not improve from 0.42687\n",
      "119/118 [==============================] - 102s 859ms/step - loss: 0.4164 - accuracy: 0.8221 - val_loss: 0.4728 - val_accuracy: 0.7956\n"
     ]
    }
   ],
   "source": [
    "training = model.fit_generator(datagen.flow(x_trainRus_reshaped,y_trainRus_hot,batch_size=batch_size),\n",
    "                    steps_per_epoch=len(x_trainRus_reshaped) / batch_size, epochs=epochs,validation_data=(x_testRus_reshaped, y_testRus_hot), verbose=1, callbacks=[early_stopping_monitor, model_checkpoint])"
   ]
  },
  {
   "cell_type": "code",
   "execution_count": 36,
   "metadata": {},
   "outputs": [],
   "source": [
    "import matplotlib.pyplot as plt"
   ]
  },
  {
   "cell_type": "code",
   "execution_count": 38,
   "metadata": {},
   "outputs": [
    {
     "data": {
      "image/png": "[encoded data removed]",
      "text/plain": [
       "<Figure size 432x288 with 1 Axes>"
      ]
     },
     "metadata": {
      "needs_background": "light"
     },
     "output_type": "display_data"
    }
   ],
   "source": [
    "plt.plot(training.history['loss'])\n",
    "plt.plot(training.history['val_loss'])\n",
    "plt.title('Model loss')\n",
    "plt.ylabel('loss')\n",
    "plt.xlabel('epoch')\n",
    "plt.legend(['train','test'], loc='upper left')\n",
    "plt.show()"
   ]
  },
  {
   "cell_type": "code",
   "execution_count": 42,
   "metadata": {
    "scrolled": true
   },
   "outputs": [
    {
     "data": {
      "image/png": "[encoded data removed]",
      "text/plain": [
       "<Figure size 432x288 with 1 Axes>"
      ]
     },
     "metadata": {
      "needs_background": "light"
     },
     "output_type": "display_data"
    }
   ],
   "source": [
    "plt.plot(training.history['loss'])\n",
    "plt.plot(training.history['val_loss'])\n",
    "plt.title('Model loss (2nd Attempt)')\n",
    "plt.ylabel('loss')\n",
    "plt.xlabel('epoch')\n",
    "plt.legend(['train','test'], loc='upper left')\n",
    "plt.show()"
   ]
  },
  {
   "cell_type": "code",
   "execution_count": null,
   "metadata": {},
   "outputs": [],
   "source": []
  },
  {
   "cell_type": "markdown",
   "metadata": {},
   "source": [
    "<span style='color:blue'>\n",
    "    <b>Study session notes</b></span>\n",
    "\n",
    "<sub>(Other days hidden)</sub>\n",
    "<!-- 03/07:<br>\n",
    "Search more about Google Colab and how to work with a big database. The kernel crashed a few times and it was a bit annoying. It happened almost always while using the train_test_split function. \n",
    "\n",
    "While not necessarily adjacent to the notebook, look into the possibility of using the notebook outside of the conda environment. Had a few problems downloading certain modules through `conda`.  -->\n",
    "<!-- \n",
    "04/07:<br>\n",
    "\n",
    "Difficulties with class RandomUnderSampler, must look more into it, didn't recognize keyword ratio. Should look into [A Deep Learning Architecture for Classifying\n",
    "Medical Images of Anatomy Object](http://www.apsipa.org/proceedings/2017/CONTENTS/papers2017/15DecFriday/FP-02/FP-02.3.pdf) to understand a bit more about the model used. Need to read more overall.\n",
    "\n",
    "I was able to follow up until \"Model Architecture\". In order to continue, read the paper linked and google a bit more about it. Also reread tensorflow guide about sequential model.\n",
    "\n",
    "Must convert data back to its original shape of 50 x 50 x 3. -->"
   ]
  },
  {
   "cell_type": "code",
   "execution_count": null,
   "metadata": {},
   "outputs": [],
   "source": []
  }
 ],
 "metadata": {
  "colab": {
   "authorship_tag": "ABX9TyPpbY+zKT2NrxBbjMRXNa8u",
   "name": "introduction_to_cnn:histopathology_dataset.ipynb",
   "provenance": []
  },
  "kernelspec": {
   "display_name": "Python 3",
   "language": "python",
   "name": "python3"
  },
  "language_info": {
   "codemirror_mode": {
    "name": "ipython",
    "version": 3
   },
   "file_extension": ".py",
   "mimetype": "text/x-python",
   "name": "python",
   "nbconvert_exporter": "python",
   "pygments_lexer": "ipython3",
   "version": "3.8.2"
  }
 },
 "nbformat": 4,
 "nbformat_minor": 1
}
