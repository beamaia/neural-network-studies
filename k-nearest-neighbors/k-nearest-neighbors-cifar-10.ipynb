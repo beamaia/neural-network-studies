{
 "cells": [
  {
   "cell_type": "markdown",
   "metadata": {},
   "source": [
    "# K-nearest neighbors\n",
    "***\n",
    "\n",
    "In this notebook I will attempt to implement the K-nearest neighbors algorithm using the [CIFAR-10 dataset](http://www.cs.toronto.edu/~kriz/cifar.html) for the Stanford course: [CS231n: Convolutional Neural Networks for Visual Recognition](http://cs231n.stanford.edu/2017/syllabus)\n"
   ]
  },
  {
   "cell_type": "code",
   "execution_count": 60,
   "metadata": {},
   "outputs": [],
   "source": [
    "# Importing libraries\n",
    "import numpy as np\n",
    "import matplotlib.pyplot as plt\n",
    "import pickle"
   ]
  },
  {
   "cell_type": "markdown",
   "metadata": {},
   "source": [
    "## Loading the CIFAR-10 dataset\n",
    "***"
   ]
  },
  {
   "cell_type": "code",
   "execution_count": 116,
   "metadata": {},
   "outputs": [],
   "source": [
    "def load_dataset(files):\n",
    "    # From: https://www.cs.toronto.edu/~kriz/cifar.html\n",
    "    data = []\n",
    "    data_labels = []\n",
    "    for i in range(len(files)):\n",
    "        with open(files[i], 'rb') as fo:\n",
    "            dict = pickle.load(fo, encoding='bytes')\n",
    "            data.append(dict[b'data'])\n",
    "            data_labels.append(dict[b'labels'])\n",
    "\n",
    "    data = np.array(data)\n",
    "    data = data.reshape(data.shape[0] * data.shape[1], data.shape[2])\n",
    "    data_labels = np.array(data_labels)\n",
    "    return data, data_labels"
   ]
  },
  {
   "cell_type": "code",
   "execution_count": 117,
   "metadata": {},
   "outputs": [],
   "source": [
    "b1 = \"../cifar-10-batches-py/data_batch_1\"\n",
    "b2 = \"../cifar-10-batches-py/data_batch_2\"\n",
    "b3 = \"../cifar-10-batches-py/data_batch_3\"\n",
    "b4 = \"../cifar-10-batches-py/data_batch_4\"\n",
    "b5 = \"../cifar-10-batches-py/data_batch_5\"\n",
    "batches = [b1, b2, b3, b4, b5]"
   ]
  },
  {
   "cell_type": "code",
   "execution_count": 118,
   "metadata": {},
   "outputs": [],
   "source": [
    "train, train_labels = load_dataset(batches)"
   ]
  },
  {
   "cell_type": "code",
   "execution_count": 119,
   "metadata": {},
   "outputs": [],
   "source": [
    "test_batch = [\"../cifar-10-batches-py/test_batch\"]\n",
    "test, test_labels = load_dataset(test_batch)"
   ]
  },
  {
   "cell_type": "code",
   "execution_count": 120,
   "metadata": {},
   "outputs": [
    {
     "data": {
      "text/plain": [
       "(10000, 3072)"
      ]
     },
     "execution_count": 120,
     "metadata": {},
     "output_type": "execute_result"
    }
   ],
   "source": [
    "test.shape"
   ]
  },
  {
   "cell_type": "markdown",
   "metadata": {},
   "source": [
    "Creating KNearestNeighbor class:"
   ]
  },
  {
   "cell_type": "code",
   "execution_count": 127,
   "metadata": {},
   "outputs": [],
   "source": [
    "class KNearestNeighbor(object):\n",
    "    def __init__(self, k):\n",
    "        self.K = k\n",
    "    \n",
    "    def train(self, X, y):\n",
    "        self.Xtr = X\n",
    "        self.ytr = y\n",
    "        \n",
    "    def predict(self, X):\n",
    "        num_test = X.shape[0]\n",
    "        Ypred = np.zeros(num_test, dtype = self.ytr.dtype)\n",
    "\n",
    "        for i in range(num_test):\n",
    "          # find the nearest training image to the i'th test image\n",
    "          # using the L1 distance (sum of absolute value differences)\n",
    "            distances = np.sum(np.abs(self.Xtr - X[i,:]), axis = 1)\n",
    "            min_index = np.argmin(distances) # get the index with smallest distance\n",
    "            Ypred[i] = self.ytr[min_index] # predict the label of the nearest example\n",
    "\n",
    "        return Ypred"
   ]
  },
  {
   "cell_type": "code",
   "execution_count": null,
   "metadata": {},
   "outputs": [],
   "source": []
  }
 ],
 "metadata": {
  "kernelspec": {
   "display_name": "Python 3",
   "language": "python",
   "name": "python3"
  },
  "language_info": {
   "codemirror_mode": {
    "name": "ipython",
    "version": 3
   },
   "file_extension": ".py",
   "mimetype": "text/x-python",
   "name": "python",
   "nbconvert_exporter": "python",
   "pygments_lexer": "ipython3",
   "version": "3.7.6"
  }
 },
 "nbformat": 4,
 "nbformat_minor": 4
}
