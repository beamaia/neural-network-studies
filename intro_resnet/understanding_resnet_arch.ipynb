{
 "cells": [
  {
   "cell_type": "markdown",
   "metadata": {},
   "source": [
    "Implementing a ResNet model from scratch using [Medium post: Implementing a ResNet model from scratch](https://towardsdatascience.com/implementing-a-resnet-model-from-scratch-971be7193718) by [Gracelyn Shi](http://gracelynshi.com/) in order to understand more about the overall architecture (using keras).\n",
    "\n",
    "Will use alongside other notebooks in order to compare models and understand fully ResNet architecture."
   ]
  },
  {
   "cell_type": "markdown",
   "metadata": {},
   "source": [
    "### Creating model\n",
    "***"
   ]
  },
  {
   "cell_type": "code",
   "execution_count": 2,
   "metadata": {},
   "outputs": [],
   "source": [
    "from keras.layers.normalization import BatchNormalization\n",
    "from keras.layers.convolutional import Conv2D, AveragePooling2D, MaxPooling2D, ZeroPadding2D\n",
    "from keras.layers.core import Activation, Dense\n",
    "from keras.layers.core import Dense\n",
    "from keras.layers import Flatten, Input, add\n",
    "from keras.models import Model\n",
    "from keras.regularizers import l2\n",
    "from keras import backend as K"
   ]
  },
  {
   "cell_type": "code",
   "execution_count": 7,
   "metadata": {},
   "outputs": [
    {
     "name": "stderr",
     "output_type": "stream",
     "text": [
      "<>:12: SyntaxWarning: 'int' object is not callable; perhaps you missed a comma?\n",
      "<>:12: SyntaxWarning: 'int' object is not callable; perhaps you missed a comma?\n",
      "<ipython-input-7-3fd0c7672157>:12: SyntaxWarning: 'int' object is not callable; perhaps you missed a comma?\n",
      "  kernel_regularizer=12(reg))(act1)\n"
     ]
    }
   ],
   "source": [
    "class ResNet:\n",
    "    @staticmethod\n",
    "    def residual_module(data_input, num_filters, stride, chan_dim, reduce=False, reg=0.0001, bn_eps = 2e-5, bn_mom=0.9):\n",
    "        shortcut = data_input\n",
    "        \n",
    "        # First block - 1x1 CONVs\n",
    "        bn1 = BatchNormalization(axis=chan_dim, epsilon = bn_eps, momentum=bn_mom)(data_input)\n",
    "        act1 = Activation(\"relu\")(bn1)\n",
    "        conv1 = Conv2D(int(K * 0.25), \n",
    "                       (1,1), \n",
    "                       use_bias=False, \n",
    "                       kernel_regularizer=12(reg))(act1)\n",
    "        \n",
    "        # Second block - 3x3 CONVs\n",
    "        bn2 = BatchNormalization(axis=chan_dim, epsilon=bn_eps, momentum=bm_mom)(conv1)\n",
    "        act2 = Activation(\"relu\")(bn2)\n",
    "        conv2 = Conv2D(int(K * 0.25), \n",
    "                       (3,3), \n",
    "                       stride=stride, \n",
    "                       padding=\"same\", \n",
    "                       use_bias=False, \n",
    "                       kernel_regularizer=l2(reg))(act2)\n",
    "        \n",
    "        # Third block - 1x1 CONVs\n",
    "        bn3 = BatchNormalization(aixs=chan_dim, epsilon=bn_eps, momentum=bn_mom)(conv2)\n",
    "        act3 = Activation(\"relu\")(bn3)\n",
    "        conv3 = Conv2D(K, \n",
    "                       (1,1), \n",
    "                       use_bias=False, \n",
    "                       kernel_regularizer=l2(reg))(act3)\n",
    "        \n",
    "        if reduce:\n",
    "            shortcut = Conv2D(K, \n",
    "                              (1, 1), \n",
    "                              strides=strides, \n",
    "                              use_bias=False, \n",
    "                              kernel_regularizer=l2(reg))(act1)\n",
    "        x = add([conv3, shortcut])\n",
    "        \n",
    "        return x\n",
    "    \n",
    "    @staticmethod\n",
    "    def build(width, height, depth, classes, stages, filters, reg=0.0001, bn_eps=2e-5, bn_mom=0.9):\n",
    "        input_shape = (height, width, depth)\n",
    "        chan_dim = -1\n",
    "        \n",
    "        if k.image_data_format() == \"channels_first\":\n",
    "            input_shape = (depth, height, width)\n",
    "            chan_dim = 1\n",
    "            \n",
    "            inputs = Input(shape=input_shape)\n",
    "            x = BatchNormalization(axis=chan_dim, epsilon = bn_eps, momentum=bn_mom)(inputs)\n",
    "            \n",
    "            x = Conv2D(filters[0], \n",
    "                       (5, 5), \n",
    "                       use_bias=False, \n",
    "                       padding=\"same\", \n",
    "                       kernel_regularizer=l2(reg))(x)\n",
    "            x = BatchNormalization(axis=chan_dim, epsilon=bn_eps, momentum=bn_mom)(x)\n",
    "            x = Activation(\"relu\")(x)\n",
    "            x = ZeroPadding2D((1,1))(x)\n",
    "            x = MaxPooling2D((3,3), stride=2)(x)\n",
    "            \n",
    "        for i in range(len(stages)):\n",
    "            stride = 1 if i==0 else 2\n",
    "            x = ResNet.residual_module(x, filters[i+1], stride, chan_dim, True, bn_eps, bn_mom)\n",
    "            \n",
    "            for j in range(stages[i] - 1):\n",
    "                x = ResNet.residual_modul(x,filters[i+1], 1, chan_dim, False, bn_eps, bn_mom)\n",
    "         \n",
    "        x = BatchNormalization(axis=chanDim, \n",
    "                               epsilon=bnEps,\n",
    "                               momentum=bnMom)(x)\n",
    "        x = Activation(\"relu\")(x)\n",
    "        x = AveragePooling2D((8, 8))(x)\n",
    "        \n",
    "        # softmax classifier\n",
    "        x = Flatten()(x)\n",
    "        x = Dense(classes, kernel_regularizer=l2(reg))(x)\n",
    "        x = Activation(\"softmax\")(x)\n",
    "        \n",
    "        #create model\n",
    "        model = Model(inputs, x, name=\"resnet\")\n",
    "        \n",
    "        return model"
   ]
  },
  {
   "cell_type": "code",
   "execution_count": 19,
   "metadata": {},
   "outputs": [],
   "source": [
    "from keras.datasets import mnist as mnist"
   ]
  },
  {
   "cell_type": "code",
   "execution_count": 21,
   "metadata": {},
   "outputs": [
    {
     "name": "stdout",
     "output_type": "stream",
     "text": [
      "Downloading data from https://storage.googleapis.com/tensorflow/tf-keras-datasets/mnist.npz\n",
      "11493376/11490434 [==============================] - 4s 0us/step\n"
     ]
    }
   ],
   "source": [
    "dataset = mnist.load_data(path=\"mnist.npz\")"
   ]
  },
  {
   "cell_type": "code",
   "execution_count": 24,
   "metadata": {},
   "outputs": [
    {
     "data": {
      "text/plain": [
       "2"
      ]
     },
     "execution_count": 24,
     "metadata": {},
     "output_type": "execute_result"
    }
   ],
   "source": [
    "len(dataset)"
   ]
  },
  {
   "cell_type": "code",
   "execution_count": 25,
   "metadata": {},
   "outputs": [],
   "source": [
    "(x_train, y_train), (x_test, y_test) = dataset"
   ]
  },
  {
   "cell_type": "code",
   "execution_count": 27,
   "metadata": {},
   "outputs": [
    {
     "data": {
      "text/plain": [
       "(60000, 28, 28)"
      ]
     },
     "execution_count": 27,
     "metadata": {},
     "output_type": "execute_result"
    }
   ],
   "source": [
    "x_train.shape"
   ]
  },
  {
   "cell_type": "code",
   "execution_count": 28,
   "metadata": {},
   "outputs": [
    {
     "data": {
      "text/plain": [
       "(60000,)"
      ]
     },
     "execution_count": 28,
     "metadata": {},
     "output_type": "execute_result"
    }
   ],
   "source": [
    "y_train.shape"
   ]
  },
  {
   "cell_type": "code",
   "execution_count": 30,
   "metadata": {},
   "outputs": [
    {
     "data": {
      "text/plain": [
       "(10000, 28, 28)"
      ]
     },
     "execution_count": 30,
     "metadata": {},
     "output_type": "execute_result"
    }
   ],
   "source": [
    "x_test.shape"
   ]
  },
  {
   "cell_type": "code",
   "execution_count": 31,
   "metadata": {},
   "outputs": [
    {
     "data": {
      "text/plain": [
       "(10000,)"
      ]
     },
     "execution_count": 31,
     "metadata": {},
     "output_type": "execute_result"
    }
   ],
   "source": [
    "y_test.shape"
   ]
  }
 ],
 "metadata": {
  "kernelspec": {
   "display_name": "Python 3",
   "language": "python",
   "name": "python3"
  },
  "language_info": {
   "codemirror_mode": {
    "name": "ipython",
    "version": 3
   },
   "file_extension": ".py",
   "mimetype": "text/x-python",
   "name": "python",
   "nbconvert_exporter": "python",
   "pygments_lexer": "ipython3",
   "version": "3.8.2"
  }
 },
 "nbformat": 4,
 "nbformat_minor": 4
}
