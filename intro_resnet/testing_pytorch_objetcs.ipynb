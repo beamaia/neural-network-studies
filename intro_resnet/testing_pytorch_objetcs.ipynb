{
 "cells": [
  {
   "cell_type": "markdown",
   "metadata": {},
   "source": [
    "Getting to know more about the objects used in [this ResNet for MNIST with pytorch](https://www.kaggle.com/readilen/resnet-for-mnist-with-pytorch?scriptVersionId=6942243) kaggle notebook in order to be able to replicate it with a different dataset."
   ]
  },
  {
   "cell_type": "code",
   "execution_count": 1,
   "metadata": {},
   "outputs": [],
   "source": [
    "import torch\n",
    "import torch.nn as nn\n",
    "import torchvision.transforms as transforms\n",
    "from torch.autograd import Variable\n",
    "from sklearn.model_selection import train_test_split\n",
    "from torchvision.datasets import MNIST\n",
    "import numpy as np\n",
    "import matplotlib.pyplot as plt"
   ]
  },
  {
   "cell_type": "code",
   "execution_count": 2,
   "metadata": {},
   "outputs": [],
   "source": [
    "import create_train_test_mnist as mnist\n",
    "from resnet import conv3x3, ResidualBlock, ResNet"
   ]
  },
  {
   "cell_type": "code",
   "execution_count": 37,
   "metadata": {},
   "outputs": [],
   "source": [
    "x_data, y_data = mnist.mnist_data()\n",
    "features_train, features_test, targets_train, targets_test = mnist.divide_train_test(x_data, y_data, 0.2)\n",
    "\n",
    "batch_size = 100\n",
    "n_iters = 2500\n",
    "num_epochs = n_iters/ (len(features_train) / batch_size)\n",
    "num_epocs = int(num_epochs)\n",
    "\n",
    "train, test = mnist.create_TensorDataset(features_train, targets_train, features_test, targets_test)\n",
    "train_loader, test_loader = mnist.create_DataLoader(train, test, batch_size)\n"
   ]
  },
  {
   "cell_type": "code",
   "execution_count": 4,
   "metadata": {},
   "outputs": [
    {
     "data": {
      "text/plain": [
       "torch.utils.data.dataset.TensorDataset"
      ]
     },
     "execution_count": 4,
     "metadata": {},
     "output_type": "execute_result"
    }
   ],
   "source": [
    "type(train)"
   ]
  },
  {
   "cell_type": "code",
   "execution_count": 5,
   "metadata": {
    "scrolled": true
   },
   "outputs": [],
   "source": [
    " for i, (images, labels) in enumerate(train_loader):\n",
    "        train  = Variable(images.resize_(batch_size, 1, 32, 32))\n",
    "        labels = Variable(labels)"
   ]
  },
  {
   "cell_type": "code",
   "execution_count": 6,
   "metadata": {
    "scrolled": true
   },
   "outputs": [
    {
     "data": {
      "text/plain": [
       "<torch.utils.data.dataset.TensorDataset at 0x7f7428c17880>"
      ]
     },
     "execution_count": 6,
     "metadata": {},
     "output_type": "execute_result"
    }
   ],
   "source": [
    "train_loader.dataset"
   ]
  },
  {
   "cell_type": "code",
   "execution_count": 7,
   "metadata": {},
   "outputs": [
    {
     "data": {
      "text/plain": [
       "torch.Tensor"
      ]
     },
     "execution_count": 7,
     "metadata": {},
     "output_type": "execute_result"
    }
   ],
   "source": [
    "type(train)"
   ]
  },
  {
   "cell_type": "markdown",
   "metadata": {},
   "source": [
    "### Testing functions and methods\n",
    "***"
   ]
  },
  {
   "cell_type": "code",
   "execution_count": 8,
   "metadata": {},
   "outputs": [
    {
     "data": {
      "text/plain": [
       "torch.Size([20, 100, 35, 45])"
      ]
     },
     "execution_count": 8,
     "metadata": {},
     "output_type": "execute_result"
    }
   ],
   "source": [
    "# BatchNorm2d doc's example\n",
    "m = nn.BatchNorm2d(100)\n",
    "inputs = torch.randn(20, 100, 35, 45)\n",
    "output = m(inputs)\n",
    "output.shape"
   ]
  },
  {
   "cell_type": "markdown",
   "metadata": {},
   "source": [
    "***"
   ]
  },
  {
   "cell_type": "code",
   "execution_count": 9,
   "metadata": {},
   "outputs": [
    {
     "data": {
      "image/png": "[encoded data removed]",
      "text/plain": [
       "<Figure size 432x288 with 1 Axes>"
      ]
     },
     "metadata": {
      "needs_background": "light"
     },
     "output_type": "display_data"
    }
   ],
   "source": [
    "# ReLU doc's exemples\n",
    "\n",
    "m = nn.ReLU()\n",
    "inputs = torch.randn(2)\n",
    "output = m(inputs)\n",
    "plt.plot(output)\n",
    "plt.title(\"ReLU test\")\n",
    "plt.show()"
   ]
  },
  {
   "cell_type": "code",
   "execution_count": 10,
   "metadata": {},
   "outputs": [
    {
     "data": {
      "image/png": "[encoded data removed]",
      "text/plain": [
       "<Figure size 432x288 with 1 Axes>"
      ]
     },
     "metadata": {
      "needs_background": "light"
     },
     "output_type": "display_data"
    }
   ],
   "source": [
    "m = nn.ReLU()\n",
    "inputs = torch.randn(2).unsqueeze(0)\n",
    "output = torch.cat((m(inputs), m(-inputs)))\n",
    "plt.plot(output)\n",
    "plt.title(\"ReLU test\")\n",
    "plt.show()"
   ]
  },
  {
   "cell_type": "markdown",
   "metadata": {},
   "source": [
    "***"
   ]
  },
  {
   "cell_type": "markdown",
   "metadata": {},
   "source": [
    "#### nn Module class:\n",
    "\n",
    "When making ResidualBlock and ResNet classes, it was used the nn class Module, a base class for all neural network modules. \n",
    "Since we use nn.Sequential, you must define a foward method in the object created."
   ]
  },
  {
   "cell_type": "code",
   "execution_count": 11,
   "metadata": {},
   "outputs": [],
   "source": [
    "net_args = {\n",
    "    \"block\": ResidualBlock,\n",
    "    \"layers\": [2,2,2,2]\n",
    "}\n",
    "\n",
    "model = ResNet(**net_args)"
   ]
  },
  {
   "cell_type": "markdown",
   "metadata": {},
   "source": [
    "***"
   ]
  },
  {
   "cell_type": "code",
   "execution_count": 12,
   "metadata": {},
   "outputs": [
    {
     "name": "stdout",
     "output_type": "stream",
     "text": [
      "model.conv:\n",
      "\n",
      "Type: <class 'torch.nn.modules.conv.Conv2d'>\n",
      "About layer:\n",
      "in_channels: 1\n",
      "out_channels: 16\n",
      "kernel_size: (3, 3)\n",
      "stride: (1, 1)\n",
      "padding: (1, 1)\n"
     ]
    }
   ],
   "source": [
    "print(f'model.conv:\\n')\n",
    "print(f'Type: {type(model.conv)}')\n",
    "print(f'About layer:')\n",
    "print(f'in_channels: {model.conv.in_channels}')\n",
    "print(f'out_channels: {model.conv.out_channels}')\n",
    "print(f'kernel_size: {model.conv.kernel_size}')\n",
    "print(f'stride: {model.conv.stride}')\n",
    "print(f'padding: {model.conv.padding}')"
   ]
  },
  {
   "cell_type": "markdown",
   "metadata": {},
   "source": [
    "When initializing model:\n",
    "\n",
    "After in_channels being set to 16, `self.conv = conv3x3(1,16)` happens. When `conv3x3` is called, it returns a Conv2d object. With the function, you're able to specify the number of in_channels, out_channels and the stride. If the stride isn't specified, it'll automatically be 1. When we initialized conv3x3(1,16), we created a Cpnv2d object with in_channels = 1 and out_channels = 2, as shown in the cell above."
   ]
  },
  {
   "cell_type": "code",
   "execution_count": 13,
   "metadata": {},
   "outputs": [
    {
     "data": {
      "text/plain": [
       "torch.Size([100, 16, 32, 32])"
      ]
     },
     "execution_count": 13,
     "metadata": {},
     "output_type": "execute_result"
    }
   ],
   "source": [
    "model.conv.forward(train).shape"
   ]
  },
  {
   "cell_type": "code",
   "execution_count": 26,
   "metadata": {},
   "outputs": [
    {
     "data": {
      "text/plain": [
       "tensor([[0., 0., 0., 0., 0., 0., 0., 0., 0., 0., 0., 0., 0., 0., 0., 0., 0., 0., 0., 0., 0., 0., 0., 0.,\n",
       "         0., 0., 0., 0., 0., 0., 0., 0., 0., 0., 0., 0., 0., 0., 0., 0., 0., 0., 0., 0., 0., 0., 0., 0.,\n",
       "         0., 0., 0., 0., 0., 0., 0., 0., 0., 0., 0., 0., 0., 0., 0., 0.]])"
      ]
     },
     "execution_count": 26,
     "metadata": {},
     "output_type": "execute_result"
    }
   ],
   "source": [
    "test_zeros"
   ]
  },
  {
   "cell_type": "markdown",
   "metadata": {},
   "source": [
    "***"
   ]
  },
  {
   "cell_type": "code",
   "execution_count": 14,
   "metadata": {},
   "outputs": [
    {
     "name": "stdout",
     "output_type": "stream",
     "text": [
      "model.bn:\n",
      "\n",
      "Type: <class 'torch.nn.modules.batchnorm.BatchNorm2d'>\n",
      "About layer:\n",
      "num_features: 16\n",
      "eps: 1e-05\n",
      "momentum: 0.1\n",
      "affine: True\n",
      "track_running_stats: True\n",
      "weight: Parameter containing:\n",
      "tensor([1., 1., 1., 1., 1., 1., 1., 1., 1., 1., 1., 1., 1., 1., 1., 1.],\n",
      "       requires_grad=True)\n",
      "\n",
      "bias: Parameter containing:\n",
      "tensor([0., 0., 0., 0., 0., 0., 0., 0., 0., 0., 0., 0., 0., 0., 0., 0.],\n",
      "       requires_grad=True)\n",
      "\n"
     ]
    }
   ],
   "source": [
    "print(f'model.bn:\\n')\n",
    "print(f'Type: {type(model.bn)}')\n",
    "print(f'About layer:')\n",
    "print(f'num_features: {model.bn.num_features}')\n",
    "print(f'eps: {model.bn.eps}')\n",
    "print(f'momentum: {model.bn.momentum}')\n",
    "print(f'affine: {model.bn.affine}')\n",
    "print(f'track_running_stats: {model.bn.track_running_stats}')\n",
    "print(f'weight: {model.bn.weight}\\n')\n",
    "print(f'bias: {model.bn.bias}\\n')"
   ]
  },
  {
   "cell_type": "code",
   "execution_count": 15,
   "metadata": {},
   "outputs": [
    {
     "data": {
      "text/plain": [
       "torch.nn.parameter.Parameter"
      ]
     },
     "execution_count": 15,
     "metadata": {},
     "output_type": "execute_result"
    }
   ],
   "source": [
    "type(model.bn.weight)"
   ]
  },
  {
   "cell_type": "markdown",
   "metadata": {},
   "source": [
    "After that, `self.bn = nn.BatchNorm2d(16)`. Here we specifiy that the num_features will be 16. The affine is set to `True`, therefore it has learnable affine parameters (unsure of what that means). It creates a Tensor the size of num_features (which is 16). The  momentum, as specified by the [source](https://pytorch.org/docs/master/_modules/torch/nn/modules/batchnorm.html#BatchNorm2d) is the value used for the running_mean and running_var computation. "
   ]
  },
  {
   "cell_type": "markdown",
   "metadata": {},
   "source": [
    "*\n",
    "<!--         self.in_channels = 16\n",
    "        self.conv = conv3x3(1, 16)\n",
    "        self.bn = nn.BatchNorm2d(16)\n",
    "        self.relu = nn.ReLU(inplace=True)\n",
    "        self.layer1 = self.make_layer(block, 16, layers[0])\n",
    "        self.layer2 = self.make_layer(block, 32, layers[0], 2)\n",
    "        self.layer3 = self.make_layer(block, 64, layers[1], 2)\n",
    "        self.avg_pool = nn.AvgPool2d(8)\n",
    "        self.fc = nn.Linear(64, num_classes) -->"
   ]
  },
  {
   "cell_type": "code",
   "execution_count": 46,
   "metadata": {},
   "outputs": [
    {
     "name": "stdout",
     "output_type": "stream",
     "text": [
      "epoch 0 out of 5\n",
      "0 to continue, 1 to stop2\n",
      "0 to continue, 1 to stop2\n",
      "Train: tensor([[[[0.0000, 0.0000, 0.0000,  ..., 0.0000, 0.0000, 0.0000],\n",
      "          [0.0000, 0.0000, 0.0000,  ..., 0.0000, 0.0000, 0.0000],\n",
      "          [0.0000, 0.0000, 0.0000,  ..., 0.0000, 0.0000, 0.0000],\n",
      "          ...,\n",
      "          [0.0000, 0.0000, 0.0000,  ..., 0.0000, 0.0000, 0.0000],\n",
      "          [0.0000, 0.0000, 0.0000,  ..., 0.0000, 0.0000, 0.2471],\n",
      "          [0.9216, 0.8706, 0.4863,  ..., 0.2784, 0.3961, 0.8235]]]])\n",
      "Outputs type: <class 'torch.Tensor'>\n",
      "Loss type: <class 'torch.Tensor'>\n",
      "Optimizer type: <class 'torch.optim.adam.Adam'>\n",
      "Count: 0\n",
      "0 to continue, 1 to stop2\n",
      "0 to continue, 1 to stop2\n",
      "Train: tensor([[[[0.0000, 0.0000, 0.0000,  ..., 0.0000, 0.0000, 0.0000],\n",
      "          [0.0000, 0.0000, 0.0000,  ..., 0.0000, 0.0000, 0.0000],\n",
      "          [0.0000, 0.0000, 0.0000,  ..., 0.0000, 0.0000, 0.0000],\n",
      "          ...,\n",
      "          [0.0000, 0.0000, 0.0000,  ..., 0.0000, 0.0000, 0.0000],\n",
      "          [0.0000, 0.0000, 0.0000,  ..., 0.0000, 0.0000, 0.0000],\n",
      "          [0.3451, 0.9922, 0.5725,  ..., 0.9412, 0.0902, 0.0000]]]])\n",
      "Outputs type: <class 'torch.Tensor'>\n",
      "Loss type: <class 'torch.Tensor'>\n",
      "Optimizer type: <class 'torch.optim.adam.Adam'>\n",
      "Count: 1\n",
      "0 to continue, 1 to stop2\n",
      "0 to continue, 1 to stop2\n",
      "Train: tensor([[[[0.0000, 0.0000, 0.0000,  ..., 0.0000, 0.0000, 0.0000],\n",
      "          [0.0000, 0.0000, 0.0000,  ..., 0.0000, 0.0000, 0.0000],\n",
      "          [0.0000, 0.0000, 0.0000,  ..., 0.0000, 0.0000, 0.0000],\n",
      "          ...,\n",
      "          [0.0000, 0.0000, 0.0000,  ..., 0.0000, 0.0000, 0.0000],\n",
      "          [0.0000, 0.7176, 0.9882,  ..., 0.9804, 0.4588, 0.1137],\n",
      "          [0.5961, 0.9765, 0.9922,  ..., 0.8667, 0.9922, 0.9882]]]])\n",
      "Outputs type: <class 'torch.Tensor'>\n",
      "Loss type: <class 'torch.Tensor'>\n",
      "Optimizer type: <class 'torch.optim.adam.Adam'>\n",
      "Count: 2\n",
      "0 to continue, 1 to stop2\n",
      "0 to continue, 1 to stop2\n",
      "Train: tensor([[[[0.0000, 0.0000, 0.0000,  ..., 0.0000, 0.0000, 0.0000],\n",
      "          [0.0000, 0.0000, 0.0000,  ..., 0.0000, 0.0000, 0.0000],\n",
      "          [0.0000, 0.0000, 0.0000,  ..., 0.0000, 0.0000, 0.0000],\n",
      "          ...,\n",
      "          [0.0000, 0.0000, 0.0000,  ..., 0.0000, 0.0000, 0.0000],\n",
      "          [0.0000, 0.0000, 0.0000,  ..., 0.0000, 0.2510, 0.9686],\n",
      "          [0.9961, 0.9961, 0.9961,  ..., 0.9961, 0.7529, 0.6471]]]])\n",
      "Outputs type: <class 'torch.Tensor'>\n",
      "Loss type: <class 'torch.Tensor'>\n",
      "Optimizer type: <class 'torch.optim.adam.Adam'>\n",
      "Count: 3\n",
      "0 to continue, 1 to stop1\n",
      "0 to continue, 1 to stop1\n",
      "epoch 1 out of 5\n",
      "0 to continue, 1 to stop1\n",
      "0 to continue, 1 to stop1\n",
      "epoch 2 out of 5\n",
      "0 to continue, 1 to stop1\n",
      "0 to continue, 1 to stop1\n",
      "epoch 3 out of 5\n",
      "0 to continue, 1 to stop1\n",
      "0 to continue, 1 to stop1\n",
      "epoch 4 out of 5\n",
      "0 to continue, 1 to stop1\n",
      "0 to continue, 1 to stop1\n"
     ]
    }
   ],
   "source": [
    "error = nn.CrossEntropyLoss()\n",
    "learning_rate = 0.05\n",
    "optimizer = torch.optim.Adam(model.parameters(), lr=learning_rate)\n",
    "loss_list = []\n",
    "iteration_list = []\n",
    "accuracy_list = []\n",
    "count = 0\n",
    "num_epochs = 5\n",
    "\n",
    "for epoch in range(num_epochs):\n",
    "    print(f'epoch {epoch} out of {num_epochs}')\n",
    "    for i, (images, labels) in enumerate(train_loader):                  \n",
    "        stop = int(input(\"0 to continue, 1 to stop\"))\n",
    "        train  = Variable(images.resize_(batch_size, 1, 32, 32))\n",
    "        labels = Variable(labels)           \n",
    "        \n",
    "        # Forward propagation\n",
    "        outputs = model(train)      \n",
    "        \n",
    "        # Calculate softmax and ross entropy loss\n",
    "        loss = error(outputs, labels)   \n",
    "        \n",
    "        # Calculating gradients\n",
    "        loss.backward()   \n",
    "        \n",
    "        # Update parameters\n",
    "        optimizer.step()  \n",
    "        \n",
    "        \n",
    "        stop = int(input(\"0 to continue, 1 to stop\"))\n",
    "        if stop == 1:\n",
    "            break\n",
    "        elif stop == 2:\n",
    "            print(\"Train:\", train[:1])\n",
    "            print(\"Outputs type:\", type(outputs))\n",
    "            print(\"Loss type:\", type(loss))\n",
    "            print(\"Optimizer type:\", type(optimizer))\n",
    "            print(\"Count:\", count)\n",
    "\n",
    "        \n",
    "        count += 1      \n",
    "        if count % 20 == 0:\n",
    "            correct = 0\n",
    "            total = 0\n",
    "\n",
    "            for images, labels in test_loader:\n",
    "                images = Variable(images.resize_(batch_size, 1, 32, 32))                \n",
    "                outputs = model(images)                \n",
    "                predicted = torch.max(outputs.data, 1)[1]                \n",
    "                total += labels.size(0)              \n",
    "                correct += (predicted == labels).sum()         \n",
    "            \n",
    "            accuracy = 100 * correct / float(total)           \n",
    "\n",
    "            loss_list.append(loss.data)\n",
    "            iteration_list.append(count)\n",
    "            accuracy_list.append(accuracy)"
   ]
  },
  {
   "cell_type": "code",
   "execution_count": null,
   "metadata": {},
   "outputs": [],
   "source": []
  }
 ],
 "metadata": {
  "kernelspec": {
   "display_name": "Python 3",
   "language": "python",
   "name": "python3"
  },
  "language_info": {
   "codemirror_mode": {
    "name": "ipython",
    "version": 3
   },
   "file_extension": ".py",
   "mimetype": "text/x-python",
   "name": "python",
   "nbconvert_exporter": "python",
   "pygments_lexer": "ipython3",
   "version": "3.8.2"
  }
 },
 "nbformat": 4,
 "nbformat_minor": 4
}
