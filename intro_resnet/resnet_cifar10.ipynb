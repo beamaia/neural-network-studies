{
 "cells": [
  {
   "cell_type": "markdown",
   "metadata": {},
   "source": [
    "In this notebook we will follow a [PyTorch tutorial](https://pytorch-tutorial.readthedocs.io/en/latest/tutorial/chapter03_intermediate/3_2_2_cnn_resnet_cifar10/) implementing [Deep Residual Learning for Image Recognition](https://arxiv.org/pdf/1512.03385.pdf) with CIFAR10."
   ]
  },
  {
   "cell_type": "code",
   "execution_count": 1,
   "metadata": {},
   "outputs": [],
   "source": [
    "import torch\n",
    "import torch.nn as nn\n",
    "import torchvision\n",
    "import torchvision.transforms as transforms"
   ]
  },
  {
   "cell_type": "code",
   "execution_count": 2,
   "metadata": {},
   "outputs": [
    {
     "data": {
      "text/plain": [
       "device(type='cuda')"
      ]
     },
     "execution_count": 2,
     "metadata": {},
     "output_type": "execute_result"
    }
   ],
   "source": [
    "device = torch.device('cuda' if torch.cuda.is_available() else 'cpu')\n",
    "device"
   ]
  },
  {
   "cell_type": "markdown",
   "metadata": {},
   "source": [
    "### Dataset\n",
    "***"
   ]
  },
  {
   "cell_type": "code",
   "execution_count": 4,
   "metadata": {},
   "outputs": [],
   "source": [
    "# Image preprocessing modules (see more about this later)\n",
    "transform = transforms.Compose([\n",
    "    transforms.Pad(4),\n",
    "    transforms.RandomHorizontalFlip(),\n",
    "    transforms.RandomCrop(32),\n",
    "    transforms.ToTensor()])"
   ]
  },
  {
   "cell_type": "code",
   "execution_count": 5,
   "metadata": {},
   "outputs": [],
   "source": [
    "train_dataset = torchvision.datasets.CIFAR10(root='../cifar-10-batches-py/',\n",
    "                                             train=True, \n",
    "                                             transform=transform)\n",
    "\n",
    "test_dataset = torchvision.datasets.CIFAR10(root='../cifar-10-batches-py/',\n",
    "                                            train=False, \n",
    "                                            transform=transforms.ToTensor())"
   ]
  },
  {
   "cell_type": "code",
   "execution_count": 18,
   "metadata": {
    "scrolled": true
   },
   "outputs": [
    {
     "data": {
      "text/plain": [
       "Dataset CIFAR10\n",
       "    Number of datapoints: 50000\n",
       "    Root location: ../cifar-10-batches-py/\n",
       "    Split: Train\n",
       "    StandardTransform\n",
       "Transform: Compose(\n",
       "               Pad(padding=4, fill=0, padding_mode=constant)\n",
       "               RandomHorizontalFlip(p=0.5)\n",
       "               RandomCrop(size=(32, 32), padding=None)\n",
       "               ToTensor()\n",
       "           )"
      ]
     },
     "execution_count": 18,
     "metadata": {},
     "output_type": "execute_result"
    }
   ],
   "source": [
    "train_dataset"
   ]
  },
  {
   "cell_type": "code",
   "execution_count": 19,
   "metadata": {
    "scrolled": true
   },
   "outputs": [
    {
     "data": {
      "text/plain": [
       "torchvision.datasets.cifar.CIFAR10"
      ]
     },
     "execution_count": 19,
     "metadata": {},
     "output_type": "execute_result"
    }
   ],
   "source": [
    "type(train_dataset)"
   ]
  },
  {
   "cell_type": "code",
   "execution_count": 20,
   "metadata": {},
   "outputs": [
    {
     "data": {
      "text/plain": [
       "(50000, 32, 32, 3)"
      ]
     },
     "execution_count": 20,
     "metadata": {},
     "output_type": "execute_result"
    }
   ],
   "source": [
    "train_dataset.data.shape"
   ]
  },
  {
   "cell_type": "code",
   "execution_count": 43,
   "metadata": {},
   "outputs": [
    {
     "data": {
      "text/plain": [
       "Dataset CIFAR10\n",
       "    Number of datapoints: 10000\n",
       "    Root location: ../cifar-10-batches-py/\n",
       "    Split: Test\n",
       "    StandardTransform\n",
       "Transform: ToTensor()"
      ]
     },
     "execution_count": 43,
     "metadata": {},
     "output_type": "execute_result"
    }
   ],
   "source": [
    "test_dataset"
   ]
  },
  {
   "cell_type": "code",
   "execution_count": 21,
   "metadata": {},
   "outputs": [
    {
     "data": {
      "text/plain": [
       "(10000, 32, 32, 3)"
      ]
     },
     "execution_count": 21,
     "metadata": {},
     "output_type": "execute_result"
    }
   ],
   "source": [
    "test_dataset.data.shape"
   ]
  },
  {
   "cell_type": "code",
   "execution_count": 6,
   "metadata": {},
   "outputs": [],
   "source": [
    "import matplotlib.pyplot as plt"
   ]
  },
  {
   "cell_type": "code",
   "execution_count": 7,
   "metadata": {},
   "outputs": [
    {
     "data": {
      "text/plain": [
       "<matplotlib.image.AxesImage at 0x7fba0483cf10>"
      ]
     },
     "execution_count": 7,
     "metadata": {},
     "output_type": "execute_result"
    },
    {
     "data": {
      "image/png": "[encoded data removed]",
      "text/plain": [
       "<Figure size 432x288 with 1 Axes>"
      ]
     },
     "metadata": {
      "needs_background": "light"
     },
     "output_type": "display_data"
    }
   ],
   "source": [
    "plt.figure()\n",
    "plt.imshow(train_dataset.data[42])"
   ]
  },
  {
   "cell_type": "code",
   "execution_count": 8,
   "metadata": {},
   "outputs": [],
   "source": [
    "train_loader = torch.utils.data.DataLoader(dataset=train_dataset,\n",
    "                                           batch_size=100, \n",
    "                                           shuffle=True) #Original tutorial has shuffle=True\n",
    "\n",
    "test_loader = torch.utils.data.DataLoader(dataset=test_dataset,\n",
    "                                          batch_size=100, \n",
    "                                          shuffle=False)"
   ]
  },
  {
   "cell_type": "code",
   "execution_count": 48,
   "metadata": {},
   "outputs": [
    {
     "data": {
      "text/plain": [
       "<torch.utils.data.dataloader.DataLoader at 0x7f43805b3e20>"
      ]
     },
     "execution_count": 48,
     "metadata": {},
     "output_type": "execute_result"
    }
   ],
   "source": [
    "train_loader"
   ]
  },
  {
   "cell_type": "markdown",
   "metadata": {},
   "source": [
    "### Model\n",
    "***"
   ]
  },
  {
   "cell_type": "code",
   "execution_count": 23,
   "metadata": {},
   "outputs": [],
   "source": [
    "import torch\n",
    "import torch.nn as nn\n",
    "import torchvision.transforms as transforms\n",
    "from torch.autograd import Variable"
   ]
  },
  {
   "cell_type": "code",
   "execution_count": 30,
   "metadata": {},
   "outputs": [],
   "source": [
    "def conv3x3(in_channels, out_channels, stride=1):\n",
    "    return nn.Conv2d(in_channels,\n",
    "                     out_channels,\n",
    "                     kernel_size=3,\n",
    "                     stride=stride,\n",
    "                     padding=1,\n",
    "                     bias=False)\n",
    "\n",
    "class ResidualBlock(nn.Module):\n",
    "    def __init__(self, in_channels, out_channels, stride=1, downsample=None):\n",
    "        super(ResidualBlock, self).__init__()\n",
    "        self.conv1 = conv3x3(in_channels, out_channels, stride)\n",
    "        self.bn1 = nn.BatchNorm2d(out_channels)\n",
    "        self.relu = nn.ReLU(inplace=True)\n",
    "        self.conv2 = conv3x3(out_channels, out_channels)\n",
    "        self.bn2 = nn.BatchNorm2d(out_channels)\n",
    "        self.downsample = downsample\n",
    "    \n",
    "    def forward(self, x):\n",
    "        residual = x\n",
    "        out = self.conv1(x)\n",
    "        out = self.bn1(out)\n",
    "        out = self.relu(out)\n",
    "        out = self.conv2(out)\n",
    "        out = self.bn2(out)\n",
    "        \n",
    "        if self.downsample:\n",
    "            residual = self.downsample(x)\n",
    "            \n",
    "        out += residual\n",
    "        out = self.relu(out)\n",
    "        \n",
    "        return out\n",
    "\n",
    "class ResNet(nn.Module):\n",
    "    def __init__(self, block, layers, num_classes=10):\n",
    "        super(ResNet, self).__init__()\n",
    "        self.in_channels = 16\n",
    "        self.conv = conv3x3(1, 16)  # 1 when using mnist, 3 when using cifar10\n",
    "        self.bn = nn.BatchNorm2d(16)\n",
    "        self.relu = nn.ReLU(inplace=True)\n",
    "        self.layer1 = self.make_layer(block, 16, layers[0])\n",
    "        self.layer2 = self.make_layer(block, 32, layers[1], 2)\n",
    "        self.layer3 = self.make_layer(block, 64, layers[2], 2)\n",
    "        self.avg_pool = nn.AvgPool2d(8)\n",
    "        self.fc = nn.Linear(64, num_classes)\n",
    "        \n",
    "    \n",
    "    def make_layer(self, block, out_channels, blocks, stride=1):\n",
    "        \n",
    "        downsample = None\n",
    "        \n",
    "        if (stride != 1) or (self.in_channels != out_channels):\n",
    "            downsample = nn.Sequential(\n",
    "                conv3x3(self.in_channels, out_channels, stride=stride),\n",
    "                nn.BatchNorm2d(out_channels))\n",
    "        \n",
    "        layers = []\n",
    "        layers.append(block(self.in_channels, out_channels, stride, downsample))\n",
    "        self.in_channels = out_channels\n",
    "        \n",
    "        for i in range(1, blocks):\n",
    "            layers.append(block(out_channels, out_channels))\n",
    "        \n",
    "        return nn.Sequential(*layers)\n",
    "    \n",
    "    def forward(self, x):\n",
    "        out = self.conv(x)\n",
    "        out = self.bn(out)\n",
    "        out = self.relu(out)\n",
    "        out = self.layer1(out)\n",
    "        out = self.layer2(out)\n",
    "        out = self.layer3(out)\n",
    "        out = self.avg_pool(out)\n",
    "        out = out.view(out.size(0), -1)\n",
    "        out = self.fc(out)\n",
    "        \n",
    "        return out"
   ]
  },
  {
   "cell_type": "markdown",
   "metadata": {},
   "source": [
    "### Training and testing"
   ]
  },
  {
   "cell_type": "code",
   "execution_count": 42,
   "metadata": {},
   "outputs": [
    {
     "ename": "IndentationError",
     "evalue": "expected an indented block (<ipython-input-42-b1681609b042>, line 6)",
     "output_type": "error",
     "traceback": [
      "\u001b[0;36m  File \u001b[0;32m\"<ipython-input-42-b1681609b042>\"\u001b[0;36m, line \u001b[0;32m6\u001b[0m\n\u001b[0;31m    for i, (images, labels) in enumerate(train_loader):\u001b[0m\n\u001b[0m    ^\u001b[0m\n\u001b[0;31mIndentationError\u001b[0m\u001b[0;31m:\u001b[0m expected an indented block\n"
     ]
    }
   ],
   "source": [
    "def train_model(train_loader, num_epoch, model, error, optimizer, curr_lr, update_lr):\n",
    "    print(\"Training model\")\n",
    "    print(f\"Total epochs: {num_epoch}. Current learning rate: {curr_lr}\")\n",
    "    \n",
    "    for epoch in range(num_epochs):\n",
    "    for i, (images, labels) in enumerate(train_loader):\n",
    "        images = images.resize_(100, 1, 32, 32).to(device)\n",
    "        labels = labels.to(device)\n",
    "\n",
    "        # Forward pass\n",
    "        outputs = model(images)\n",
    "        loss = error(outputs, labels)\n",
    "\n",
    "        # Backward and optimize\n",
    "        optimizer.zero_grad()\n",
    "        loss.backward()\n",
    "        optimizer.step()\n",
    "\n",
    "        if (i+1) % 100 == 0:\n",
    "            print (\"Epoch [{}/{}], Step [{}/{}] Loss: {:.4f}\"\n",
    "                   .format(epoch+1, num_epochs, i+1, total_step, loss.item()))\n",
    "\n",
    "    # Decay learning rate\n",
    "    if (epoch+1) % 20 == 0:\n",
    "        curr_lr /= 3\n",
    "        update_lr(optimizer, curr_lr)\n",
    "        \n",
    "    return model"
   ]
  },
  {
   "cell_type": "code",
   "execution_count": 43,
   "metadata": {},
   "outputs": [],
   "source": [
    "def test_model(test_loader, model):\n",
    "    model.eval()\n",
    "    with torch.no_grad():\n",
    "        correct = 0\n",
    "        total = 0\n",
    "        for images, labels in test_loader:\n",
    "            images = images.resize_(100, 1, 32, 32).to(device)\n",
    "            labels = labels.to(device)\n",
    "            outputs = model(images)\n",
    "            _, predicted = torch.max(outputs.data, 1)\n",
    "            total += labels.size(0)\n",
    "            correct += (predicted == labels).sum().item()\n",
    "\n",
    "        print('Accuracy of the model on the test images: {} %'.format(100 * correct / total))"
   ]
  },
  {
   "cell_type": "code",
   "execution_count": 37,
   "metadata": {},
   "outputs": [],
   "source": [
    "# Hyper-parameters (attempt changing them later)\n",
    "num_epochs = 80\n",
    "learning_rate = 0.001"
   ]
  },
  {
   "cell_type": "code",
   "execution_count": 31,
   "metadata": {},
   "outputs": [],
   "source": [
    "net_args = {\n",
    "    \"block\" : ResidualBlock,\n",
    "    \"layers\": [2, 2, 2]\n",
    "}\n",
    "\n",
    "model = ResNet(**net_args).to(device)"
   ]
  },
  {
   "cell_type": "code",
   "execution_count": 32,
   "metadata": {},
   "outputs": [],
   "source": [
    "error = nn.CrossEntropyLoss()\n",
    "optimizer = torch.optim.Adam(model.parameters(), lr=learning_rate)"
   ]
  },
  {
   "cell_type": "code",
   "execution_count": 33,
   "metadata": {},
   "outputs": [],
   "source": [
    "def update_lr(optimizer, lr):    \n",
    "    for param_group in optimizer.param_groups:\n",
    "        param_group['lr'] = lr"
   ]
  },
  {
   "cell_type": "code",
   "execution_count": 34,
   "metadata": {},
   "outputs": [],
   "source": [
    "total_step = len(train_loader)\n",
    "curr_lr = learning_rate"
   ]
  },
  {
   "cell_type": "code",
   "execution_count": 38,
   "metadata": {
    "scrolled": true
   },
   "outputs": [
    {
     "name": "stdout",
     "output_type": "stream",
     "text": [
      "Epoch [1/80], Step [100/500] Loss: 2.3057\n",
      "Epoch [1/80], Step [200/500] Loss: 2.3005\n",
      "Epoch [1/80], Step [300/500] Loss: 2.3031\n",
      "Epoch [1/80], Step [400/500] Loss: 2.3033\n",
      "Epoch [1/80], Step [500/500] Loss: 2.3057\n",
      "Epoch [2/80], Step [100/500] Loss: 2.2999\n",
      "Epoch [2/80], Step [200/500] Loss: 2.3021\n",
      "Epoch [2/80], Step [300/500] Loss: 2.3047\n",
      "Epoch [2/80], Step [400/500] Loss: 2.3029\n",
      "Epoch [2/80], Step [500/500] Loss: 2.3016\n",
      "Epoch [3/80], Step [100/500] Loss: 2.3040\n",
      "Epoch [3/80], Step [200/500] Loss: 2.3014\n",
      "Epoch [3/80], Step [300/500] Loss: 2.3014\n",
      "Epoch [3/80], Step [400/500] Loss: 2.3028\n",
      "Epoch [3/80], Step [500/500] Loss: 2.3034\n",
      "Epoch [4/80], Step [100/500] Loss: 2.3042\n",
      "Epoch [4/80], Step [200/500] Loss: 2.3072\n",
      "Epoch [4/80], Step [300/500] Loss: 2.3004\n",
      "Epoch [4/80], Step [400/500] Loss: 2.3043\n",
      "Epoch [4/80], Step [500/500] Loss: 2.3006\n",
      "Epoch [5/80], Step [100/500] Loss: 2.2984\n",
      "Epoch [5/80], Step [200/500] Loss: 2.3048\n",
      "Epoch [5/80], Step [300/500] Loss: 2.3076\n",
      "Epoch [5/80], Step [400/500] Loss: 2.3059\n",
      "Epoch [5/80], Step [500/500] Loss: 2.3009\n",
      "Epoch [6/80], Step [100/500] Loss: 2.3048\n",
      "Epoch [6/80], Step [200/500] Loss: 2.3025\n",
      "Epoch [6/80], Step [300/500] Loss: 2.3058\n",
      "Epoch [6/80], Step [400/500] Loss: 2.3050\n",
      "Epoch [6/80], Step [500/500] Loss: 2.3064\n",
      "Epoch [7/80], Step [100/500] Loss: 2.3044\n",
      "Epoch [7/80], Step [200/500] Loss: 2.3040\n",
      "Epoch [7/80], Step [300/500] Loss: 2.3034\n",
      "Epoch [7/80], Step [400/500] Loss: 2.3042\n",
      "Epoch [7/80], Step [500/500] Loss: 2.3032\n",
      "Epoch [8/80], Step [100/500] Loss: 2.3047\n",
      "Epoch [8/80], Step [200/500] Loss: 2.2990\n",
      "Epoch [8/80], Step [300/500] Loss: 2.3009\n",
      "Epoch [8/80], Step [400/500] Loss: 2.3045\n",
      "Epoch [8/80], Step [500/500] Loss: 2.3027\n",
      "Epoch [9/80], Step [100/500] Loss: 2.3018\n",
      "Epoch [9/80], Step [200/500] Loss: 2.3017\n",
      "Epoch [9/80], Step [300/500] Loss: 2.3030\n",
      "Epoch [9/80], Step [400/500] Loss: 2.3016\n",
      "Epoch [9/80], Step [500/500] Loss: 2.3041\n",
      "Epoch [10/80], Step [100/500] Loss: 2.3030\n",
      "Epoch [10/80], Step [200/500] Loss: 2.3030\n",
      "Epoch [10/80], Step [300/500] Loss: 2.3009\n",
      "Epoch [10/80], Step [400/500] Loss: 2.3046\n",
      "Epoch [10/80], Step [500/500] Loss: 2.3025\n",
      "Epoch [11/80], Step [100/500] Loss: 2.3035\n",
      "Epoch [11/80], Step [200/500] Loss: 2.3016\n",
      "Epoch [11/80], Step [300/500] Loss: 2.3032\n",
      "Epoch [11/80], Step [400/500] Loss: 2.3021\n",
      "Epoch [11/80], Step [500/500] Loss: 2.3014\n",
      "Epoch [12/80], Step [100/500] Loss: 2.3026\n",
      "Epoch [12/80], Step [200/500] Loss: 2.3033\n",
      "Epoch [12/80], Step [300/500] Loss: 2.3028\n",
      "Epoch [12/80], Step [400/500] Loss: 2.3044\n",
      "Epoch [12/80], Step [500/500] Loss: 2.3040\n",
      "Epoch [13/80], Step [100/500] Loss: 2.3018\n",
      "Epoch [13/80], Step [200/500] Loss: 2.3020\n",
      "Epoch [13/80], Step [300/500] Loss: 2.3002\n",
      "Epoch [13/80], Step [400/500] Loss: 2.3041\n",
      "Epoch [13/80], Step [500/500] Loss: 2.3029\n",
      "Epoch [14/80], Step [100/500] Loss: 2.3037\n",
      "Epoch [14/80], Step [200/500] Loss: 2.3066\n",
      "Epoch [14/80], Step [300/500] Loss: 2.3017\n",
      "Epoch [14/80], Step [400/500] Loss: 2.3035\n",
      "Epoch [14/80], Step [500/500] Loss: 2.3027\n",
      "Epoch [15/80], Step [100/500] Loss: 2.3029\n",
      "Epoch [15/80], Step [200/500] Loss: 2.3025\n",
      "Epoch [15/80], Step [300/500] Loss: 2.3020\n",
      "Epoch [15/80], Step [400/500] Loss: 2.3030\n",
      "Epoch [15/80], Step [500/500] Loss: 2.3043\n",
      "Epoch [16/80], Step [100/500] Loss: 2.3011\n",
      "Epoch [16/80], Step [200/500] Loss: 2.3028\n",
      "Epoch [16/80], Step [300/500] Loss: 2.3030\n",
      "Epoch [16/80], Step [400/500] Loss: 2.3023\n",
      "Epoch [16/80], Step [500/500] Loss: 2.3039\n",
      "Epoch [17/80], Step [100/500] Loss: 2.3015\n",
      "Epoch [17/80], Step [200/500] Loss: 2.3033\n",
      "Epoch [17/80], Step [300/500] Loss: 2.3037\n",
      "Epoch [17/80], Step [400/500] Loss: 2.3014\n",
      "Epoch [17/80], Step [500/500] Loss: 2.3033\n",
      "Epoch [18/80], Step [100/500] Loss: 2.3023\n",
      "Epoch [18/80], Step [200/500] Loss: 2.3014\n",
      "Epoch [18/80], Step [300/500] Loss: 2.3021\n",
      "Epoch [18/80], Step [400/500] Loss: 2.3019\n",
      "Epoch [18/80], Step [500/500] Loss: 2.3043\n",
      "Epoch [19/80], Step [100/500] Loss: 2.3037\n",
      "Epoch [19/80], Step [200/500] Loss: 2.3024\n",
      "Epoch [19/80], Step [300/500] Loss: 2.3015\n",
      "Epoch [19/80], Step [400/500] Loss: 2.3017\n",
      "Epoch [19/80], Step [500/500] Loss: 2.3028\n",
      "Epoch [20/80], Step [100/500] Loss: 2.3029\n",
      "Epoch [20/80], Step [200/500] Loss: 2.3006\n",
      "Epoch [20/80], Step [300/500] Loss: 2.3025\n",
      "Epoch [20/80], Step [400/500] Loss: 2.3017\n",
      "Epoch [20/80], Step [500/500] Loss: 2.3025\n",
      "Epoch [21/80], Step [100/500] Loss: 2.3021\n",
      "Epoch [21/80], Step [200/500] Loss: 2.3033\n",
      "Epoch [21/80], Step [300/500] Loss: 2.3013\n",
      "Epoch [21/80], Step [400/500] Loss: 2.3028\n",
      "Epoch [21/80], Step [500/500] Loss: 2.3028\n",
      "Epoch [22/80], Step [100/500] Loss: 2.3025\n",
      "Epoch [22/80], Step [200/500] Loss: 2.3025\n",
      "Epoch [22/80], Step [300/500] Loss: 2.3030\n",
      "Epoch [22/80], Step [400/500] Loss: 2.3027\n",
      "Epoch [22/80], Step [500/500] Loss: 2.3030\n",
      "Epoch [23/80], Step [100/500] Loss: 2.3027\n",
      "Epoch [23/80], Step [200/500] Loss: 2.3028\n",
      "Epoch [23/80], Step [300/500] Loss: 2.3028\n",
      "Epoch [23/80], Step [400/500] Loss: 2.3027\n",
      "Epoch [23/80], Step [500/500] Loss: 2.3027\n",
      "Epoch [24/80], Step [100/500] Loss: 2.3033\n",
      "Epoch [24/80], Step [200/500] Loss: 2.3029\n",
      "Epoch [24/80], Step [300/500] Loss: 2.3025\n",
      "Epoch [24/80], Step [400/500] Loss: 2.3026\n",
      "Epoch [24/80], Step [500/500] Loss: 2.3025\n",
      "Epoch [25/80], Step [100/500] Loss: 2.3021\n",
      "Epoch [25/80], Step [200/500] Loss: 2.3027\n",
      "Epoch [25/80], Step [300/500] Loss: 2.3029\n",
      "Epoch [25/80], Step [400/500] Loss: 2.3029\n",
      "Epoch [25/80], Step [500/500] Loss: 2.3029\n",
      "Epoch [26/80], Step [100/500] Loss: 2.3024\n",
      "Epoch [26/80], Step [200/500] Loss: 2.3022\n",
      "Epoch [26/80], Step [300/500] Loss: 2.3019\n",
      "Epoch [26/80], Step [400/500] Loss: 2.3024\n",
      "Epoch [26/80], Step [500/500] Loss: 2.3028\n",
      "Epoch [27/80], Step [100/500] Loss: 2.3032\n",
      "Epoch [27/80], Step [200/500] Loss: 2.3028\n",
      "Epoch [27/80], Step [300/500] Loss: 2.3029\n",
      "Epoch [27/80], Step [400/500] Loss: 2.3024\n",
      "Epoch [27/80], Step [500/500] Loss: 2.3027\n",
      "Epoch [28/80], Step [100/500] Loss: 2.3021\n",
      "Epoch [28/80], Step [200/500] Loss: 2.3031\n",
      "Epoch [28/80], Step [300/500] Loss: 2.3032\n",
      "Epoch [28/80], Step [400/500] Loss: 2.3032\n",
      "Epoch [28/80], Step [500/500] Loss: 2.3026\n",
      "Epoch [29/80], Step [100/500] Loss: 2.3025\n",
      "Epoch [29/80], Step [200/500] Loss: 2.3025\n",
      "Epoch [29/80], Step [300/500] Loss: 2.3031\n",
      "Epoch [29/80], Step [400/500] Loss: 2.3026\n",
      "Epoch [29/80], Step [500/500] Loss: 2.3025\n",
      "Epoch [30/80], Step [100/500] Loss: 2.3024\n",
      "Epoch [30/80], Step [200/500] Loss: 2.3023\n",
      "Epoch [30/80], Step [300/500] Loss: 2.3025\n",
      "Epoch [30/80], Step [400/500] Loss: 2.3024\n",
      "Epoch [30/80], Step [500/500] Loss: 2.3027\n",
      "Epoch [31/80], Step [100/500] Loss: 2.3032\n",
      "Epoch [31/80], Step [200/500] Loss: 2.3030\n",
      "Epoch [31/80], Step [300/500] Loss: 2.3032\n",
      "Epoch [31/80], Step [400/500] Loss: 2.3022\n",
      "Epoch [31/80], Step [500/500] Loss: 2.3026\n",
      "Epoch [32/80], Step [100/500] Loss: 2.3025\n",
      "Epoch [32/80], Step [200/500] Loss: 2.3024\n",
      "Epoch [32/80], Step [300/500] Loss: 2.3024\n",
      "Epoch [32/80], Step [400/500] Loss: 2.3026\n",
      "Epoch [32/80], Step [500/500] Loss: 2.3028\n",
      "Epoch [33/80], Step [100/500] Loss: 2.3024\n",
      "Epoch [33/80], Step [200/500] Loss: 2.3023\n",
      "Epoch [33/80], Step [300/500] Loss: 2.3026\n",
      "Epoch [33/80], Step [400/500] Loss: 2.3033\n",
      "Epoch [33/80], Step [500/500] Loss: 2.3027\n",
      "Epoch [34/80], Step [100/500] Loss: 2.3025\n",
      "Epoch [34/80], Step [200/500] Loss: 2.3022\n",
      "Epoch [34/80], Step [300/500] Loss: 2.3025\n",
      "Epoch [34/80], Step [400/500] Loss: 2.3027\n",
      "Epoch [34/80], Step [500/500] Loss: 2.3024\n",
      "Epoch [35/80], Step [100/500] Loss: 2.3026\n",
      "Epoch [35/80], Step [200/500] Loss: 2.3025\n",
      "Epoch [35/80], Step [300/500] Loss: 2.3028\n",
      "Epoch [35/80], Step [400/500] Loss: 2.3021\n",
      "Epoch [35/80], Step [500/500] Loss: 2.3026\n",
      "Epoch [36/80], Step [100/500] Loss: 2.3021\n",
      "Epoch [36/80], Step [200/500] Loss: 2.3024\n",
      "Epoch [36/80], Step [300/500] Loss: 2.3022\n",
      "Epoch [36/80], Step [400/500] Loss: 2.3026\n",
      "Epoch [36/80], Step [500/500] Loss: 2.3025\n",
      "Epoch [37/80], Step [100/500] Loss: 2.3026\n",
      "Epoch [37/80], Step [200/500] Loss: 2.3029\n",
      "Epoch [37/80], Step [300/500] Loss: 2.3025\n",
      "Epoch [37/80], Step [400/500] Loss: 2.3024\n",
      "Epoch [37/80], Step [500/500] Loss: 2.3029\n",
      "Epoch [38/80], Step [100/500] Loss: 2.3027\n",
      "Epoch [38/80], Step [200/500] Loss: 2.3027\n",
      "Epoch [38/80], Step [300/500] Loss: 2.3027\n",
      "Epoch [38/80], Step [400/500] Loss: 2.3028\n",
      "Epoch [38/80], Step [500/500] Loss: 2.3025\n",
      "Epoch [39/80], Step [100/500] Loss: 2.3024\n",
      "Epoch [39/80], Step [200/500] Loss: 2.3027\n"
     ]
    },
    {
     "name": "stdout",
     "output_type": "stream",
     "text": [
      "Epoch [39/80], Step [300/500] Loss: 2.3026\n",
      "Epoch [39/80], Step [400/500] Loss: 2.3032\n",
      "Epoch [39/80], Step [500/500] Loss: 2.3024\n",
      "Epoch [40/80], Step [100/500] Loss: 2.3029\n",
      "Epoch [40/80], Step [200/500] Loss: 2.3025\n",
      "Epoch [40/80], Step [300/500] Loss: 2.3026\n",
      "Epoch [40/80], Step [400/500] Loss: 2.3030\n",
      "Epoch [40/80], Step [500/500] Loss: 2.3027\n",
      "Epoch [41/80], Step [100/500] Loss: 2.3022\n",
      "Epoch [41/80], Step [200/500] Loss: 2.3021\n",
      "Epoch [41/80], Step [300/500] Loss: 2.3023\n",
      "Epoch [41/80], Step [400/500] Loss: 2.3029\n",
      "Epoch [41/80], Step [500/500] Loss: 2.3029\n",
      "Epoch [42/80], Step [100/500] Loss: 2.3025\n",
      "Epoch [42/80], Step [200/500] Loss: 2.3025\n",
      "Epoch [42/80], Step [300/500] Loss: 2.3023\n",
      "Epoch [42/80], Step [400/500] Loss: 2.3028\n",
      "Epoch [42/80], Step [500/500] Loss: 2.3030\n",
      "Epoch [43/80], Step [100/500] Loss: 2.3026\n",
      "Epoch [43/80], Step [200/500] Loss: 2.3026\n",
      "Epoch [43/80], Step [300/500] Loss: 2.3023\n",
      "Epoch [43/80], Step [400/500] Loss: 2.3031\n",
      "Epoch [43/80], Step [500/500] Loss: 2.3027\n",
      "Epoch [44/80], Step [100/500] Loss: 2.3026\n",
      "Epoch [44/80], Step [200/500] Loss: 2.3026\n",
      "Epoch [44/80], Step [300/500] Loss: 2.3026\n",
      "Epoch [44/80], Step [400/500] Loss: 2.3028\n",
      "Epoch [44/80], Step [500/500] Loss: 2.3026\n",
      "Epoch [45/80], Step [100/500] Loss: 2.3027\n",
      "Epoch [45/80], Step [200/500] Loss: 2.3027\n",
      "Epoch [45/80], Step [300/500] Loss: 2.3029\n",
      "Epoch [45/80], Step [400/500] Loss: 2.3027\n",
      "Epoch [45/80], Step [500/500] Loss: 2.3026\n",
      "Epoch [46/80], Step [100/500] Loss: 2.3026\n",
      "Epoch [46/80], Step [200/500] Loss: 2.3028\n",
      "Epoch [46/80], Step [300/500] Loss: 2.3025\n",
      "Epoch [46/80], Step [400/500] Loss: 2.3026\n",
      "Epoch [46/80], Step [500/500] Loss: 2.3026\n",
      "Epoch [47/80], Step [100/500] Loss: 2.3027\n",
      "Epoch [47/80], Step [200/500] Loss: 2.3026\n",
      "Epoch [47/80], Step [300/500] Loss: 2.3024\n",
      "Epoch [47/80], Step [400/500] Loss: 2.3026\n",
      "Epoch [47/80], Step [500/500] Loss: 2.3026\n",
      "Epoch [48/80], Step [100/500] Loss: 2.3025\n",
      "Epoch [48/80], Step [200/500] Loss: 2.3027\n",
      "Epoch [48/80], Step [300/500] Loss: 2.3025\n",
      "Epoch [48/80], Step [400/500] Loss: 2.3026\n",
      "Epoch [48/80], Step [500/500] Loss: 2.3025\n",
      "Epoch [49/80], Step [100/500] Loss: 2.3027\n",
      "Epoch [49/80], Step [200/500] Loss: 2.3025\n",
      "Epoch [49/80], Step [300/500] Loss: 2.3026\n",
      "Epoch [49/80], Step [400/500] Loss: 2.3027\n",
      "Epoch [49/80], Step [500/500] Loss: 2.3026\n",
      "Epoch [50/80], Step [100/500] Loss: 2.3025\n",
      "Epoch [50/80], Step [200/500] Loss: 2.3025\n",
      "Epoch [50/80], Step [300/500] Loss: 2.3023\n",
      "Epoch [50/80], Step [400/500] Loss: 2.3027\n",
      "Epoch [50/80], Step [500/500] Loss: 2.3027\n",
      "Epoch [51/80], Step [100/500] Loss: 2.3025\n",
      "Epoch [51/80], Step [200/500] Loss: 2.3027\n",
      "Epoch [51/80], Step [300/500] Loss: 2.3024\n",
      "Epoch [51/80], Step [400/500] Loss: 2.3026\n",
      "Epoch [51/80], Step [500/500] Loss: 2.3026\n",
      "Epoch [52/80], Step [100/500] Loss: 2.3027\n",
      "Epoch [52/80], Step [200/500] Loss: 2.3024\n",
      "Epoch [52/80], Step [300/500] Loss: 2.3026\n",
      "Epoch [52/80], Step [400/500] Loss: 2.3026\n",
      "Epoch [52/80], Step [500/500] Loss: 2.3026\n",
      "Epoch [53/80], Step [100/500] Loss: 2.3025\n",
      "Epoch [53/80], Step [200/500] Loss: 2.3028\n",
      "Epoch [53/80], Step [300/500] Loss: 2.3025\n",
      "Epoch [53/80], Step [400/500] Loss: 2.3026\n",
      "Epoch [53/80], Step [500/500] Loss: 2.3027\n",
      "Epoch [54/80], Step [100/500] Loss: 2.3027\n",
      "Epoch [54/80], Step [200/500] Loss: 2.3024\n",
      "Epoch [54/80], Step [300/500] Loss: 2.3025\n",
      "Epoch [54/80], Step [400/500] Loss: 2.3026\n",
      "Epoch [54/80], Step [500/500] Loss: 2.3026\n",
      "Epoch [55/80], Step [100/500] Loss: 2.3027\n",
      "Epoch [55/80], Step [200/500] Loss: 2.3026\n",
      "Epoch [55/80], Step [300/500] Loss: 2.3026\n",
      "Epoch [55/80], Step [400/500] Loss: 2.3025\n",
      "Epoch [55/80], Step [500/500] Loss: 2.3027\n",
      "Epoch [56/80], Step [100/500] Loss: 2.3027\n",
      "Epoch [56/80], Step [200/500] Loss: 2.3027\n",
      "Epoch [56/80], Step [300/500] Loss: 2.3025\n",
      "Epoch [56/80], Step [400/500] Loss: 2.3026\n",
      "Epoch [56/80], Step [500/500] Loss: 2.3027\n",
      "Epoch [57/80], Step [100/500] Loss: 2.3024\n",
      "Epoch [57/80], Step [200/500] Loss: 2.3026\n",
      "Epoch [57/80], Step [300/500] Loss: 2.3030\n",
      "Epoch [57/80], Step [400/500] Loss: 2.3028\n",
      "Epoch [57/80], Step [500/500] Loss: 2.3026\n",
      "Epoch [58/80], Step [100/500] Loss: 2.3026\n",
      "Epoch [58/80], Step [200/500] Loss: 2.3027\n",
      "Epoch [58/80], Step [300/500] Loss: 2.3026\n",
      "Epoch [58/80], Step [400/500] Loss: 2.3028\n",
      "Epoch [58/80], Step [500/500] Loss: 2.3026\n",
      "Epoch [59/80], Step [100/500] Loss: 2.3026\n",
      "Epoch [59/80], Step [200/500] Loss: 2.3023\n",
      "Epoch [59/80], Step [300/500] Loss: 2.3029\n",
      "Epoch [59/80], Step [400/500] Loss: 2.3024\n",
      "Epoch [59/80], Step [500/500] Loss: 2.3026\n",
      "Epoch [60/80], Step [100/500] Loss: 2.3027\n",
      "Epoch [60/80], Step [200/500] Loss: 2.3025\n",
      "Epoch [60/80], Step [300/500] Loss: 2.3027\n",
      "Epoch [60/80], Step [400/500] Loss: 2.3025\n",
      "Epoch [60/80], Step [500/500] Loss: 2.3026\n",
      "Epoch [61/80], Step [100/500] Loss: 2.3026\n",
      "Epoch [61/80], Step [200/500] Loss: 2.3026\n",
      "Epoch [61/80], Step [300/500] Loss: 2.3025\n",
      "Epoch [61/80], Step [400/500] Loss: 2.3026\n",
      "Epoch [61/80], Step [500/500] Loss: 2.3026\n",
      "Epoch [62/80], Step [100/500] Loss: 2.3026\n",
      "Epoch [62/80], Step [200/500] Loss: 2.3026\n",
      "Epoch [62/80], Step [300/500] Loss: 2.3026\n",
      "Epoch [62/80], Step [400/500] Loss: 2.3027\n",
      "Epoch [62/80], Step [500/500] Loss: 2.3026\n",
      "Epoch [63/80], Step [100/500] Loss: 2.3026\n",
      "Epoch [63/80], Step [200/500] Loss: 2.3027\n",
      "Epoch [63/80], Step [300/500] Loss: 2.3025\n",
      "Epoch [63/80], Step [400/500] Loss: 2.3027\n",
      "Epoch [63/80], Step [500/500] Loss: 2.3026\n",
      "Epoch [64/80], Step [100/500] Loss: 2.3026\n",
      "Epoch [64/80], Step [200/500] Loss: 2.3026\n",
      "Epoch [64/80], Step [300/500] Loss: 2.3026\n",
      "Epoch [64/80], Step [400/500] Loss: 2.3025\n",
      "Epoch [64/80], Step [500/500] Loss: 2.3026\n",
      "Epoch [65/80], Step [100/500] Loss: 2.3026\n",
      "Epoch [65/80], Step [200/500] Loss: 2.3026\n",
      "Epoch [65/80], Step [300/500] Loss: 2.3026\n",
      "Epoch [65/80], Step [400/500] Loss: 2.3027\n",
      "Epoch [65/80], Step [500/500] Loss: 2.3026\n",
      "Epoch [66/80], Step [100/500] Loss: 2.3026\n",
      "Epoch [66/80], Step [200/500] Loss: 2.3025\n",
      "Epoch [66/80], Step [300/500] Loss: 2.3027\n",
      "Epoch [66/80], Step [400/500] Loss: 2.3026\n",
      "Epoch [66/80], Step [500/500] Loss: 2.3026\n",
      "Epoch [67/80], Step [100/500] Loss: 2.3026\n",
      "Epoch [67/80], Step [200/500] Loss: 2.3026\n",
      "Epoch [67/80], Step [300/500] Loss: 2.3026\n",
      "Epoch [67/80], Step [400/500] Loss: 2.3026\n",
      "Epoch [67/80], Step [500/500] Loss: 2.3026\n",
      "Epoch [68/80], Step [100/500] Loss: 2.3026\n",
      "Epoch [68/80], Step [200/500] Loss: 2.3025\n",
      "Epoch [68/80], Step [300/500] Loss: 2.3025\n",
      "Epoch [68/80], Step [400/500] Loss: 2.3027\n",
      "Epoch [68/80], Step [500/500] Loss: 2.3026\n",
      "Epoch [69/80], Step [100/500] Loss: 2.3026\n",
      "Epoch [69/80], Step [200/500] Loss: 2.3026\n",
      "Epoch [69/80], Step [300/500] Loss: 2.3025\n",
      "Epoch [69/80], Step [400/500] Loss: 2.3026\n",
      "Epoch [69/80], Step [500/500] Loss: 2.3026\n",
      "Epoch [70/80], Step [100/500] Loss: 2.3026\n",
      "Epoch [70/80], Step [200/500] Loss: 2.3026\n",
      "Epoch [70/80], Step [300/500] Loss: 2.3027\n",
      "Epoch [70/80], Step [400/500] Loss: 2.3026\n",
      "Epoch [70/80], Step [500/500] Loss: 2.3026\n",
      "Epoch [71/80], Step [100/500] Loss: 2.3026\n",
      "Epoch [71/80], Step [200/500] Loss: 2.3025\n",
      "Epoch [71/80], Step [300/500] Loss: 2.3027\n",
      "Epoch [71/80], Step [400/500] Loss: 2.3025\n",
      "Epoch [71/80], Step [500/500] Loss: 2.3026\n",
      "Epoch [72/80], Step [100/500] Loss: 2.3026\n",
      "Epoch [72/80], Step [200/500] Loss: 2.3026\n",
      "Epoch [72/80], Step [300/500] Loss: 2.3026\n",
      "Epoch [72/80], Step [400/500] Loss: 2.3025\n",
      "Epoch [72/80], Step [500/500] Loss: 2.3026\n",
      "Epoch [73/80], Step [100/500] Loss: 2.3026\n",
      "Epoch [73/80], Step [200/500] Loss: 2.3026\n",
      "Epoch [73/80], Step [300/500] Loss: 2.3027\n",
      "Epoch [73/80], Step [400/500] Loss: 2.3026\n",
      "Epoch [73/80], Step [500/500] Loss: 2.3026\n",
      "Epoch [74/80], Step [100/500] Loss: 2.3027\n",
      "Epoch [74/80], Step [200/500] Loss: 2.3025\n",
      "Epoch [74/80], Step [300/500] Loss: 2.3027\n",
      "Epoch [74/80], Step [400/500] Loss: 2.3026\n",
      "Epoch [74/80], Step [500/500] Loss: 2.3026\n",
      "Epoch [75/80], Step [100/500] Loss: 2.3027\n",
      "Epoch [75/80], Step [200/500] Loss: 2.3026\n",
      "Epoch [75/80], Step [300/500] Loss: 2.3027\n",
      "Epoch [75/80], Step [400/500] Loss: 2.3026\n",
      "Epoch [75/80], Step [500/500] Loss: 2.3026\n",
      "Epoch [76/80], Step [100/500] Loss: 2.3026\n",
      "Epoch [76/80], Step [200/500] Loss: 2.3025\n",
      "Epoch [76/80], Step [300/500] Loss: 2.3026\n",
      "Epoch [76/80], Step [400/500] Loss: 2.3026\n",
      "Epoch [76/80], Step [500/500] Loss: 2.3026\n",
      "Epoch [77/80], Step [100/500] Loss: 2.3027\n",
      "Epoch [77/80], Step [200/500] Loss: 2.3026\n",
      "Epoch [77/80], Step [300/500] Loss: 2.3026\n"
     ]
    },
    {
     "name": "stdout",
     "output_type": "stream",
     "text": [
      "Epoch [77/80], Step [400/500] Loss: 2.3026\n",
      "Epoch [77/80], Step [500/500] Loss: 2.3026\n",
      "Epoch [78/80], Step [100/500] Loss: 2.3026\n",
      "Epoch [78/80], Step [200/500] Loss: 2.3026\n",
      "Epoch [78/80], Step [300/500] Loss: 2.3026\n",
      "Epoch [78/80], Step [400/500] Loss: 2.3026\n",
      "Epoch [78/80], Step [500/500] Loss: 2.3026\n",
      "Epoch [79/80], Step [100/500] Loss: 2.3025\n",
      "Epoch [79/80], Step [200/500] Loss: 2.3025\n",
      "Epoch [79/80], Step [300/500] Loss: 2.3026\n",
      "Epoch [79/80], Step [400/500] Loss: 2.3025\n",
      "Epoch [79/80], Step [500/500] Loss: 2.3026\n",
      "Epoch [80/80], Step [100/500] Loss: 2.3026\n",
      "Epoch [80/80], Step [200/500] Loss: 2.3026\n",
      "Epoch [80/80], Step [300/500] Loss: 2.3026\n",
      "Epoch [80/80], Step [400/500] Loss: 2.3025\n",
      "Epoch [80/80], Step [500/500] Loss: 2.3026\n"
     ]
    }
   ],
   "source": [
    "for epoch in range(num_epochs):\n",
    "    for i, (images, labels) in enumerate(train_loader):\n",
    "        images = images.resize_(100, 1, 32, 32).to(device)\n",
    "        labels = labels.to(device)\n",
    "\n",
    "        # Forward pass\n",
    "        outputs = model(images)\n",
    "        loss = error(outputs, labels)\n",
    "\n",
    "        # Backward and optimize\n",
    "        optimizer.zero_grad()\n",
    "        loss.backward()\n",
    "        optimizer.step()\n",
    "\n",
    "        if (i+1) % 100 == 0:\n",
    "            print (\"Epoch [{}/{}], Step [{}/{}] Loss: {:.4f}\"\n",
    "                   .format(epoch+1, num_epochs, i+1, total_step, loss.item()))\n",
    "\n",
    "    # Decay learning rate\n",
    "    if (epoch+1) % 20 == 0:\n",
    "        curr_lr /= 3\n",
    "        update_lr(optimizer, curr_lr)"
   ]
  },
  {
   "cell_type": "code",
   "execution_count": 36,
   "metadata": {},
   "outputs": [
    {
     "name": "stdout",
     "output_type": "stream",
     "text": [
      "Accuracy of the model on the test images: 10.24 %\n"
     ]
    }
   ],
   "source": [
    "model.eval()\n",
    "with torch.no_grad():\n",
    "    correct = 0\n",
    "    total = 0\n",
    "    for images, labels in test_loader:\n",
    "        images = images.resize_(100, 1, 32, 32).to(device)\n",
    "        labels = labels.to(device)\n",
    "        outputs = model(images)\n",
    "        _, predicted = torch.max(outputs.data, 1)\n",
    "        total += labels.size(0)\n",
    "        correct += (predicted == labels).sum().item()\n",
    "\n",
    "    print('Accuracy of the model on the test images: {} %'.format(100 * correct / total))"
   ]
  },
  {
   "cell_type": "code",
   "execution_count": 44,
   "metadata": {},
   "outputs": [
    {
     "name": "stdout",
     "output_type": "stream",
     "text": [
      "Accuracy of the model on the test images: 10.0 %\n"
     ]
    }
   ],
   "source": [
    "test_model(test_loader, model)"
   ]
  },
  {
   "cell_type": "code",
   "execution_count": 77,
   "metadata": {},
   "outputs": [],
   "source": [
    "torch.save(model.state_dict(), 'resnet_cifar10_v1.ckpt')"
   ]
  },
  {
   "cell_type": "markdown",
   "metadata": {},
   "source": [
    "***\n",
    "<span style=\"color: blue\"><b>Study session observations: </b></span>\n",
    "\n",
    "<!-- #### 16/07/2020:\n",
    "Attempting to use the same resnet model to train CIFAR10. -->\n",
    "\n",
    "#### 17/07/2020-20/07/2020:\n",
    "Both models (with 3 layers) had a accuracy of ~10%. "
   ]
  }
 ],
 "metadata": {
  "kernelspec": {
   "display_name": "Python 3",
   "language": "python",
   "name": "python3"
  },
  "language_info": {
   "codemirror_mode": {
    "name": "ipython",
    "version": 3
   },
   "file_extension": ".py",
   "mimetype": "text/x-python",
   "name": "python",
   "nbconvert_exporter": "python",
   "pygments_lexer": "ipython3",
   "version": "3.8.2"
  }
 },
 "nbformat": 4,
 "nbformat_minor": 4
}
