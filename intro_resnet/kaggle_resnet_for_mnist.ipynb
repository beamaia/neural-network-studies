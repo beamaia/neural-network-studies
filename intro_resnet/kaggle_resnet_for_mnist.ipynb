{
 "cells": [
  {
   "cell_type": "markdown",
   "metadata": {},
   "source": [
    "Following [ResNet for MNIST with pytorch](https://www.kaggle.com/readilen/resnet-for-mnist-with-pytorch?scriptVersionId=6942243), using the MNIST dataset from torchvision.datasets instead of csv files."
   ]
  },
  {
   "cell_type": "code",
   "execution_count": 51,
   "metadata": {},
   "outputs": [],
   "source": [
    "import torch\n",
    "import torch.nn as nn\n",
    "import torchvision.transforms as transforms\n",
    "from torch.autograd import Variable\n",
    "from sklearn.model_selection import train_test_split\n",
    "from torchvision.datasets import MNIST\n",
    "import numpy as np\n",
    "import matplotlib.pyplot as plt"
   ]
  },
  {
   "cell_type": "code",
   "execution_count": 12,
   "metadata": {},
   "outputs": [],
   "source": [
    "mnist_data = MNIST(root='../mnist/')"
   ]
  },
  {
   "cell_type": "code",
   "execution_count": 13,
   "metadata": {},
   "outputs": [
    {
     "data": {
      "text/plain": [
       "Dataset MNIST\n",
       "    Number of datapoints: 60000\n",
       "    Root location: ../mnist/\n",
       "    Split: Train"
      ]
     },
     "execution_count": 13,
     "metadata": {},
     "output_type": "execute_result"
    }
   ],
   "source": [
    "mnist_data"
   ]
  },
  {
   "cell_type": "code",
   "execution_count": 18,
   "metadata": {},
   "outputs": [],
   "source": [
    "x_data = mnist_data.data/255."
   ]
  },
  {
   "cell_type": "code",
   "execution_count": 22,
   "metadata": {},
   "outputs": [],
   "source": [
    "y_data = mnist_data.targets"
   ]
  },
  {
   "cell_type": "code",
   "execution_count": 23,
   "metadata": {},
   "outputs": [],
   "source": [
    "features_train, features_test, targets_train, targets_test = train_test_split(x_data, y_data, test_size = 0.2, random_state = 42)"
   ]
  },
  {
   "cell_type": "code",
   "execution_count": 34,
   "metadata": {},
   "outputs": [
    {
     "name": "stdout",
     "output_type": "stream",
     "text": [
      "Features train size: [48000, 28, 28]\n",
      "Features test size: [12000, 28, 28]\n",
      "Targets train size: [48000]\n",
      "Targets test size: [12000]\n"
     ]
    }
   ],
   "source": [
    "print(f'Features train size: {list(features_train.size())}')\n",
    "print(f'Features test size: {list(features_test.size())}')\n",
    "print(f'Targets train size: {list(targets_train.size())}')\n",
    "print(f'Targets test size: {list(targets_test.size())}')"
   ]
  },
  {
   "cell_type": "code",
   "execution_count": 38,
   "metadata": {},
   "outputs": [
    {
     "data": {
      "text/plain": [
       "torch.float32"
      ]
     },
     "execution_count": 38,
     "metadata": {},
     "output_type": "execute_result"
    }
   ],
   "source": [
    "features_test.dtype"
   ]
  },
  {
   "cell_type": "code",
   "execution_count": 39,
   "metadata": {},
   "outputs": [],
   "source": [
    "batch_size = 100\n",
    "n_iters = 10000\n",
    "num_epochs = n_iters/ (len(features_train) / batch_size)"
   ]
  },
  {
   "cell_type": "code",
   "execution_count": 43,
   "metadata": {},
   "outputs": [
    {
     "data": {
      "text/plain": [
       "20"
      ]
     },
     "execution_count": 43,
     "metadata": {},
     "output_type": "execute_result"
    }
   ],
   "source": [
    "num_epochs = int(num_epochs)\n",
    "num_epochs"
   ]
  },
  {
   "cell_type": "code",
   "execution_count": 45,
   "metadata": {},
   "outputs": [],
   "source": [
    "train = torch.utils.data.TensorDataset(features_train, targets_train)"
   ]
  },
  {
   "cell_type": "code",
   "execution_count": 46,
   "metadata": {},
   "outputs": [],
   "source": [
    "test = torch.utils.data.TensorDataset(features_test, targets_test)"
   ]
  },
  {
   "cell_type": "code",
   "execution_count": 48,
   "metadata": {},
   "outputs": [],
   "source": [
    "train_loader = torch.utils.data.DataLoader(train, batch_size = batch_size, shuffle=False)\n",
    "test_loader = torch.utils.data.DataLoader(test, batch_size = batch_size, shuffle=False)"
   ]
  },
  {
   "cell_type": "code",
   "execution_count": 58,
   "metadata": {},
   "outputs": [
    {
     "data": {
      "image/png": "[encoded data removed]",
      "text/plain": [
       "<Figure size 432x288 with 1 Axes>"
      ]
     },
     "metadata": {
      "needs_background": "light"
     },
     "output_type": "display_data"
    }
   ],
   "source": [
    "plt.imshow(features_train[25])\n",
    "plt.axis(\"off\")\n",
    "plt.title(\"Number \" + str(int(targets_train[25])))\n",
    "plt.show() "
   ]
  },
  {
   "cell_type": "code",
   "execution_count": 59,
   "metadata": {},
   "outputs": [],
   "source": [
    "def conv3x3(in_channels, out_channels, stride=1):\n",
    "    return nn.Conv2d(in_channels, \n",
    "                     out_channels, \n",
    "                     kernel_size=3, \n",
    "                     stride=stride, \n",
    "                     padding=1, \n",
    "                     bias=False)"
   ]
  },
  {
   "cell_type": "code",
   "execution_count": 94,
   "metadata": {},
   "outputs": [],
   "source": [
    "class ResidualBlock(nn.Module):\n",
    "    def __init__(self, in_channels, out_channels, stride=1, downsample=None):\n",
    "        super(ResidualBlock, self).__init__()\n",
    "        self.conv1 = conv3x3(in_channels, out_channels, stride)\n",
    "        self.bn1 = nn.BatchNorm2d(out_channels)\n",
    "        self.relu = nn.ReLU(inplace=True)\n",
    "        self.conv2 = conv3x3(out_channels, out_channels)\n",
    "        self.bn2 = nn.BatchNorm2d(out_channels)\n",
    "        self.downsample = downsample\n",
    "    \n",
    "    def forward(self, x):\n",
    "        residual = x\n",
    "        out = self.conv1(x)\n",
    "        out - self.bn1(out)\n",
    "        out = self.relu(out)\n",
    "        out = self.conv2(out)\n",
    "        out = self.bn2(out)\n",
    "        \n",
    "        if self.downsample:\n",
    "            residual = self.downsample(x)\n",
    "        \n",
    "        out += residual\n",
    "        out = self.relu(out)\n",
    "        \n",
    "        return out"
   ]
  },
  {
   "cell_type": "code",
   "execution_count": null,
   "metadata": {},
   "outputs": [],
   "source": [
    "class ResNet(nn.Module):\n",
    "    def __init__(self, block, layers, num_classes=10):\n",
    "        super(ResNet, self).__init__()\n",
    "        self.in_channels = 16\n",
    "        self.conv = conv3x3(1, 16)\n",
    "        self.bn =  nn.BatchNorm2d(16)\n",
    "        self.relu = nn.ReLU(inplace=True)\n",
    "        self.layer1 = self.make_layer(block, 16, layers[0])\n",
    "        self.layer2 = self.make_layer(block, 32, layers[0], 2)\n",
    "        self.layer3 = self.make_layer(block, 64, layers[1], 2)\n",
    "        self.avg_pool = nn.AvgPool2d(8)\n",
    "        self.fc = nn.Linear(64, num_classes)\n",
    "        \n",
    "    \n",
    "    def make_layer(self, block, out_channels, blocks, stride=1):\n",
    "            downsample = None\n",
    "            \n",
    "            if (stride != 1) or (self.in_channels != out_channels):\n",
    "                downsample = nn.Sequential(\n",
    "                    conv3x3(self.in_channels, out_channels, stride=stride),\n",
    "                    nn.BatchNorm2d(out_channels))\n",
    "                \n",
    "            layers = []\n",
    "            layers.append(block(self.in_channels, out_channels, stride, downsample))\n",
    "            self.in_channels = out_channels\n",
    "            \n",
    "            for i in range(1, blocks):\n",
    "                layers.append(block(out_channels, out_channels))\n",
    "            return nn.Sequential(*layers)\n",
    "        \n",
    "    \n",
    "    def forward(self, x):\n",
    "        out = self.conv(x)\n",
    "        out = self.bn(out)\n",
    "        out = self.layer1(out)\n",
    "        out = self.layer2(out)\n",
    "        out = self.layer3(out)\n",
    "        out = self.avg_pool(out)\n",
    "        out = out.view(out.size(0), -1)\n",
    "        out = self.fc(out)\n",
    "        \n",
    "        return out"
   ]
  },
  {
   "cell_type": "code",
   "execution_count": 96,
   "metadata": {},
   "outputs": [],
   "source": [
    "net_args = {\n",
    "    \"block\": ResidualBlock,\n",
    "    \"layers\": [2,2,2,2]\n",
    "}\n",
    "\n",
    "model = ResNet(**net_args)"
   ]
  },
  {
   "cell_type": "code",
   "execution_count": 97,
   "metadata": {},
   "outputs": [],
   "source": [
    "error = nn.CrossEntropyLoss()"
   ]
  },
  {
   "cell_type": "code",
   "execution_count": 98,
   "metadata": {},
   "outputs": [],
   "source": [
    "learning_rate = 0.05\n",
    "optimizer = torch.optim.Adam(model.parameters(), lr=learning_rate)"
   ]
  },
  {
   "cell_type": "code",
   "execution_count": 99,
   "metadata": {},
   "outputs": [],
   "source": [
    "loss_list = []\n",
    "iteration_list = []\n",
    "accuracy_list = []\n",
    "count = 0"
   ]
  },
  {
   "cell_type": "code",
   "execution_count": 111,
   "metadata": {
    "scrolled": true
   },
   "outputs": [
    {
     "data": {
      "text/plain": [
       "100"
      ]
     },
     "execution_count": 111,
     "metadata": {},
     "output_type": "execute_result"
    }
   ],
   "source": [
    "train_loader.batch_size"
   ]
  },
  {
   "cell_type": "code",
   "execution_count": 112,
   "metadata": {},
   "outputs": [
    {
     "data": {
      "text/plain": [
       "<torch.utils.data.dataset.TensorDataset at 0x7fb0f8133280>"
      ]
     },
     "execution_count": 112,
     "metadata": {},
     "output_type": "execute_result"
    }
   ],
   "source": [
    "train_loader.dataset"
   ]
  },
  {
   "cell_type": "code",
   "execution_count": 113,
   "metadata": {},
   "outputs": [
    {
     "name": "stdout",
     "output_type": "stream",
     "text": [
      "Iteration: 2250  Loss: 2.2994604110717773  Accuracy: 9.666666984558105 %\n",
      "Iteration: 2500  Loss: 2.3086862564086914  Accuracy: 9.783333778381348 %\n",
      "Iteration: 2750  Loss: 2.2945075035095215  Accuracy: 9.800000190734863 %\n",
      "Iteration: 3000  Loss: 2.302509069442749  Accuracy: 10.824999809265137 %\n",
      "Iteration: 3250  Loss: 2.3074557781219482  Accuracy: 10.158333778381348 %\n",
      "Iteration: 3500  Loss: 2.30133056640625  Accuracy: 10.158333778381348 %\n",
      "Iteration: 3750  Loss: 2.3018431663513184  Accuracy: 11.016666412353516 %\n",
      "Iteration: 4000  Loss: 2.306149482727051  Accuracy: 11.016666412353516 %\n",
      "Iteration: 4250  Loss: 2.3027260303497314  Accuracy: 10.824999809265137 %\n",
      "Iteration: 4500  Loss: 2.3074378967285156  Accuracy: 11.016666412353516 %\n",
      "Iteration: 4750  Loss: 2.296319007873535  Accuracy: 11.016666412353516 %\n",
      "Iteration: 5000  Loss: 2.311678886413574  Accuracy: 10.158333778381348 %\n",
      "Iteration: 5250  Loss: 2.293056011199951  Accuracy: 9.791666984558105 %\n",
      "Iteration: 5500  Loss: 2.302060127258301  Accuracy: 10.824999809265137 %\n",
      "Iteration: 5750  Loss: 2.307410955429077  Accuracy: 11.016666412353516 %\n",
      "Iteration: 6000  Loss: 2.304231643676758  Accuracy: 9.791666984558105 %\n",
      "Iteration: 6250  Loss: 2.318359613418579  Accuracy: 11.016666412353516 %\n",
      "Iteration: 6500  Loss: 2.314941167831421  Accuracy: 9.800000190734863 %\n",
      "Iteration: 6750  Loss: 2.2943100929260254  Accuracy: 11.016666412353516 %\n",
      "Iteration: 7000  Loss: 2.282406806945801  Accuracy: 9.666666984558105 %\n",
      "Iteration: 7250  Loss: 2.2960901260375977  Accuracy: 10.824999809265137 %\n",
      "Iteration: 7500  Loss: 2.3232717514038086  Accuracy: 11.016666412353516 %\n",
      "Iteration: 7750  Loss: 2.2987711429595947  Accuracy: 9.666666984558105 %\n",
      "Iteration: 8000  Loss: 2.295541286468506  Accuracy: 9.666666984558105 %\n",
      "Iteration: 8250  Loss: 2.3052279949188232  Accuracy: 11.016666412353516 %\n"
     ]
    },
    {
     "ename": "KeyboardInterrupt",
     "evalue": "",
     "output_type": "error",
     "traceback": [
      "\u001b[0;31m---------------------------------------------------------------------------\u001b[0m",
      "\u001b[0;31mKeyboardInterrupt\u001b[0m                         Traceback (most recent call last)",
      "\u001b[0;32m<ipython-input-113-0561a56942d5>\u001b[0m in \u001b[0;36m<module>\u001b[0;34m\u001b[0m\n\u001b[1;32m      7\u001b[0m         \u001b[0moutputs\u001b[0m \u001b[0;34m=\u001b[0m \u001b[0mmodel\u001b[0m\u001b[0;34m(\u001b[0m\u001b[0mtrain\u001b[0m\u001b[0;34m)\u001b[0m\u001b[0;34m\u001b[0m\u001b[0;34m\u001b[0m\u001b[0m\n\u001b[1;32m      8\u001b[0m         \u001b[0mloss\u001b[0m \u001b[0;34m=\u001b[0m \u001b[0merror\u001b[0m\u001b[0;34m(\u001b[0m\u001b[0moutputs\u001b[0m\u001b[0;34m,\u001b[0m \u001b[0mlabels\u001b[0m\u001b[0;34m)\u001b[0m\u001b[0;34m\u001b[0m\u001b[0;34m\u001b[0m\u001b[0m\n\u001b[0;32m----> 9\u001b[0;31m         \u001b[0mloss\u001b[0m\u001b[0;34m.\u001b[0m\u001b[0mbackward\u001b[0m\u001b[0;34m(\u001b[0m\u001b[0;34m)\u001b[0m\u001b[0;34m\u001b[0m\u001b[0;34m\u001b[0m\u001b[0m\n\u001b[0m\u001b[1;32m     10\u001b[0m         \u001b[0moptimizer\u001b[0m\u001b[0;34m.\u001b[0m\u001b[0mstep\u001b[0m\u001b[0;34m(\u001b[0m\u001b[0;34m)\u001b[0m\u001b[0;34m\u001b[0m\u001b[0;34m\u001b[0m\u001b[0m\n\u001b[1;32m     11\u001b[0m \u001b[0;34m\u001b[0m\u001b[0m\n",
      "\u001b[0;32m~/.local/lib/python3.8/site-packages/torch/tensor.py\u001b[0m in \u001b[0;36mbackward\u001b[0;34m(self, gradient, retain_graph, create_graph)\u001b[0m\n\u001b[1;32m    196\u001b[0m                 \u001b[0mproducts\u001b[0m\u001b[0;34m.\u001b[0m \u001b[0mDefaults\u001b[0m \u001b[0mto\u001b[0m\u001b[0;31m \u001b[0m\u001b[0;31m`\u001b[0m\u001b[0;31m`\u001b[0m\u001b[0;32mFalse\u001b[0m\u001b[0;31m`\u001b[0m\u001b[0;31m`\u001b[0m\u001b[0;34m.\u001b[0m\u001b[0;34m\u001b[0m\u001b[0;34m\u001b[0m\u001b[0m\n\u001b[1;32m    197\u001b[0m         \"\"\"\n\u001b[0;32m--> 198\u001b[0;31m         \u001b[0mtorch\u001b[0m\u001b[0;34m.\u001b[0m\u001b[0mautograd\u001b[0m\u001b[0;34m.\u001b[0m\u001b[0mbackward\u001b[0m\u001b[0;34m(\u001b[0m\u001b[0mself\u001b[0m\u001b[0;34m,\u001b[0m \u001b[0mgradient\u001b[0m\u001b[0;34m,\u001b[0m \u001b[0mretain_graph\u001b[0m\u001b[0;34m,\u001b[0m \u001b[0mcreate_graph\u001b[0m\u001b[0;34m)\u001b[0m\u001b[0;34m\u001b[0m\u001b[0;34m\u001b[0m\u001b[0m\n\u001b[0m\u001b[1;32m    199\u001b[0m \u001b[0;34m\u001b[0m\u001b[0m\n\u001b[1;32m    200\u001b[0m     \u001b[0;32mdef\u001b[0m \u001b[0mregister_hook\u001b[0m\u001b[0;34m(\u001b[0m\u001b[0mself\u001b[0m\u001b[0;34m,\u001b[0m \u001b[0mhook\u001b[0m\u001b[0;34m)\u001b[0m\u001b[0;34m:\u001b[0m\u001b[0;34m\u001b[0m\u001b[0;34m\u001b[0m\u001b[0m\n",
      "\u001b[0;32m~/.local/lib/python3.8/site-packages/torch/autograd/__init__.py\u001b[0m in \u001b[0;36mbackward\u001b[0;34m(tensors, grad_tensors, retain_graph, create_graph, grad_variables)\u001b[0m\n\u001b[1;32m     96\u001b[0m         \u001b[0mretain_graph\u001b[0m \u001b[0;34m=\u001b[0m \u001b[0mcreate_graph\u001b[0m\u001b[0;34m\u001b[0m\u001b[0;34m\u001b[0m\u001b[0m\n\u001b[1;32m     97\u001b[0m \u001b[0;34m\u001b[0m\u001b[0m\n\u001b[0;32m---> 98\u001b[0;31m     Variable._execution_engine.run_backward(\n\u001b[0m\u001b[1;32m     99\u001b[0m         \u001b[0mtensors\u001b[0m\u001b[0;34m,\u001b[0m \u001b[0mgrad_tensors\u001b[0m\u001b[0;34m,\u001b[0m \u001b[0mretain_graph\u001b[0m\u001b[0;34m,\u001b[0m \u001b[0mcreate_graph\u001b[0m\u001b[0;34m,\u001b[0m\u001b[0;34m\u001b[0m\u001b[0;34m\u001b[0m\u001b[0m\n\u001b[1;32m    100\u001b[0m         allow_unreachable=True)  # allow_unreachable flag\n",
      "\u001b[0;31mKeyboardInterrupt\u001b[0m: "
     ]
    }
   ],
   "source": [
    "for epoch in range(num_epochs):\n",
    "    for i, (images, labels) in enumerate(train_loader):\n",
    "        train = Variable(images.resize_(batch_size, 1, 32, 32))\n",
    "        labels = Variable(labels)\n",
    "        \n",
    "        optimizer.zero_grad()\n",
    "        outputs = model(train)\n",
    "        loss = error(outputs, labels)\n",
    "        loss.backward()\n",
    "        optimizer.step()\n",
    "        \n",
    "        count += 1\n",
    "        \n",
    "        if count % 250 == 0:\n",
    "            correct = 0\n",
    "            total = 0\n",
    "            \n",
    "            for images, labels in test_loader:\n",
    "                images = Variable(images.resize_(batch_size, 1, 32, 32))\n",
    "                outputs = model(images)\n",
    "                \n",
    "                predicted = torch.max(outputs.data, 1)[1]\n",
    "                \n",
    "                total += labels.size(0)\n",
    "                correct += (predicted == labels).sum()\n",
    "\n",
    "            accuracy = 100 * correct/float(total)\n",
    "            loss_list.append(loss.data)\n",
    "            iteration_list.append(count)\n",
    "            accuracy_list.append(accuracy)\n",
    "            \n",
    "            print(\"Iteration: {}  Loss: {}  Accuracy: {} %\".format(count, loss.data.item(), accuracy))\n",
    "        "
   ]
  },
  {
   "cell_type": "markdown",
   "metadata": {},
   "source": [
    "```\n",
    "Iteration: 2250  Loss: 2.2994604110717773  Accuracy: 9.666666984558105 %\n",
    "Iteration: 2500  Loss: 2.3086862564086914  Accuracy: 9.783333778381348 %\n",
    "Iteration: 2750  Loss: 2.2945075035095215  Accuracy: 9.800000190734863 %\n",
    "Iteration: 3000  Loss: 2.302509069442749  Accuracy: 10.824999809265137 %\n",
    "Iteration: 3250  Loss: 2.3074557781219482  Accuracy: 10.158333778381348 %\n",
    "Iteration: 3500  Loss: 2.30133056640625  Accuracy: 10.158333778381348 %\n",
    "Iteration: 3750  Loss: 2.3018431663513184  Accuracy: 11.016666412353516 %\n",
    "Iteration: 4000  Loss: 2.306149482727051  Accuracy: 11.016666412353516 %\n",
    "Iteration: 4250  Loss: 2.3027260303497314  Accuracy: 10.824999809265137 %\n",
    "Iteration: 4500  Loss: 2.3074378967285156  Accuracy: 11.016666412353516 %\n",
    "Iteration: 4750  Loss: 2.296319007873535  Accuracy: 11.016666412353516 %\n",
    "Iteration: 5000  Loss: 2.311678886413574  Accuracy: 10.158333778381348 %\n",
    "Iteration: 5250  Loss: 2.293056011199951  Accuracy: 9.791666984558105 %\n",
    "Iteration: 5500  Loss: 2.302060127258301  Accuracy: 10.824999809265137 %\n",
    "Iteration: 5750  Loss: 2.307410955429077  Accuracy: 11.016666412353516 %\n",
    "Iteration: 6000  Loss: 2.304231643676758  Accuracy: 9.791666984558105 %\n",
    "Iteration: 6250  Loss: 2.318359613418579  Accuracy: 11.016666412353516 %\n",
    "Iteration: 6500  Loss: 2.314941167831421  Accuracy: 9.800000190734863 %\n",
    "Iteration: 6750  Loss: 2.2943100929260254  Accuracy: 11.016666412353516 %\n",
    "Iteration: 7000  Loss: 2.282406806945801  Accuracy: 9.666666984558105 %\n",
    "Iteration: 7250  Loss: 2.2960901260375977  Accuracy: 10.824999809265137 %\n",
    "Iteration: 7500  Loss: 2.3232717514038086  Accuracy: 11.016666412353516 %\n",
    "Iteration: 7750  Loss: 2.2987711429595947  Accuracy: 9.666666984558105 %\n",
    "Iteration: 8000  Loss: 2.295541286468506  Accuracy: 9.666666984558105 %\n",
    "Iteration: 8250  Loss: 2.3052279949188232  Accuracy: 11.016666412353516 %\n",
    "```"
   ]
  },
  {
   "cell_type": "code",
   "execution_count": null,
   "metadata": {},
   "outputs": [],
   "source": []
  }
 ],
 "metadata": {
  "kernelspec": {
   "display_name": "Python 3",
   "language": "python",
   "name": "python3"
  },
  "language_info": {
   "codemirror_mode": {
    "name": "ipython",
    "version": 3
   },
   "file_extension": ".py",
   "mimetype": "text/x-python",
   "name": "python",
   "nbconvert_exporter": "python",
   "pygments_lexer": "ipython3",
   "version": "3.8.2"
  }
 },
 "nbformat": 4,
 "nbformat_minor": 4
}
